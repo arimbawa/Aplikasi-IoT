{
 "cells": [
  {
   "cell_type": "code",
   "execution_count": 3,
   "id": "a9241f69-3854-4115-9163-05dad43729eb",
   "metadata": {},
   "outputs": [
    {
     "name": "stdout",
     "output_type": "stream",
     "text": [
      "POST Response: {'data': {'humidity': 56, 'temperature': 22}, 'status': 'Data received'}\n",
      "GET Response: {'data': {'humidity': 56, 'temperature': 22}, 'status': 'Device active'}\n"
     ]
    }
   ],
   "source": [
    "# =============================\n",
    "# 1b. HTTP CLIENT\n",
    "# =============================\n",
    "\n",
    "import requests\n",
    "\n",
    "# Kirim data sensor ke server Flask\n",
    "url = \"http://127.0.0.1:5001/sensor\"\n",
    "data = {\"temperature\": 22, \"humidity\": 56}\n",
    "response = requests.post(url, json=data)\n",
    "print(\"POST Response:\", response.json())\n",
    "\n",
    "# Ambil status dari server Flask\n",
    "url_status = \"http://127.0.0.1:5001/status\"\n",
    "response = requests.get(url_status)\n",
    "print(\"GET Response:\", response.json())"
   ]
  },
  {
   "cell_type": "code",
   "execution_count": 4,
   "id": "50a63258-dafd-4ee1-be33-29ed8148b745",
   "metadata": {},
   "outputs": [
    {
     "name": "stdout",
     "output_type": "stream",
     "text": [
      "GET Response: {'data': {'humidity': 56, 'temperature': 22}, 'status': 'Device active'}\n"
     ]
    }
   ],
   "source": [
    "url_status = \"http://127.0.0.1:5001/status\"\n",
    "response = requests.get(url_status)\n",
    "print(\"GET Response:\", response.json())"
   ]
  },
  {
   "cell_type": "code",
   "execution_count": null,
   "id": "dddc0af6-171f-4532-9a63-4a85997e02bb",
   "metadata": {},
   "outputs": [],
   "source": []
  }
 ],
 "metadata": {
  "kernelspec": {
   "display_name": "Python 3 (ipykernel)",
   "language": "python",
   "name": "python3"
  },
  "language_info": {
   "codemirror_mode": {
    "name": "ipython",
    "version": 3
   },
   "file_extension": ".py",
   "mimetype": "text/x-python",
   "name": "python",
   "nbconvert_exporter": "python",
   "pygments_lexer": "ipython3",
   "version": "3.13.3"
  }
 },
 "nbformat": 4,
 "nbformat_minor": 5
}
