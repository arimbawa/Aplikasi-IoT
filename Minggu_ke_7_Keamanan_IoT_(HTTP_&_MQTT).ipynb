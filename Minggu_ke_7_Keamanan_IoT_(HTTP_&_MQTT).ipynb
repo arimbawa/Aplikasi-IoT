{
  "nbformat": 4,
  "nbformat_minor": 0,
  "metadata": {
    "colab": {
      "provenance": [],
      "authorship_tag": "ABX9TyN/g6VEuKON3OWMOgTRBZu0",
      "include_colab_link": true
    },
    "kernelspec": {
      "name": "python3",
      "display_name": "Python 3"
    },
    "language_info": {
      "name": "python"
    }
  },
  "cells": [
    {
      "cell_type": "markdown",
      "metadata": {
        "id": "view-in-github",
        "colab_type": "text"
      },
      "source": [
        "<a href=\"https://colab.research.google.com/github/arimbawa/Aplikasi-IoT/blob/main/Minggu_ke_7_Keamanan_IoT_(HTTP_%26_MQTT).ipynb\" target=\"_parent\"><img src=\"https://colab.research.google.com/assets/colab-badge.svg\" alt=\"Open In Colab\"/></a>"
      ]
    },
    {
      "cell_type": "markdown",
      "source": [
        "# **Minggu ke-7: Keamanan IoT (HTTP & MQTT)**\n",
        "**Tujuan Pembelajaran:**\n",
        "\n",
        "1. Mahasiswa memahami risiko keamanan pada komunikasi IoT.\n",
        "2. Mahasiswa dapat menerapkan HTTPS (SSL/TLS) pada komunikasi HTTP.\n",
        "3. Mahasiswa dapat mengamankan MQTT dengan username-password authentication.\n",
        "4. Mahasiswa mengetahui praktik dasar secure coding dalam aplikasi IoT berbasis Flask & MQTT."
      ],
      "metadata": {
        "id": "TrFUViHRTOvM"
      }
    },
    {
      "cell_type": "markdown",
      "source": [
        "# Praktik di Google Colab"
      ],
      "metadata": {
        "id": "B39gpXcBTftc"
      }
    },
    {
      "cell_type": "markdown",
      "source": [
        "# 1. Install modul"
      ],
      "metadata": {
        "id": "OyePzmaOTnUU"
      }
    },
    {
      "cell_type": "code",
      "execution_count": null,
      "metadata": {
        "colab": {
          "base_uri": "https://localhost:8080/"
        },
        "id": "kDPK7xUOTJxA",
        "outputId": "d9bf026f-f742-4c71-cc06-7080257e5d03"
      },
      "outputs": [
        {
          "output_type": "stream",
          "name": "stdout",
          "text": [
            "Requirement already satisfied: flask in /usr/local/lib/python3.12/dist-packages (3.1.2)\n",
            "Collecting pyngrok\n",
            "  Downloading pyngrok-7.3.0-py3-none-any.whl.metadata (8.1 kB)\n",
            "Collecting paho-mqtt\n",
            "  Downloading paho_mqtt-2.1.0-py3-none-any.whl.metadata (23 kB)\n",
            "Requirement already satisfied: blinker>=1.9.0 in /usr/local/lib/python3.12/dist-packages (from flask) (1.9.0)\n",
            "Requirement already satisfied: click>=8.1.3 in /usr/local/lib/python3.12/dist-packages (from flask) (8.2.1)\n",
            "Requirement already satisfied: itsdangerous>=2.2.0 in /usr/local/lib/python3.12/dist-packages (from flask) (2.2.0)\n",
            "Requirement already satisfied: jinja2>=3.1.2 in /usr/local/lib/python3.12/dist-packages (from flask) (3.1.6)\n",
            "Requirement already satisfied: markupsafe>=2.1.1 in /usr/local/lib/python3.12/dist-packages (from flask) (3.0.2)\n",
            "Requirement already satisfied: werkzeug>=3.1.0 in /usr/local/lib/python3.12/dist-packages (from flask) (3.1.3)\n",
            "Requirement already satisfied: PyYAML>=5.1 in /usr/local/lib/python3.12/dist-packages (from pyngrok) (6.0.2)\n",
            "Downloading pyngrok-7.3.0-py3-none-any.whl (25 kB)\n",
            "Downloading paho_mqtt-2.1.0-py3-none-any.whl (67 kB)\n",
            "\u001b[2K   \u001b[90m━━━━━━━━━━━━━━━━━━━━━━━━━━━━━━━━━━━━━━━━\u001b[0m \u001b[32m67.2/67.2 kB\u001b[0m \u001b[31m2.3 MB/s\u001b[0m eta \u001b[36m0:00:00\u001b[0m\n",
            "\u001b[?25hInstalling collected packages: pyngrok, paho-mqtt\n",
            "Successfully installed paho-mqtt-2.1.0 pyngrok-7.3.0\n"
          ]
        }
      ],
      "source": [
        "!pip install flask pyngrok paho-mqtt"
      ]
    },
    {
      "cell_type": "markdown",
      "source": [
        "# 2. Flask dengan Token Authentication"
      ],
      "metadata": {
        "id": "xzp1GPSyTwl4"
      }
    },
    {
      "cell_type": "code",
      "source": [
        "# Konfigurasi Ngrok dengan token Agus\n",
        "from pyngrok import ngrok\n",
        "\n",
        "NGROK_TOKEN = \"xxxxxxxxxxxx\"\n",
        "ngrok.set_auth_token(NGROK_TOKEN)"
      ],
      "metadata": {
        "id": "T7R1ZtWlqM6Y"
      },
      "execution_count": 3,
      "outputs": []
    },
    {
      "cell_type": "code",
      "source": [
        "from flask import Flask, request, jsonify\n",
        "from pyngrok import ngrok\n",
        "\n",
        "app = Flask(__name__)\n",
        "\n",
        "# Token sederhana\n",
        "API_TOKEN = \"iotsecure123\"\n",
        "\n",
        "@app.route('/secure-data', methods=['POST'])\n",
        "def secure_data():\n",
        "    token = request.headers.get(\"Authorization\")\n",
        "    if token != f\"Bearer {API_TOKEN}\":\n",
        "        return jsonify({\"error\": \"Unauthorized\"}), 401\n",
        "\n",
        "    data = request.json\n",
        "    return jsonify({\"status\": \"success\", \"data_received\": data}), 200\n",
        "\n",
        "# Jalankan ngrok\n",
        "public_url = ngrok.connect(5000)\n",
        "print(\" * Ngrok URL (secure):\", public_url)\n",
        "\n",
        "app.run(port=5000)"
      ],
      "metadata": {
        "colab": {
          "base_uri": "https://localhost:8080/"
        },
        "id": "ZO5rdWjWT4KL",
        "outputId": "23ff4069-d11b-43cf-b442-7f83682b7359"
      },
      "execution_count": 4,
      "outputs": [
        {
          "output_type": "stream",
          "name": "stdout",
          "text": [
            " * Ngrok URL (secure): NgrokTunnel: \"https://fe8b4251e388.ngrok-free.app\" -> \"http://localhost:5000\"\n",
            " * Serving Flask app '__main__'\n",
            " * Debug mode: off\n"
          ]
        },
        {
          "output_type": "stream",
          "name": "stderr",
          "text": [
            "INFO:werkzeug:\u001b[31m\u001b[1mWARNING: This is a development server. Do not use it in a production deployment. Use a production WSGI server instead.\u001b[0m\n",
            " * Running on http://127.0.0.1:5000\n",
            "INFO:werkzeug:\u001b[33mPress CTRL+C to quit\u001b[0m\n",
            "WARNING:pyngrok.process.ngrok:t=2025-09-23T03:41:08+0000 lvl=warn msg=\"failed to check for update\" obj=updater err=\"Post \\\"https://update.equinox.io/check\\\": context deadline exceeded\"\n",
            "INFO:werkzeug:127.0.0.1 - - [23/Sep/2025 03:42:02] \"POST /secure-data HTTP/1.1\" 200 -\n",
            "WARNING:pyngrok.process.ngrok:t=2025-09-23T03:43:24+0000 lvl=warn msg=\"Stopping forwarder\" name=http-5000-743a37b8-8055-4ce7-9b24-7275d57ed0ce acceptErr=\"failed to accept connection: Listener closed\"\n"
          ]
        }
      ]
    },
    {
      "cell_type": "markdown",
      "source": [
        "**Cara uji:**"
      ],
      "metadata": {
        "id": "w8ic_c81T97g"
      }
    },
    {
      "cell_type": "code",
      "source": [
        "import requests\n",
        "\n",
        "url = \"<NGROK_URL>/secure-data\"\n",
        "headers = {\"Authorization\": \"Bearer iotsecure123\"}\n",
        "data = {\"temperature\": 25, \"humidity\": 60}\n",
        "\n",
        "r = requests.post(url, json=data, headers=headers)\n",
        "print(r.text)"
      ],
      "metadata": {
        "id": "ugv-ErbTUICy"
      },
      "execution_count": null,
      "outputs": []
    },
    {
      "cell_type": "markdown",
      "source": [
        "Jika tanpa header Authorization → 401 Unauthorized."
      ],
      "metadata": {
        "id": "6KdlphKoUOeE"
      }
    },
    {
      "cell_type": "markdown",
      "source": [
        "# 3. MQTT dengan Username & Password (HiveMQ broker publik)"
      ],
      "metadata": {
        "id": "-B1Ba8LcUS3T"
      }
    },
    {
      "cell_type": "code",
      "source": [
        "import paho.mqtt.client as mqtt\n",
        "import random, time, json\n",
        "\n",
        "# HiveMQ public broker with auth (contoh)\n",
        "BROKER = \"broker.hivemq.com\"\n",
        "PORT = 1883\n",
        "TOPIC = \"unram/iot/secure\"\n",
        "USERNAME = \"iot_user\"\n",
        "PASSWORD = \"iot_pass\"\n",
        "\n",
        "def on_connect(client, userdata, flags, rc):\n",
        "    print(\"Connected with result code\", rc)\n",
        "\n",
        "def on_message(client, userdata, msg):\n",
        "    print(f\"Message received: {msg.payload.decode()}\")\n",
        "\n",
        "client = mqtt.Client()\n",
        "client.username_pw_set(USERNAME, PASSWORD)  # Auth\n",
        "client.on_connect = on_connect\n",
        "client.on_message = on_message\n",
        "\n",
        "client.connect(BROKER, PORT, 60)\n",
        "client.loop_start()\n",
        "\n",
        "# Publish data sensor dengan autentikasi\n",
        "for i in range(5):\n",
        "    payload = {\"temperature\": random.randint(20,30),\n",
        "               \"humidity\": random.randint(60,80)}\n",
        "    client.publish(TOPIC, json.dumps(payload))\n",
        "    print(\"Published:\", payload)\n",
        "    time.sleep(2)"
      ],
      "metadata": {
        "id": "7QwjpYhVUYFL",
        "colab": {
          "base_uri": "https://localhost:8080/"
        },
        "outputId": "511a6db6-5211-4ae9-a7c7-b1bed25a2ecd"
      },
      "execution_count": 5,
      "outputs": [
        {
          "output_type": "stream",
          "name": "stderr",
          "text": [
            "/tmp/ipython-input-1815004766.py:17: DeprecationWarning: Callback API version 1 is deprecated, update to latest version\n",
            "  client = mqtt.Client()\n"
          ]
        },
        {
          "output_type": "stream",
          "name": "stdout",
          "text": [
            "Published: {'temperature': 22, 'humidity': 73}\n",
            "Published: {'temperature': 30, 'humidity': 79}\n",
            "Published: {'temperature': 30, 'humidity': 60}\n",
            "Connected with result code 0\n",
            "Published: {'temperature': 26, 'humidity': 60}\n",
            "Published: {'temperature': 20, 'humidity': 77}\n"
          ]
        }
      ]
    },
    {
      "cell_type": "markdown",
      "source": [
        "# Tugas Minggu ke-7\n",
        "\n",
        "1. Ubah server Flask agar menggunakan HTTPS (bisa dengan sertifikat self-signed atau pyOpenSSL).\n",
        "2. Buat client IoT yang hanya bisa mengirim data dengan API key valid.\n",
        "3. Konfigurasi MQTT client agar gagal connect jika username/password salah.\n",
        "4. Buat laporan singkat: bandingkan komunikasi tanpa keamanan vs dengan keamanan (HTTP/MQTT).T"
      ],
      "metadata": {
        "id": "tUnuO6FdUd5u"
      }
    }
  ]
}