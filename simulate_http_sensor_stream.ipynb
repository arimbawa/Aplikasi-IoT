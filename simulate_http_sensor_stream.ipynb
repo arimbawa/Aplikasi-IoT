{
  "nbformat": 4,
  "nbformat_minor": 0,
  "metadata": {
    "colab": {
      "provenance": [],
      "authorship_tag": "ABX9TyNmN1KSegYl1x/IPrzyjqaZ",
      "include_colab_link": true
    },
    "kernelspec": {
      "name": "python3",
      "display_name": "Python 3"
    },
    "language_info": {
      "name": "python"
    }
  },
  "cells": [
    {
      "cell_type": "markdown",
      "metadata": {
        "id": "view-in-github",
        "colab_type": "text"
      },
      "source": [
        "<a href=\"https://colab.research.google.com/github/arimbawa/Aplikasi-IoT/blob/main/simulate_http_sensor_stream.ipynb\" target=\"_parent\"><img src=\"https://colab.research.google.com/assets/colab-badge.svg\" alt=\"Open In Colab\"/></a>"
      ]
    },
    {
      "cell_type": "code",
      "execution_count": null,
      "metadata": {
        "id": "4y508AOizrfi"
      },
      "outputs": [],
      "source": [
        "import requests, random, time\n",
        "\n",
        "FLASK_URL = \"https://5bc67e559949.ngrok-free.app/sensor\"  # ganti dengan URL ngrok Flask\n",
        "\n",
        "for i in range(50):  # kirim 5 kali data\n",
        "    temp = round(random.uniform(20, 30), 2)\n",
        "    hum = round(random.uniform(40, 60), 2)\n",
        "    data = {\"temperature\": temp, \"humidity\": hum}\n",
        "\n",
        "    r = requests.post(FLASK_URL, json=data)\n",
        "    print(f\"Sent {data}, Response: {r.json()}\")\n",
        "    time.sleep(2)\n"
      ]
    }
  ]
}