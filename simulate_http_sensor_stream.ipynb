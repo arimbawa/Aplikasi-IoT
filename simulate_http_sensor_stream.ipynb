{
  "nbformat": 4,
  "nbformat_minor": 0,
  "metadata": {
    "colab": {
      "provenance": [],
      "authorship_tag": "ABX9TyOjF+fMxDsEhXYTSAKV3MgT",
      "include_colab_link": true
    },
    "kernelspec": {
      "name": "python3",
      "display_name": "Python 3"
    },
    "language_info": {
      "name": "python"
    }
  },
  "cells": [
    {
      "cell_type": "markdown",
      "metadata": {
        "id": "view-in-github",
        "colab_type": "text"
      },
      "source": [
        "<a href=\"https://colab.research.google.com/github/arimbawa/Aplikasi-IoT/blob/main/simulate_http_sensor_stream.ipynb\" target=\"_parent\"><img src=\"https://colab.research.google.com/assets/colab-badge.svg\" alt=\"Open In Colab\"/></a>"
      ]
    },
    {
      "cell_type": "markdown",
      "source": [
        "# Run this cell fist"
      ],
      "metadata": {
        "id": "AsnuzmcGSkct"
      }
    },
    {
      "cell_type": "code",
      "source": [
        "FLASK_URL = \"https://daa99cddd8db.ngrok-free.app\""
      ],
      "metadata": {
        "id": "EhMxKm_9TVOb"
      },
      "execution_count": 45,
      "outputs": []
    },
    {
      "cell_type": "markdown",
      "source": [
        "# Use this for Week-4 and Week-5"
      ],
      "metadata": {
        "id": "gf510FsNSs1M"
      }
    },
    {
      "cell_type": "code",
      "execution_count": null,
      "metadata": {
        "id": "4y508AOizrfi"
      },
      "outputs": [],
      "source": [
        "import requests, random, time\n",
        "\n",
        "for i in range(50):  # kirim 5 kali data\n",
        "    temp = round(random.uniform(20, 30), 2)\n",
        "    hum = round(random.uniform(40, 60), 2)\n",
        "    data = {\"temperature\": temp, \"humidity\": hum}\n",
        "\n",
        "    r = requests.post(FLASK_URL+\"/sensor\", json=data)\n",
        "    print(f\"Sent {data}, Response: {r.json()}\")\n",
        "    time.sleep(2)\n"
      ]
    },
    {
      "cell_type": "markdown",
      "source": [
        "# Use this for Week-6"
      ],
      "metadata": {
        "id": "WF9m8SOKQXuD"
      }
    },
    {
      "cell_type": "code",
      "source": [
        "import requests, random, time\n",
        "\n",
        "for i in range(100):  # kirim 5 kali data\n",
        "    id = i + 1\n",
        "    temp = round(random.uniform(20, 30), 2)\n",
        "    hum = round(random.uniform(40, 60), 2)\n",
        "    data = {\"_id\":str(id), \"temperature\": temp, \"humidity\": hum}\n",
        "\n",
        "    r = requests.post(FLASK_URL+\"/add\", json=data)\n",
        "    #print(f\"Sent {data}, Response: {r.json()}\")\n",
        "    print(r.text) # Print raw text response\n",
        "    time.sleep(2)"
      ],
      "metadata": {
        "id": "UzszP1efKuYC"
      },
      "execution_count": null,
      "outputs": []
    }
  ]
}