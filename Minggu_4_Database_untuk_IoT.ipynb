{
  "nbformat": 4,
  "nbformat_minor": 0,
  "metadata": {
    "colab": {
      "provenance": [],
      "authorship_tag": "ABX9TyPYGO39sY2wB8sLiqIf4Sy5",
      "include_colab_link": true
    },
    "kernelspec": {
      "name": "python3",
      "display_name": "Python 3"
    },
    "language_info": {
      "name": "python"
    }
  },
  "cells": [
    {
      "cell_type": "markdown",
      "metadata": {
        "id": "view-in-github",
        "colab_type": "text"
      },
      "source": [
        "<a href=\"https://colab.research.google.com/github/arimbawa/Aplikasi-IoT/blob/main/Minggu_4_Database_untuk_IoT.ipynb\" target=\"_parent\"><img src=\"https://colab.research.google.com/assets/colab-badge.svg\" alt=\"Open In Colab\"/></a>"
      ]
    },
    {
      "cell_type": "markdown",
      "source": [
        "# **Materi Minggu 4: Database untuk IoT**\n",
        "\n",
        "**Tujuan Pembelajaran:**\n",
        "\n",
        "\n",
        "1.   Mahasiswa memahami integrasi aplikasi IoT dengan database.\n",
        "2.   Mahasiswa mampu membuat API Flask yang menyimpan dan mengambil data dari database.\n",
        "3. Mahasiswa dapat menguji alur perangkat → Flask → Database → Visualisasi."
      ],
      "metadata": {
        "id": "BeqU7JjLtpoh"
      }
    },
    {
      "cell_type": "markdown",
      "source": [
        "# Langkah Praktikum\n",
        "\n",
        "1.   Setup Flask Server (Google Colab)\n",
        "\n",
        "Kita pakai SQLite (ringan, sudah bawaan Python)."
      ],
      "metadata": {
        "id": "b9ZMeS15uMfs"
      }
    },
    {
      "cell_type": "code",
      "execution_count": null,
      "metadata": {
        "id": "Jr16WO_4tcGA",
        "colab": {
          "base_uri": "https://localhost:8080/"
        },
        "outputId": "444ef25e-1edd-4ff4-aec0-bceb9f464a44"
      },
      "outputs": [
        {
          "output_type": "stream",
          "name": "stdout",
          "text": [
            "Requirement already satisfied: flask in /usr/local/lib/python3.12/dist-packages (3.1.2)\n",
            "Collecting pyngrok\n",
            "  Downloading pyngrok-7.3.0-py3-none-any.whl.metadata (8.1 kB)\n",
            "Requirement already satisfied: sqlalchemy in /usr/local/lib/python3.12/dist-packages (2.0.43)\n",
            "Requirement already satisfied: blinker>=1.9.0 in /usr/local/lib/python3.12/dist-packages (from flask) (1.9.0)\n",
            "Requirement already satisfied: click>=8.1.3 in /usr/local/lib/python3.12/dist-packages (from flask) (8.2.1)\n",
            "Requirement already satisfied: itsdangerous>=2.2.0 in /usr/local/lib/python3.12/dist-packages (from flask) (2.2.0)\n",
            "Requirement already satisfied: jinja2>=3.1.2 in /usr/local/lib/python3.12/dist-packages (from flask) (3.1.6)\n",
            "Requirement already satisfied: markupsafe>=2.1.1 in /usr/local/lib/python3.12/dist-packages (from flask) (3.0.2)\n",
            "Requirement already satisfied: werkzeug>=3.1.0 in /usr/local/lib/python3.12/dist-packages (from flask) (3.1.3)\n",
            "Requirement already satisfied: PyYAML>=5.1 in /usr/local/lib/python3.12/dist-packages (from pyngrok) (6.0.2)\n",
            "Requirement already satisfied: greenlet>=1 in /usr/local/lib/python3.12/dist-packages (from sqlalchemy) (3.2.4)\n",
            "Requirement already satisfied: typing-extensions>=4.6.0 in /usr/local/lib/python3.12/dist-packages (from sqlalchemy) (4.15.0)\n",
            "Downloading pyngrok-7.3.0-py3-none-any.whl (25 kB)\n",
            "Installing collected packages: pyngrok\n",
            "Successfully installed pyngrok-7.3.0\n",
            "Collecting paho-mqtt\n",
            "  Downloading paho_mqtt-2.1.0-py3-none-any.whl.metadata (23 kB)\n",
            "Downloading paho_mqtt-2.1.0-py3-none-any.whl (67 kB)\n",
            "\u001b[2K   \u001b[90m━━━━━━━━━━━━━━━━━━━━━━━━━━━━━━━━━━━━━━━━\u001b[0m \u001b[32m67.2/67.2 kB\u001b[0m \u001b[31m1.4 MB/s\u001b[0m eta \u001b[36m0:00:00\u001b[0m\n",
            "\u001b[?25hInstalling collected packages: paho-mqtt\n",
            "Successfully installed paho-mqtt-2.1.0\n"
          ]
        }
      ],
      "source": [
        "!pip install flask pyngrok sqlalchemy\n",
        "!pip install paho-mqtt"
      ]
    },
    {
      "cell_type": "code",
      "source": [
        "from flask import Flask, request, jsonify\n",
        "from pyngrok import ngrok\n",
        "import paho.mqtt.client as mqtt\n",
        "import json\n",
        "import threading\n",
        "import sqlite3\n",
        "from datetime import datetime\n",
        "\n",
        "# Replace \"YOUR_NGROK_AUTH_TOKEN\" with your actual ngrok authtoken\n",
        "ngrok.set_auth_token(\"32tnIljunaDDrFMWVCD2784cERi_2tHAN1MwNfRM9Ug5omaq5\")\n",
        "\n",
        "# Buat app Flask\n",
        "app = Flask(__name__)\n",
        "\n",
        "# Database Setup\n",
        "DATABASE = 'sensor_data.db'\n",
        "\n",
        "def init_db():\n",
        "    with app.app_context():\n",
        "        db = get_db()\n",
        "        cursor = db.cursor()\n",
        "        cursor.execute('''\n",
        "            CREATE TABLE IF NOT EXISTS mqtt_readings (\n",
        "                id INTEGER PRIMARY KEY AUTOINCREMENT,\n",
        "                light REAL,\n",
        "                timestamp DATETIME DEFAULT CURRENT_TIMESTAMP\n",
        "            )\n",
        "        ''')\n",
        "        cursor.execute('''\n",
        "            CREATE TABLE IF NOT EXISTS http_readings (\n",
        "                id INTEGER PRIMARY KEY AUTOINCREMENT,\n",
        "                temperature REAL,\n",
        "                humidity REAL,\n",
        "                timestamp DATETIME DEFAULT CURRENT_TIMESTAMP\n",
        "            )\n",
        "        ''')\n",
        "        db.commit()\n",
        "\n",
        "def get_db():\n",
        "    db = getattr(g, '_database', None)\n",
        "    if db is None:\n",
        "        db = g._database = sqlite3.connect(DATABASE)\n",
        "    return db\n",
        "\n",
        "@app.teardown_appcontext\n",
        "def close_db(error):\n",
        "    db = getattr(g, '_database', None)\n",
        "    if db is not None:\n",
        "        db.close()\n",
        "\n",
        "from flask import g\n",
        "\n",
        "# MQTT Settings\n",
        "MQTT_BROKER = \"broker.hivemq.com\"\n",
        "MQTT_PORT = 1883\n",
        "MQTT_TOPIC = \"unram/iot/sensor\"\n",
        "\n",
        "# MQTT Callbacks\n",
        "def on_connect(client, userdata, flags, rc):\n",
        "    if rc == 0:\n",
        "        print(\"Connected to MQTT Broker!\")\n",
        "        client.subscribe(MQTT_TOPIC)\n",
        "        print(f\"Subscribed to topic: {MQTT_TOPIC}\")\n",
        "    else:\n",
        "        print(f\"Failed to connect, return code {rc}\\n\")\n",
        "\n",
        "def on_message(client, userdata, msg):\n",
        "    print(f\"Received `{msg.payload.decode()}` from `{msg.topic}` topic\")\n",
        "    try:\n",
        "        data = json.loads(msg.payload.decode())\n",
        "        # Assuming the MQTT message contains 'light' data\n",
        "        if 'light' in data:\n",
        "            light_value = data['light']\n",
        "            with app.app_context():\n",
        "                db = get_db()\n",
        "                cursor = db.cursor()\n",
        "                cursor.execute(\"INSERT INTO mqtt_readings (light) VALUES (?)\", (light_value,))\n",
        "                db.commit()\n",
        "                print(\"Light data added to mqtt_readings table:\", light_value)\n",
        "        else:\n",
        "            print(\"MQTT message does not contain 'light' data.\")\n",
        "    except json.JSONDecodeError:\n",
        "        print(\"Failed to decode JSON from MQTT message.\")\n",
        "    except Exception as e:\n",
        "        print(f\"Error inserting MQTT data into database: {e}\")\n",
        "\n",
        "\n",
        "# Create MQTT Client\n",
        "client = mqtt.Client()\n",
        "client.on_connect = on_connect\n",
        "client.on_message = on_message\n",
        "\n",
        "# Connect to MQTT Broker in a separate thread\n",
        "def connect_mqtt():\n",
        "    client.connect(MQTT_BROKER, MQTT_PORT, 60)\n",
        "    client.loop_forever()\n",
        "\n",
        "mqtt_thread = threading.Thread(target=connect_mqtt)\n",
        "mqtt_thread.start()\n",
        "\n",
        "\n",
        "@app.route('/sensor', methods=['POST'])\n",
        "def receive_sensor():\n",
        "    data = request.json\n",
        "    try:\n",
        "        if 'temperature' in data and 'humidity' in data:\n",
        "            temperature_value = data['temperature']\n",
        "            humidity_value = data['humidity']\n",
        "            db = get_db()\n",
        "            cursor = db.cursor()\n",
        "            cursor.execute(\"INSERT INTO http_readings (temperature, humidity) VALUES (?, ?)\", (temperature_value, humidity_value))\n",
        "            db.commit()\n",
        "            print(\"Received temperature and humidity data via HTTP and added to http_readings table:\", data)\n",
        "            return jsonify({\"status\": \"success\", \"received\": data})\n",
        "        else:\n",
        "            print(\"HTTP data does not contain 'temperature' or 'humidity' data.\")\n",
        "            return jsonify({\"status\": \"error\", \"message\": \"No 'temperature' or 'humidity' data in request\"}), 400\n",
        "    except Exception as e:\n",
        "        print(f\"Error inserting HTTP temperature and humidity data into database: {e}\")\n",
        "        return jsonify({\"status\": \"error\", \"message\": str(e)}), 500\n",
        "\n",
        "\n",
        "@app.route('/data/light', methods=['GET'])\n",
        "def get_light_data():\n",
        "    db = get_db()\n",
        "    cursor = db.cursor()\n",
        "\n",
        "    cursor.execute(\"SELECT id, light, timestamp FROM mqtt_readings\")\n",
        "    mqtt_rows = cursor.fetchall()\n",
        "    mqtt_data = []\n",
        "    for row in mqtt_rows:\n",
        "        mqtt_data.append({\"id\": row[0], \"light\": row[1], \"timestamp\": row[2], \"source\": \"mqtt\"})\n",
        "\n",
        "    return jsonify({\"mqtt_data\": mqtt_data})\n",
        "\n",
        "@app.route('/data/temp_hum', methods=['GET'])\n",
        "def get_temp_hum_data():\n",
        "    db = get_db()\n",
        "    cursor = db.cursor()\n",
        "    cursor.execute(\"SELECT id, temperature, humidity, timestamp FROM http_readings\")\n",
        "    http_rows = cursor.fetchall()\n",
        "    http_data = []\n",
        "    for row in http_rows:\n",
        "        http_data.append({\"id\": row[0], \"temperature\": row[1], \"humidity\": row[2], \"timestamp\": row[3], \"source\": \"http\"})\n",
        "\n",
        "    return jsonify({\"http_data\": http_data})\n",
        "\n",
        "# Initialize the database\n",
        "init_db()\n",
        "\n",
        "# Buka tunnel ngrok di port 5000\n",
        "public_url = ngrok.connect(5000).public_url\n",
        "print(\"Flask server URL:\", public_url)\n",
        "\n",
        "# Jalankan Flask\n",
        "if __name__ == '__main__':\n",
        "    app.run(port=5000)"
      ],
      "metadata": {
        "id": "Salc6ntSul3f",
        "outputId": "a8540429-1a2c-4691-8632-5c802ec70ef2",
        "colab": {
          "base_uri": "https://localhost:8080/"
        }
      },
      "execution_count": null,
      "outputs": [
        {
          "output_type": "stream",
          "name": "stderr",
          "text": [
            "/tmp/ipython-input-2998652514.py:89: DeprecationWarning: Callback API version 1 is deprecated, update to latest version\n",
            "  client = mqtt.Client()\n"
          ]
        },
        {
          "output_type": "stream",
          "name": "stdout",
          "text": [
            "Connected to MQTT Broker!\n",
            "Subscribed to topic: unram/iot/sensor\n",
            "Flask server URL: https://98b22d332793.ngrok-free.app\n",
            " * Serving Flask app '__main__'\n",
            " * Debug mode: off\n"
          ]
        },
        {
          "output_type": "stream",
          "name": "stderr",
          "text": [
            "INFO:werkzeug:\u001b[31m\u001b[1mWARNING: This is a development server. Do not use it in a production deployment. Use a production WSGI server instead.\u001b[0m\n",
            " * Running on http://127.0.0.1:5000\n",
            "INFO:werkzeug:\u001b[33mPress CTRL+C to quit\u001b[0m\n",
            "INFO:werkzeug:127.0.0.1 - - [19/Sep/2025 07:50:35] \"POST /sensor HTTP/1.1\" 200 -\n"
          ]
        },
        {
          "output_type": "stream",
          "name": "stdout",
          "text": [
            "Received temperature and humidity data via HTTP and added to http_readings table: {'temperature': 21.13, 'humidity': 56.75}\n"
          ]
        },
        {
          "output_type": "stream",
          "name": "stderr",
          "text": [
            "INFO:werkzeug:127.0.0.1 - - [19/Sep/2025 07:50:37] \"POST /sensor HTTP/1.1\" 200 -\n"
          ]
        },
        {
          "output_type": "stream",
          "name": "stdout",
          "text": [
            "Received temperature and humidity data via HTTP and added to http_readings table: {'temperature': 21.08, 'humidity': 48.68}\n"
          ]
        },
        {
          "output_type": "stream",
          "name": "stderr",
          "text": [
            "INFO:werkzeug:127.0.0.1 - - [19/Sep/2025 07:50:40] \"POST /sensor HTTP/1.1\" 200 -\n"
          ]
        },
        {
          "output_type": "stream",
          "name": "stdout",
          "text": [
            "Received `{\"light\": 871}` from `unram/iot/sensor` topic\n",
            "Received `{\"light\": 871}` from `unram/iot/sensor` topic\n",
            "Light data added to mqtt_readings table: 871\n",
            "Light data added to mqtt_readings table: 871\n",
            "Received temperature and humidity data via HTTP and added to http_readings table: {'temperature': 23.57, 'humidity': 46.83}\n",
            "Received `{\"light\": 213}` from `unram/iot/sensor` topic\n",
            "Received `{\"light\": 213}` from `unram/iot/sensor` topic\n",
            "Light data added to mqtt_readings table: 213\n",
            "Light data added to mqtt_readings table: 213\n"
          ]
        },
        {
          "output_type": "stream",
          "name": "stderr",
          "text": [
            "INFO:werkzeug:127.0.0.1 - - [19/Sep/2025 07:50:42] \"POST /sensor HTTP/1.1\" 200 -\n"
          ]
        },
        {
          "output_type": "stream",
          "name": "stdout",
          "text": [
            "Received temperature and humidity data via HTTP and added to http_readings table: {'temperature': 27.41, 'humidity': 49.28}\n",
            "Received `{\"light\": 767}` from `unram/iot/sensor` topic\n",
            "Received `{\"light\": 767}` from `unram/iot/sensor` topic\n",
            "Light data added to mqtt_readings table: 767\n",
            "Light data added to mqtt_readings table: 767\n"
          ]
        },
        {
          "output_type": "stream",
          "name": "stderr",
          "text": [
            "INFO:werkzeug:127.0.0.1 - - [19/Sep/2025 07:50:44] \"POST /sensor HTTP/1.1\" 200 -\n"
          ]
        },
        {
          "output_type": "stream",
          "name": "stdout",
          "text": [
            "Received temperature and humidity data via HTTP and added to http_readings table: {'temperature': 23.86, 'humidity': 49.89}\n",
            "Received `{\"light\": 423}` from `unram/iot/sensor` topicReceived `{\"light\": 423}` from `unram/iot/sensor` topic\n",
            "\n",
            "Light data added to mqtt_readings table: 423\n",
            "Light data added to mqtt_readings table: 423\n"
          ]
        },
        {
          "output_type": "stream",
          "name": "stderr",
          "text": [
            "INFO:werkzeug:127.0.0.1 - - [19/Sep/2025 07:50:46] \"POST /sensor HTTP/1.1\" 200 -\n"
          ]
        },
        {
          "output_type": "stream",
          "name": "stdout",
          "text": [
            "Received temperature and humidity data via HTTP and added to http_readings table: {'temperature': 22.41, 'humidity': 45.22}\n",
            "Received `{\"light\": 146}` from `unram/iot/sensor` topicReceived `{\"light\": 146}` from `unram/iot/sensor` topic\n",
            "\n",
            "Light data added to mqtt_readings table: 146\n",
            "Light data added to mqtt_readings table: 146\n"
          ]
        },
        {
          "output_type": "stream",
          "name": "stderr",
          "text": [
            "INFO:werkzeug:127.0.0.1 - - [19/Sep/2025 07:50:49] \"POST /sensor HTTP/1.1\" 200 -\n"
          ]
        },
        {
          "output_type": "stream",
          "name": "stdout",
          "text": [
            "Received temperature and humidity data via HTTP and added to http_readings table: {'temperature': 20.17, 'humidity': 47.07}\n",
            "Received `{\"light\": 963}` from `unram/iot/sensor` topic\n",
            "Received `{\"light\": 963}` from `unram/iot/sensor` topic\n",
            "Light data added to mqtt_readings table: 963\n",
            "Light data added to mqtt_readings table: 963\n"
          ]
        },
        {
          "output_type": "stream",
          "name": "stderr",
          "text": [
            "INFO:werkzeug:127.0.0.1 - - [19/Sep/2025 07:50:51] \"POST /sensor HTTP/1.1\" 200 -\n"
          ]
        },
        {
          "output_type": "stream",
          "name": "stdout",
          "text": [
            "Received temperature and humidity data via HTTP and added to http_readings table: {'temperature': 22.77, 'humidity': 40.21}\n",
            "Received `{\"light\": 595}` from `unram/iot/sensor` topic\n",
            "Received `{\"light\": 595}` from `unram/iot/sensor` topic\n",
            "Light data added to mqtt_readings table: 595\n",
            "Light data added to mqtt_readings table: 595\n"
          ]
        },
        {
          "output_type": "stream",
          "name": "stderr",
          "text": [
            "INFO:werkzeug:127.0.0.1 - - [19/Sep/2025 07:50:53] \"POST /sensor HTTP/1.1\" 200 -\n"
          ]
        },
        {
          "output_type": "stream",
          "name": "stdout",
          "text": [
            "Received temperature and humidity data via HTTP and added to http_readings table: {'temperature': 22.47, 'humidity': 52.91}\n",
            "Received `{\"light\": 164}` from `unram/iot/sensor` topic\n",
            "Received `{\"light\": 164}` from `unram/iot/sensor` topic\n",
            "Light data added to mqtt_readings table: 164\n",
            "Light data added to mqtt_readings table: 164\n"
          ]
        },
        {
          "output_type": "stream",
          "name": "stderr",
          "text": [
            "INFO:werkzeug:127.0.0.1 - - [19/Sep/2025 07:50:55] \"POST /sensor HTTP/1.1\" 200 -\n"
          ]
        },
        {
          "output_type": "stream",
          "name": "stdout",
          "text": [
            "Received temperature and humidity data via HTTP and added to http_readings table: {'temperature': 27.34, 'humidity': 40.31}\n",
            "Received `{\"light\": 258}` from `unram/iot/sensor` topic\n",
            "Received `{\"light\": 258}` from `unram/iot/sensor` topic\n",
            "Light data added to mqtt_readings table: 258\n",
            "Light data added to mqtt_readings table: 258\n"
          ]
        },
        {
          "output_type": "stream",
          "name": "stderr",
          "text": [
            "INFO:werkzeug:127.0.0.1 - - [19/Sep/2025 07:50:58] \"POST /sensor HTTP/1.1\" 200 -\n"
          ]
        },
        {
          "output_type": "stream",
          "name": "stdout",
          "text": [
            "Received `{\"light\": 674}` from `unram/iot/sensor` topic\n",
            "Received `{\"light\": 674}` from `unram/iot/sensor` topic\n",
            "Light data added to mqtt_readings table: 674\n",
            "Light data added to mqtt_readings table: 674\n",
            "Received temperature and humidity data via HTTP and added to http_readings table: {'temperature': 28.77, 'humidity': 49.04}\n",
            "Received `{\"light\": 990}` from `unram/iot/sensor` topic\n",
            "Received `{\"light\": 990}` from `unram/iot/sensor` topic\n",
            "Light data added to mqtt_readings table: 990\n",
            "Light data added to mqtt_readings table: 990\n"
          ]
        },
        {
          "output_type": "stream",
          "name": "stderr",
          "text": [
            "INFO:werkzeug:127.0.0.1 - - [19/Sep/2025 07:51:00] \"POST /sensor HTTP/1.1\" 200 -\n"
          ]
        },
        {
          "output_type": "stream",
          "name": "stdout",
          "text": [
            "Received temperature and humidity data via HTTP and added to http_readings table: {'temperature': 26.92, 'humidity': 57.96}\n"
          ]
        },
        {
          "output_type": "stream",
          "name": "stderr",
          "text": [
            "INFO:werkzeug:127.0.0.1 - - [19/Sep/2025 07:51:00] \"\u001b[33mGET /data_light HTTP/1.1\u001b[0m\" 404 -\n",
            "INFO:werkzeug:127.0.0.1 - - [19/Sep/2025 07:51:01] \"\u001b[33mGET /favicon.ico HTTP/1.1\u001b[0m\" 404 -\n"
          ]
        },
        {
          "output_type": "stream",
          "name": "stdout",
          "text": [
            "Received `{\"light\": 1021}` from `unram/iot/sensor` topic\n",
            "Received `{\"light\": 1021}` from `unram/iot/sensor` topic\n",
            "Light data added to mqtt_readings table: 1021\n",
            "Light data added to mqtt_readings table: 1021\n"
          ]
        },
        {
          "output_type": "stream",
          "name": "stderr",
          "text": [
            "INFO:werkzeug:127.0.0.1 - - [19/Sep/2025 07:51:02] \"POST /sensor HTTP/1.1\" 200 -\n"
          ]
        },
        {
          "output_type": "stream",
          "name": "stdout",
          "text": [
            "Received temperature and humidity data via HTTP and added to http_readings table: {'temperature': 20.38, 'humidity': 43.42}\n"
          ]
        },
        {
          "output_type": "stream",
          "name": "stderr",
          "text": [
            "INFO:werkzeug:127.0.0.1 - - [19/Sep/2025 07:51:03] \"\u001b[33mGET /data_light HTTP/1.1\u001b[0m\" 404 -\n"
          ]
        },
        {
          "output_type": "stream",
          "name": "stdout",
          "text": [
            "Received `{\"light\": 687}` from `unram/iot/sensor` topic\n",
            "Received `{\"light\": 687}` from `unram/iot/sensor` topic\n",
            "Light data added to mqtt_readings table: 687\n",
            "Light data added to mqtt_readings table: 687\n"
          ]
        },
        {
          "output_type": "stream",
          "name": "stderr",
          "text": [
            "INFO:werkzeug:127.0.0.1 - - [19/Sep/2025 07:51:04] \"POST /sensor HTTP/1.1\" 200 -\n"
          ]
        },
        {
          "output_type": "stream",
          "name": "stdout",
          "text": [
            "Received temperature and humidity data via HTTP and added to http_readings table: {'temperature': 20.35, 'humidity': 51.15}\n",
            "Received `{\"light\": 153}` from `unram/iot/sensor` topicReceived `{\"light\": 153}` from `unram/iot/sensor` topic\n",
            "\n",
            "Light data added to mqtt_readings table: 153\n",
            "Light data added to mqtt_readings table: 153\n"
          ]
        },
        {
          "output_type": "stream",
          "name": "stderr",
          "text": [
            "INFO:werkzeug:127.0.0.1 - - [19/Sep/2025 07:51:06] \"POST /sensor HTTP/1.1\" 200 -\n"
          ]
        },
        {
          "output_type": "stream",
          "name": "stdout",
          "text": [
            "Received temperature and humidity data via HTTP and added to http_readings table: {'temperature': 24.12, 'humidity': 53.37}\n",
            "Received `{\"light\": 883}` from `unram/iot/sensor` topic\n",
            "Received `{\"light\": 883}` from `unram/iot/sensor` topic\n",
            "Light data added to mqtt_readings table: 883\n",
            "Light data added to mqtt_readings table: 883\n"
          ]
        },
        {
          "output_type": "stream",
          "name": "stderr",
          "text": [
            "INFO:werkzeug:127.0.0.1 - - [19/Sep/2025 07:51:09] \"POST /sensor HTTP/1.1\" 200 -\n"
          ]
        },
        {
          "output_type": "stream",
          "name": "stdout",
          "text": [
            "Received temperature and humidity data via HTTP and added to http_readings table: {'temperature': 21.09, 'humidity': 50.63}\n",
            "Received `{\"light\": 45}` from `unram/iot/sensor` topicReceived `{\"light\": 45}` from `unram/iot/sensor` topic\n",
            "\n",
            "Light data added to mqtt_readings table: 45\n",
            "Light data added to mqtt_readings table: 45\n"
          ]
        },
        {
          "output_type": "stream",
          "name": "stderr",
          "text": [
            "INFO:werkzeug:127.0.0.1 - - [19/Sep/2025 07:51:11] \"POST /sensor HTTP/1.1\" 200 -\n"
          ]
        },
        {
          "output_type": "stream",
          "name": "stdout",
          "text": [
            "Received temperature and humidity data via HTTP and added to http_readings table: {'temperature': 24.79, 'humidity': 40.02}\n",
            "Received `{\"light\": 826}` from `unram/iot/sensor` topic\n",
            "Received `{\"light\": 826}` from `unram/iot/sensor` topic\n",
            "Light data added to mqtt_readings table: 826\n",
            "Light data added to mqtt_readings table: 826\n"
          ]
        },
        {
          "output_type": "stream",
          "name": "stderr",
          "text": [
            "INFO:werkzeug:127.0.0.1 - - [19/Sep/2025 07:51:13] \"POST /sensor HTTP/1.1\" 200 -\n"
          ]
        },
        {
          "output_type": "stream",
          "name": "stdout",
          "text": [
            "Received temperature and humidity data via HTTP and added to http_readings table: {'temperature': 25.24, 'humidity': 42.14}\n",
            "Received `{\"light\": 179}` from `unram/iot/sensor` topic\n",
            "Received `{\"light\": 179}` from `unram/iot/sensor` topic\n",
            "Light data added to mqtt_readings table: 179\n",
            "Light data added to mqtt_readings table: 179\n"
          ]
        },
        {
          "output_type": "stream",
          "name": "stderr",
          "text": [
            "INFO:werkzeug:127.0.0.1 - - [19/Sep/2025 07:51:15] \"POST /sensor HTTP/1.1\" 200 -\n"
          ]
        },
        {
          "output_type": "stream",
          "name": "stdout",
          "text": [
            "Received temperature and humidity data via HTTP and added to http_readings table: {'temperature': 20.39, 'humidity': 44.12}\n",
            "Received `{\"light\": 147}` from `unram/iot/sensor` topic\n",
            "Received `{\"light\": 147}` from `unram/iot/sensor` topic\n",
            "Light data added to mqtt_readings table: 147\n",
            "Light data added to mqtt_readings table: 147\n"
          ]
        },
        {
          "output_type": "stream",
          "name": "stderr",
          "text": [
            "INFO:werkzeug:127.0.0.1 - - [19/Sep/2025 07:51:18] \"POST /sensor HTTP/1.1\" 200 -\n"
          ]
        },
        {
          "output_type": "stream",
          "name": "stdout",
          "text": [
            "Received `{\"light\": 348}` from `unram/iot/sensor` topic\n",
            "Received `{\"light\": 348}` from `unram/iot/sensor` topic\n",
            "Light data added to mqtt_readings table: 348\n",
            "Light data added to mqtt_readings table: 348\n",
            "Received temperature and humidity data via HTTP and added to http_readings table: {'temperature': 26.52, 'humidity': 50.5}\n",
            "Received `{\"light\": 13}` from `unram/iot/sensor` topic\n",
            "Received `{\"light\": 13}` from `unram/iot/sensor` topic\n",
            "Light data added to mqtt_readings table: 13\n",
            "Light data added to mqtt_readings table: 13\n"
          ]
        },
        {
          "output_type": "stream",
          "name": "stderr",
          "text": [
            "INFO:werkzeug:127.0.0.1 - - [19/Sep/2025 07:51:20] \"POST /sensor HTTP/1.1\" 200 -\n"
          ]
        },
        {
          "output_type": "stream",
          "name": "stdout",
          "text": [
            "Received temperature and humidity data via HTTP and added to http_readings table: {'temperature': 29.03, 'humidity': 57.25}\n"
          ]
        },
        {
          "output_type": "stream",
          "name": "stderr",
          "text": [
            "INFO:werkzeug:127.0.0.1 - - [19/Sep/2025 07:51:21] \"GET /data/light HTTP/1.1\" 200 -\n"
          ]
        },
        {
          "output_type": "stream",
          "name": "stdout",
          "text": [
            "Received `{\"light\": 25}` from `unram/iot/sensor` topic\n",
            "Received `{\"light\": 25}` from `unram/iot/sensor` topic\n",
            "Light data added to mqtt_readings table: 25\n",
            "Light data added to mqtt_readings table: 25\n"
          ]
        },
        {
          "output_type": "stream",
          "name": "stderr",
          "text": [
            "INFO:werkzeug:127.0.0.1 - - [19/Sep/2025 07:51:22] \"POST /sensor HTTP/1.1\" 200 -\n"
          ]
        },
        {
          "output_type": "stream",
          "name": "stdout",
          "text": [
            "Received temperature and humidity data via HTTP and added to http_readings table: {'temperature': 20.12, 'humidity': 49.07}\n"
          ]
        },
        {
          "output_type": "stream",
          "name": "stderr",
          "text": [
            "INFO:werkzeug:127.0.0.1 - - [19/Sep/2025 07:51:23] \"GET /data/light HTTP/1.1\" 200 -\n"
          ]
        },
        {
          "output_type": "stream",
          "name": "stdout",
          "text": [
            "Received `{\"light\": 534}` from `unram/iot/sensor` topicReceived `{\"light\": 534}` from `unram/iot/sensor` topic\n",
            "\n",
            "Light data added to mqtt_readings table: 534\n",
            "Light data added to mqtt_readings table: 534\n"
          ]
        },
        {
          "output_type": "stream",
          "name": "stderr",
          "text": [
            "INFO:werkzeug:127.0.0.1 - - [19/Sep/2025 07:51:24] \"POST /sensor HTTP/1.1\" 200 -\n"
          ]
        },
        {
          "output_type": "stream",
          "name": "stdout",
          "text": [
            "Received temperature and humidity data via HTTP and added to http_readings table: {'temperature': 22.88, 'humidity': 57.88}\n",
            "Received `{\"light\": 65}` from `unram/iot/sensor` topic\n",
            "Received `{\"light\": 65}` from `unram/iot/sensor` topic\n",
            "Light data added to mqtt_readings table: 65\n",
            "Light data added to mqtt_readings table: 65\n"
          ]
        },
        {
          "output_type": "stream",
          "name": "stderr",
          "text": [
            "INFO:werkzeug:127.0.0.1 - - [19/Sep/2025 07:51:26] \"GET /data/light HTTP/1.1\" 200 -\n",
            "INFO:werkzeug:127.0.0.1 - - [19/Sep/2025 07:51:27] \"POST /sensor HTTP/1.1\" 200 -\n"
          ]
        },
        {
          "output_type": "stream",
          "name": "stdout",
          "text": [
            "Received temperature and humidity data via HTTP and added to http_readings table: {'temperature': 25.35, 'humidity': 56.94}\n",
            "Received `{\"light\": 975}` from `unram/iot/sensor` topic\n",
            "Received `{\"light\": 975}` from `unram/iot/sensor` topic\n",
            "Light data added to mqtt_readings table: 975\n",
            "Light data added to mqtt_readings table: 975\n"
          ]
        },
        {
          "output_type": "stream",
          "name": "stderr",
          "text": [
            "INFO:werkzeug:127.0.0.1 - - [19/Sep/2025 07:51:29] \"GET /data/light HTTP/1.1\" 200 -\n",
            "INFO:werkzeug:127.0.0.1 - - [19/Sep/2025 07:51:29] \"POST /sensor HTTP/1.1\" 200 -\n"
          ]
        },
        {
          "output_type": "stream",
          "name": "stdout",
          "text": [
            "Received temperature and humidity data via HTTP and added to http_readings table: {'temperature': 27.99, 'humidity': 46.69}\n",
            "Received `{\"light\": 1}` from `unram/iot/sensor` topic\n",
            "Received `{\"light\": 1}` from `unram/iot/sensor` topic\n",
            "Light data added to mqtt_readings table: 1\n",
            "Light data added to mqtt_readings table: 1\n"
          ]
        },
        {
          "output_type": "stream",
          "name": "stderr",
          "text": [
            "INFO:werkzeug:127.0.0.1 - - [19/Sep/2025 07:51:31] \"POST /sensor HTTP/1.1\" 200 -\n"
          ]
        },
        {
          "output_type": "stream",
          "name": "stdout",
          "text": [
            "Received temperature and humidity data via HTTP and added to http_readings table: {'temperature': 24.08, 'humidity': 54.39}\n",
            "Received `{\"light\": 256}` from `unram/iot/sensor` topic\n",
            "Received `{\"light\": 256}` from `unram/iot/sensor` topic\n",
            "Light data added to mqtt_readings table: 256\n",
            "Light data added to mqtt_readings table: 256\n"
          ]
        },
        {
          "output_type": "stream",
          "name": "stderr",
          "text": [
            "INFO:werkzeug:127.0.0.1 - - [19/Sep/2025 07:51:33] \"POST /sensor HTTP/1.1\" 200 -\n"
          ]
        },
        {
          "output_type": "stream",
          "name": "stdout",
          "text": [
            "Received temperature and humidity data via HTTP and added to http_readings table: {'temperature': 29.04, 'humidity': 51.48}\n",
            "Received `{\"light\": 99}` from `unram/iot/sensor` topic\n",
            "Received `{\"light\": 99}` from `unram/iot/sensor` topic\n",
            "Light data added to mqtt_readings table: 99\n",
            "Light data added to mqtt_readings table: 99\n"
          ]
        },
        {
          "output_type": "stream",
          "name": "stderr",
          "text": [
            "INFO:werkzeug:127.0.0.1 - - [19/Sep/2025 07:51:35] \"POST /sensor HTTP/1.1\" 200 -\n"
          ]
        },
        {
          "output_type": "stream",
          "name": "stdout",
          "text": [
            "Received temperature and humidity data via HTTP and added to http_readings table: {'temperature': 21.63, 'humidity': 46.38}\n",
            "Received `{\"light\": 423}` from `unram/iot/sensor` topic\n",
            "Received `{\"light\": 423}` from `unram/iot/sensor` topic\n",
            "Light data added to mqtt_readings table: 423\n",
            "Light data added to mqtt_readings table: 423\n",
            "Received `{\"light\": 971}` from `unram/iot/sensor` topic\n",
            "Received `{\"light\": 971}` from `unram/iot/sensor` topic\n",
            "Light data added to mqtt_readings table: 971\n",
            "Light data added to mqtt_readings table: 971\n"
          ]
        },
        {
          "output_type": "stream",
          "name": "stderr",
          "text": [
            "INFO:werkzeug:127.0.0.1 - - [19/Sep/2025 07:51:38] \"POST /sensor HTTP/1.1\" 200 -\n"
          ]
        },
        {
          "output_type": "stream",
          "name": "stdout",
          "text": [
            "Received temperature and humidity data via HTTP and added to http_readings table: {'temperature': 28.66, 'humidity': 50.17}\n",
            "Received `{\"light\": 176}` from `unram/iot/sensor` topic\n",
            "Received `{\"light\": 176}` from `unram/iot/sensor` topic\n",
            "Light data added to mqtt_readings table: 176\n",
            "Light data added to mqtt_readings table: 176\n"
          ]
        },
        {
          "output_type": "stream",
          "name": "stderr",
          "text": [
            "INFO:werkzeug:127.0.0.1 - - [19/Sep/2025 07:51:40] \"POST /sensor HTTP/1.1\" 200 -\n"
          ]
        },
        {
          "output_type": "stream",
          "name": "stdout",
          "text": [
            "Received temperature and humidity data via HTTP and added to http_readings table: {'temperature': 22.15, 'humidity': 40.76}\n",
            "Received `{\"light\": 71}` from `unram/iot/sensor` topic\n",
            "Received `{\"light\": 71}` from `unram/iot/sensor` topic\n",
            "Light data added to mqtt_readings table: 71\n",
            "Light data added to mqtt_readings table: 71\n"
          ]
        },
        {
          "output_type": "stream",
          "name": "stderr",
          "text": [
            "INFO:werkzeug:127.0.0.1 - - [19/Sep/2025 07:51:42] \"POST /sensor HTTP/1.1\" 200 -\n"
          ]
        },
        {
          "output_type": "stream",
          "name": "stdout",
          "text": [
            "Received temperature and humidity data via HTTP and added to http_readings table: {'temperature': 26.33, 'humidity': 53.05}\n",
            "Received `{\"light\": 613}` from `unram/iot/sensor` topic\n",
            "Received `{\"light\": 613}` from `unram/iot/sensor` topic\n",
            "Light data added to mqtt_readings table: 613\n",
            "Light data added to mqtt_readings table: 613\n"
          ]
        },
        {
          "output_type": "stream",
          "name": "stderr",
          "text": [
            "INFO:werkzeug:127.0.0.1 - - [19/Sep/2025 07:51:44] \"POST /sensor HTTP/1.1\" 200 -\n"
          ]
        },
        {
          "output_type": "stream",
          "name": "stdout",
          "text": [
            "Received temperature and humidity data via HTTP and added to http_readings table: {'temperature': 21.85, 'humidity': 47.67}\n",
            "Received `{\"light\": 776}` from `unram/iot/sensor` topic\n",
            "Received `{\"light\": 776}` from `unram/iot/sensor` topic\n",
            "Light data added to mqtt_readings table: 776\n",
            "Light data added to mqtt_readings table: 776\n"
          ]
        },
        {
          "output_type": "stream",
          "name": "stderr",
          "text": [
            "INFO:werkzeug:127.0.0.1 - - [19/Sep/2025 07:51:47] \"POST /sensor HTTP/1.1\" 200 -\n"
          ]
        },
        {
          "output_type": "stream",
          "name": "stdout",
          "text": [
            "Received temperature and humidity data via HTTP and added to http_readings table: {'temperature': 29.9, 'humidity': 58.49}\n",
            "Received `{\"light\": 656}` from `unram/iot/sensor` topic\n",
            "Received `{\"light\": 656}` from `unram/iot/sensor` topic\n",
            "Light data added to mqtt_readings table: 656\n",
            "Light data added to mqtt_readings table: 656\n"
          ]
        },
        {
          "output_type": "stream",
          "name": "stderr",
          "text": [
            "INFO:werkzeug:127.0.0.1 - - [19/Sep/2025 07:51:49] \"POST /sensor HTTP/1.1\" 200 -\n"
          ]
        },
        {
          "output_type": "stream",
          "name": "stdout",
          "text": [
            "Received temperature and humidity data via HTTP and added to http_readings table: {'temperature': 28.51, 'humidity': 43.58}\n"
          ]
        },
        {
          "output_type": "stream",
          "name": "stderr",
          "text": [
            "INFO:werkzeug:127.0.0.1 - - [19/Sep/2025 07:51:49] \"GET /data/temp_hum HTTP/1.1\" 200 -\n"
          ]
        },
        {
          "output_type": "stream",
          "name": "stdout",
          "text": [
            "Received `{\"light\": 919}` from `unram/iot/sensor` topic\n",
            "Received `{\"light\": 919}` from `unram/iot/sensor` topic\n",
            "Light data added to mqtt_readings table: 919\n",
            "Light data added to mqtt_readings table: 919\n"
          ]
        },
        {
          "output_type": "stream",
          "name": "stderr",
          "text": [
            "INFO:werkzeug:127.0.0.1 - - [19/Sep/2025 07:51:51] \"POST /sensor HTTP/1.1\" 200 -\n"
          ]
        },
        {
          "output_type": "stream",
          "name": "stdout",
          "text": [
            "Received temperature and humidity data via HTTP and added to http_readings table: {'temperature': 28.53, 'humidity': 46.26}\n",
            "Received `{\"light\": 336}` from `unram/iot/sensor` topic\n",
            "Received `{\"light\": 336}` from `unram/iot/sensor` topic\n",
            "Light data added to mqtt_readings table: 336\n",
            "Light data added to mqtt_readings table: 336\n"
          ]
        },
        {
          "output_type": "stream",
          "name": "stderr",
          "text": [
            "INFO:werkzeug:127.0.0.1 - - [19/Sep/2025 07:51:52] \"GET /data/temp_hum HTTP/1.1\" 200 -\n",
            "INFO:werkzeug:127.0.0.1 - - [19/Sep/2025 07:51:53] \"POST /sensor HTTP/1.1\" 200 -\n"
          ]
        },
        {
          "output_type": "stream",
          "name": "stdout",
          "text": [
            "Received temperature and humidity data via HTTP and added to http_readings table: {'temperature': 27.03, 'humidity': 40.25}\n",
            "Received `{\"light\": 918}` from `unram/iot/sensor` topic\n",
            "Received `{\"light\": 918}` from `unram/iot/sensor` topic\n",
            "Light data added to mqtt_readings table: 918\n",
            "Light data added to mqtt_readings table: 918\n"
          ]
        },
        {
          "output_type": "stream",
          "name": "stderr",
          "text": [
            "INFO:werkzeug:127.0.0.1 - - [19/Sep/2025 07:51:56] \"POST /sensor HTTP/1.1\" 200 -\n"
          ]
        },
        {
          "output_type": "stream",
          "name": "stdout",
          "text": [
            "Received `{\"light\": 838}` from `unram/iot/sensor` topic\n",
            "Received `{\"light\": 838}` from `unram/iot/sensor` topic\n",
            "Light data added to mqtt_readings table: 838\n",
            "Light data added to mqtt_readings table: 838\n",
            "Received temperature and humidity data via HTTP and added to http_readings table: {'temperature': 21.15, 'humidity': 42.09}\n",
            "Received `{\"light\": 225}` from `unram/iot/sensor` topic\n",
            "Received `{\"light\": 225}` from `unram/iot/sensor` topic\n",
            "Light data added to mqtt_readings table: 225\n",
            "Light data added to mqtt_readings table: 225\n"
          ]
        },
        {
          "output_type": "stream",
          "name": "stderr",
          "text": [
            "INFO:werkzeug:127.0.0.1 - - [19/Sep/2025 07:51:58] \"POST /sensor HTTP/1.1\" 200 -\n"
          ]
        },
        {
          "output_type": "stream",
          "name": "stdout",
          "text": [
            "Received temperature and humidity data via HTTP and added to http_readings table: {'temperature': 21.21, 'humidity': 42.39}\n",
            "Received `{\"light\": 689}` from `unram/iot/sensor` topic\n",
            "Received `{\"light\": 689}` from `unram/iot/sensor` topic\n",
            "Light data added to mqtt_readings table: 689\n",
            "Light data added to mqtt_readings table: 689\n"
          ]
        },
        {
          "output_type": "stream",
          "name": "stderr",
          "text": [
            "INFO:werkzeug:127.0.0.1 - - [19/Sep/2025 07:52:00] \"POST /sensor HTTP/1.1\" 200 -\n"
          ]
        },
        {
          "output_type": "stream",
          "name": "stdout",
          "text": [
            "Received temperature and humidity data via HTTP and added to http_readings table: {'temperature': 24.64, 'humidity': 59.43}\n",
            "Received `{\"light\": 209}` from `unram/iot/sensor` topicReceived `{\"light\": 209}` from `unram/iot/sensor` topic\n",
            "\n",
            "Light data added to mqtt_readings table: 209\n",
            "Light data added to mqtt_readings table: 209\n"
          ]
        },
        {
          "output_type": "stream",
          "name": "stderr",
          "text": [
            "INFO:werkzeug:127.0.0.1 - - [19/Sep/2025 07:52:02] \"POST /sensor HTTP/1.1\" 200 -\n"
          ]
        },
        {
          "output_type": "stream",
          "name": "stdout",
          "text": [
            "Received temperature and humidity data via HTTP and added to http_readings table: {'temperature': 27.25, 'humidity': 55.97}\n",
            "Received `{\"light\": 647}` from `unram/iot/sensor` topicReceived `{\"light\": 647}` from `unram/iot/sensor` topic\n",
            "\n",
            "Light data added to mqtt_readings table: 647\n",
            "Light data added to mqtt_readings table: 647\n"
          ]
        },
        {
          "output_type": "stream",
          "name": "stderr",
          "text": [
            "INFO:werkzeug:127.0.0.1 - - [19/Sep/2025 07:52:04] \"POST /sensor HTTP/1.1\" 200 -\n"
          ]
        },
        {
          "output_type": "stream",
          "name": "stdout",
          "text": [
            "Received temperature and humidity data via HTTP and added to http_readings table: {'temperature': 20.46, 'humidity': 52.99}\n",
            "Received `{\"light\": 985}` from `unram/iot/sensor` topic\n",
            "Received `{\"light\": 985}` from `unram/iot/sensor` topic\n",
            "Light data added to mqtt_readings table: 985\n",
            "Light data added to mqtt_readings table: 985\n"
          ]
        },
        {
          "output_type": "stream",
          "name": "stderr",
          "text": [
            "INFO:werkzeug:127.0.0.1 - - [19/Sep/2025 07:52:07] \"POST /sensor HTTP/1.1\" 200 -\n"
          ]
        },
        {
          "output_type": "stream",
          "name": "stdout",
          "text": [
            "Received temperature and humidity data via HTTP and added to http_readings table: {'temperature': 26.42, 'humidity': 44.97}\n",
            "Received `{\"light\": 166}` from `unram/iot/sensor` topic\n",
            "Received `{\"light\": 166}` from `unram/iot/sensor` topic\n",
            "Light data added to mqtt_readings table: 166\n",
            "Light data added to mqtt_readings table: 166\n"
          ]
        },
        {
          "output_type": "stream",
          "name": "stderr",
          "text": [
            "INFO:werkzeug:127.0.0.1 - - [19/Sep/2025 07:52:09] \"POST /sensor HTTP/1.1\" 200 -\n"
          ]
        },
        {
          "output_type": "stream",
          "name": "stdout",
          "text": [
            "Received temperature and humidity data via HTTP and added to http_readings table: {'temperature': 25.69, 'humidity': 57.4}\n",
            "Received `{\"light\": 690}` from `unram/iot/sensor` topic\n",
            "Received `{\"light\": 690}` from `unram/iot/sensor` topic\n",
            "Light data added to mqtt_readings table: 690\n",
            "Light data added to mqtt_readings table: 690\n"
          ]
        },
        {
          "output_type": "stream",
          "name": "stderr",
          "text": [
            "INFO:werkzeug:127.0.0.1 - - [19/Sep/2025 07:52:11] \"POST /sensor HTTP/1.1\" 200 -\n"
          ]
        },
        {
          "output_type": "stream",
          "name": "stdout",
          "text": [
            "Received temperature and humidity data via HTTP and added to http_readings table: {'temperature': 22.89, 'humidity': 43.67}\n",
            "Received `{\"light\": 166}` from `unram/iot/sensor` topicReceived `{\"light\": 166}` from `unram/iot/sensor` topic\n",
            "\n",
            "Light data added to mqtt_readings table: 166\n",
            "Light data added to mqtt_readings table: 166\n"
          ]
        },
        {
          "output_type": "stream",
          "name": "stderr",
          "text": [
            "INFO:werkzeug:127.0.0.1 - - [19/Sep/2025 07:52:13] \"POST /sensor HTTP/1.1\" 200 -\n"
          ]
        },
        {
          "output_type": "stream",
          "name": "stdout",
          "text": [
            "Received temperature and humidity data via HTTP and added to http_readings table: {'temperature': 22.44, 'humidity': 59.59}\n",
            "Received `{\"light\": 463}` from `unram/iot/sensor` topic\n",
            "Received `{\"light\": 463}` from `unram/iot/sensor` topic\n",
            "Light data added to mqtt_readings table: 463\n",
            "Light data added to mqtt_readings table: 463\n"
          ]
        },
        {
          "output_type": "stream",
          "name": "stderr",
          "text": [
            "INFO:werkzeug:127.0.0.1 - - [19/Sep/2025 07:52:16] \"POST /sensor HTTP/1.1\" 200 -\n"
          ]
        },
        {
          "output_type": "stream",
          "name": "stdout",
          "text": [
            "Received `{\"light\": 871}` from `unram/iot/sensor` topic\n",
            "Received `{\"light\": 871}` from `unram/iot/sensor` topic\n",
            "Light data added to mqtt_readings table: 871\n",
            "Light data added to mqtt_readings table: 871\n",
            "Received temperature and humidity data via HTTP and added to http_readings table: {'temperature': 20.51, 'humidity': 51.6}\n",
            "Received `{\"light\": 542}` from `unram/iot/sensor` topic\n",
            "Received `{\"light\": 542}` from `unram/iot/sensor` topic\n",
            "Light data added to mqtt_readings table: 542\n",
            "Light data added to mqtt_readings table: 542\n"
          ]
        }
      ]
    },
    {
      "cell_type": "code",
      "source": [],
      "metadata": {
        "id": "CDErnSsuC-yv"
      },
      "execution_count": null,
      "outputs": []
    },
    {
      "cell_type": "code",
      "metadata": {
        "colab": {
          "base_uri": "https://localhost:8080/",
          "height": 564
        },
        "id": "602d1b1a",
        "outputId": "187a3aa9-a355-46c3-8016-c42199088dee"
      },
      "source": [
        "import sqlite3\n",
        "import pandas as pd\n",
        "import matplotlib.pyplot as plt\n",
        "\n",
        "DATABASE = 'sensor_data.db'\n",
        "\n",
        "def get_light_data():\n",
        "    conn = None\n",
        "    try:\n",
        "        conn = sqlite3.connect(DATABASE)\n",
        "        cursor = conn.cursor()\n",
        "        cursor.execute(\"SELECT light, timestamp FROM mqtt_readings ORDER BY timestamp\")\n",
        "        rows = cursor.fetchall()\n",
        "        return rows\n",
        "    except Exception as e:\n",
        "        print(f\"Error retrieving light data: {e}\")\n",
        "        return None\n",
        "    finally:\n",
        "        if conn:\n",
        "            conn.close()\n",
        "\n",
        "light_data = get_light_data()\n",
        "\n",
        "if light_data:\n",
        "    df = pd.DataFrame(light_data, columns=['light', 'timestamp'])\n",
        "    df['timestamp'] = pd.to_datetime(df['timestamp'])\n",
        "\n",
        "    plt.figure(figsize=(12, 6))\n",
        "    plt.plot(df['timestamp'], df['light'])\n",
        "    plt.xlabel(\"Timestamp\")\n",
        "    plt.ylabel(\"Light Value\")\n",
        "    plt.title(\"Light Sensor Readings Over Time\")\n",
        "    plt.grid(True)\n",
        "    plt.show()\n",
        "else:\n",
        "    print(\"No light data available to plot.\")"
      ],
      "execution_count": null,
      "outputs": [
        {
          "output_type": "display_data",
          "data": {
            "text/plain": [
              "<Figure size 1200x600 with 1 Axes>"
            ],
            "image/png": "[encoded data removed]"
          },
          "metadata": {}
        }
      ]
    },
    {
      "cell_type": "markdown",
      "metadata": {
        "id": "d295d7b2"
      },
      "source": [
        "To use `pyngrok`, you need to get an authtoken from the ngrok dashboard ([https://dashboard.ngrok.com/get-started/your-authtoken](https://dashboard.ngrok.com/get-started/your-authtoken)). Once you have it, you can add it to the code using `ngrok.set_auth_token()`."
      ]
    },
    {
      "cell_type": "markdown",
      "source": [
        "Setelah dijalankan, akan muncul URL publik https://xxxxx.ngrok.io → endpoint ini akan dipakai oleh client (HTTP/MQTT)."
      ],
      "metadata": {
        "id": "2VEM0B9vueZD"
      }
    },
    {
      "cell_type": "markdown",
      "source": [
        "# Output yang Diharapkan\n",
        "\n",
        "1. Data sensor berhasil disimpan di SQLite melalui Flask.\n",
        "\n",
        "2. Endpoint /data menampilkan list JSON data sensor.\n",
        "\n",
        "3. Mahasiswa memahami bagaimana server IoT menyimpan data sensor untuk analisis lebih lanjut."
      ],
      "metadata": {
        "id": "GskzBflTvo_D"
      }
    }
  ]
}