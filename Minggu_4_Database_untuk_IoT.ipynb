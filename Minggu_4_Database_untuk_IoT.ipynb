{
  "nbformat": 4,
  "nbformat_minor": 0,
  "metadata": {
    "colab": {
      "provenance": [],
      "authorship_tag": "ABX9TyPxCksbaAWSQM0IMWEOrcsL",
      "include_colab_link": true
    },
    "kernelspec": {
      "name": "python3",
      "display_name": "Python 3"
    },
    "language_info": {
      "name": "python"
    }
  },
  "cells": [
    {
      "cell_type": "markdown",
      "metadata": {
        "id": "view-in-github",
        "colab_type": "text"
      },
      "source": [
        "<a href=\"https://colab.research.google.com/github/arimbawa/Aplikasi-IoT/blob/main/Minggu_4_Database_untuk_IoT.ipynb\" target=\"_parent\"><img src=\"https://colab.research.google.com/assets/colab-badge.svg\" alt=\"Open In Colab\"/></a>"
      ]
    },
    {
      "cell_type": "markdown",
      "source": [
        "# **Materi Minggu 4: Database untuk IoT**\n",
        "\n",
        "**Tujuan Pembelajaran:**\n",
        "\n",
        "\n",
        "1.   Mahasiswa memahami integrasi aplikasi IoT dengan database.\n",
        "2.   Mahasiswa mampu membuat API Flask yang menyimpan dan mengambil data dari database.\n",
        "3. Mahasiswa dapat menguji alur perangkat → Flask → Database → Visualisasi."
      ],
      "metadata": {
        "id": "BeqU7JjLtpoh"
      }
    },
    {
      "cell_type": "markdown",
      "source": [
        "# Langkah Praktikum\n",
        "\n",
        "1.   Setup Flask Server (Google Colab)\n",
        "\n",
        "Kita pakai SQLite (ringan, sudah bawaan Python)."
      ],
      "metadata": {
        "id": "b9ZMeS15uMfs"
      }
    },
    {
      "cell_type": "code",
      "execution_count": 1,
      "metadata": {
        "id": "Jr16WO_4tcGA",
        "colab": {
          "base_uri": "https://localhost:8080/"
        },
        "outputId": "852fd72e-7383-480c-9b03-81dce9f58c6d"
      },
      "outputs": [
        {
          "output_type": "stream",
          "name": "stdout",
          "text": [
            "Requirement already satisfied: flask in /usr/local/lib/python3.12/dist-packages (3.1.2)\n",
            "Collecting pyngrok\n",
            "  Downloading pyngrok-7.3.0-py3-none-any.whl.metadata (8.1 kB)\n",
            "Requirement already satisfied: sqlalchemy in /usr/local/lib/python3.12/dist-packages (2.0.43)\n",
            "Requirement already satisfied: blinker>=1.9.0 in /usr/local/lib/python3.12/dist-packages (from flask) (1.9.0)\n",
            "Requirement already satisfied: click>=8.1.3 in /usr/local/lib/python3.12/dist-packages (from flask) (8.2.1)\n",
            "Requirement already satisfied: itsdangerous>=2.2.0 in /usr/local/lib/python3.12/dist-packages (from flask) (2.2.0)\n",
            "Requirement already satisfied: jinja2>=3.1.2 in /usr/local/lib/python3.12/dist-packages (from flask) (3.1.6)\n",
            "Requirement already satisfied: markupsafe>=2.1.1 in /usr/local/lib/python3.12/dist-packages (from flask) (3.0.2)\n",
            "Requirement already satisfied: werkzeug>=3.1.0 in /usr/local/lib/python3.12/dist-packages (from flask) (3.1.3)\n",
            "Requirement already satisfied: PyYAML>=5.1 in /usr/local/lib/python3.12/dist-packages (from pyngrok) (6.0.2)\n",
            "Requirement already satisfied: greenlet>=1 in /usr/local/lib/python3.12/dist-packages (from sqlalchemy) (3.2.4)\n",
            "Requirement already satisfied: typing-extensions>=4.6.0 in /usr/local/lib/python3.12/dist-packages (from sqlalchemy) (4.15.0)\n",
            "Downloading pyngrok-7.3.0-py3-none-any.whl (25 kB)\n",
            "Installing collected packages: pyngrok\n",
            "Successfully installed pyngrok-7.3.0\n",
            "Collecting paho-mqtt\n",
            "  Downloading paho_mqtt-2.1.0-py3-none-any.whl.metadata (23 kB)\n",
            "Downloading paho_mqtt-2.1.0-py3-none-any.whl (67 kB)\n",
            "\u001b[2K   \u001b[90m━━━━━━━━━━━━━━━━━━━━━━━━━━━━━━━━━━━━━━━━\u001b[0m \u001b[32m67.2/67.2 kB\u001b[0m \u001b[31m5.2 MB/s\u001b[0m eta \u001b[36m0:00:00\u001b[0m\n",
            "\u001b[?25hInstalling collected packages: paho-mqtt\n",
            "Successfully installed paho-mqtt-2.1.0\n"
          ]
        }
      ],
      "source": [
        "!pip install flask pyngrok sqlalchemy\n",
        "!pip install paho-mqtt"
      ]
    },
    {
      "cell_type": "code",
      "source": [
        "from flask import Flask, request, jsonify\n",
        "from pyngrok import ngrok\n",
        "import paho.mqtt.client as mqtt\n",
        "import json\n",
        "import threading\n",
        "import sqlite3\n",
        "from datetime import datetime\n",
        "\n",
        "# Replace \"YOUR_NGROK_AUTH_TOKEN\" with your actual ngrok authtoken\n",
        "ngrok.set_auth_token(\"32tnIljunaDDrFMWVCD2784cERi_2tHAN1MwNfRM9Ug5omaq5\")\n",
        "\n",
        "# Buat app Flask\n",
        "app = Flask(__name__)\n",
        "\n",
        "# Database Setup\n",
        "DATABASE = 'sensor_data.db'\n",
        "\n",
        "def init_db():\n",
        "    with app.app_context():\n",
        "        db = get_db()\n",
        "        cursor = db.cursor()\n",
        "        cursor.execute('''\n",
        "            CREATE TABLE IF NOT EXISTS mqtt_readings (\n",
        "                id INTEGER PRIMARY KEY AUTOINCREMENT,\n",
        "                light REAL,\n",
        "                timestamp DATETIME DEFAULT CURRENT_TIMESTAMP\n",
        "            )\n",
        "        ''')\n",
        "        cursor.execute('''\n",
        "            CREATE TABLE IF NOT EXISTS http_readings (\n",
        "                id INTEGER PRIMARY KEY AUTOINCREMENT,\n",
        "                temperature REAL,\n",
        "                humidity REAL,\n",
        "                timestamp DATETIME DEFAULT CURRENT_TIMESTAMP\n",
        "            )\n",
        "        ''')\n",
        "        db.commit()\n",
        "\n",
        "def get_db():\n",
        "    db = getattr(g, '_database', None)\n",
        "    if db is None:\n",
        "        db = g._database = sqlite3.connect(DATABASE)\n",
        "    return db\n",
        "\n",
        "@app.teardown_appcontext\n",
        "def close_db(error):\n",
        "    db = getattr(g, '_database', None)\n",
        "    if db is not None:\n",
        "        db.close()\n",
        "\n",
        "from flask import g\n",
        "\n",
        "# MQTT Settings\n",
        "MQTT_BROKER = \"broker.hivemq.com\"\n",
        "MQTT_PORT = 1883\n",
        "MQTT_TOPIC = \"unram/iot/sensor\"\n",
        "\n",
        "# MQTT Callbacks\n",
        "def on_connect(client, userdata, flags, rc):\n",
        "    if rc == 0:\n",
        "        print(\"Connected to MQTT Broker!\")\n",
        "        client.subscribe(MQTT_TOPIC)\n",
        "        print(f\"Subscribed to topic: {MQTT_TOPIC}\")\n",
        "    else:\n",
        "        print(f\"Failed to connect, return code {rc}\\n\")\n",
        "\n",
        "def on_message(client, userdata, msg):\n",
        "    print(f\"Received `{msg.payload.decode()}` from `{msg.topic}` topic\")\n",
        "    try:\n",
        "        data = json.loads(msg.payload.decode())\n",
        "        # Assuming the MQTT message contains 'light' data\n",
        "        if 'light' in data:\n",
        "            light_value = data['light']\n",
        "            with app.app_context():\n",
        "                db = get_db()\n",
        "                cursor = db.cursor()\n",
        "                cursor.execute(\"INSERT INTO mqtt_readings (light) VALUES (?)\", (light_value,))\n",
        "                db.commit()\n",
        "                print(\"Light data added to mqtt_readings table:\", light_value)\n",
        "        else:\n",
        "            print(\"MQTT message does not contain 'light' data.\")\n",
        "    except json.JSONDecodeError:\n",
        "        print(\"Failed to decode JSON from MQTT message.\")\n",
        "    except Exception as e:\n",
        "        print(f\"Error inserting MQTT data into database: {e}\")\n",
        "\n",
        "\n",
        "# Create MQTT Client\n",
        "client = mqtt.Client()\n",
        "client.on_connect = on_connect\n",
        "client.on_message = on_message\n",
        "\n",
        "# Connect to MQTT Broker in a separate thread\n",
        "def connect_mqtt():\n",
        "    client.connect(MQTT_BROKER, MQTT_PORT, 60)\n",
        "    client.loop_forever()\n",
        "\n",
        "mqtt_thread = threading.Thread(target=connect_mqtt)\n",
        "mqtt_thread.start()\n",
        "\n",
        "\n",
        "@app.route('/sensor', methods=['POST'])\n",
        "def receive_sensor():\n",
        "    data = request.json\n",
        "    try:\n",
        "        if 'temperature' in data and 'humidity' in data:\n",
        "            temperature_value = data['temperature']\n",
        "            humidity_value = data['humidity']\n",
        "            db = get_db()\n",
        "            cursor = db.cursor()\n",
        "            cursor.execute(\"INSERT INTO http_readings (temperature, humidity) VALUES (?, ?)\", (temperature_value, humidity_value))\n",
        "            db.commit()\n",
        "            print(\"Received temperature and humidity data via HTTP and added to http_readings table:\", data)\n",
        "            return jsonify({\"status\": \"success\", \"received\": data})\n",
        "        else:\n",
        "            print(\"HTTP data does not contain 'temperature' or 'humidity' data.\")\n",
        "            return jsonify({\"status\": \"error\", \"message\": \"No 'temperature' or 'humidity' data in request\"}), 400\n",
        "    except Exception as e:\n",
        "        print(f\"Error inserting HTTP temperature and humidity data into database: {e}\")\n",
        "        return jsonify({\"status\": \"error\", \"message\": str(e)}), 500\n",
        "\n",
        "\n",
        "@app.route('/data', methods=['GET'])\n",
        "def get_data():\n",
        "    db = get_db()\n",
        "    cursor = db.cursor()\n",
        "    cursor.execute(\"SELECT id, light, timestamp FROM mqtt_readings\")\n",
        "    mqtt_rows = cursor.fetchall()\n",
        "    mqtt_data = []\n",
        "    for row in mqtt_rows:\n",
        "        mqtt_data.append({\"id\": row[0], \"light\": row[1], \"timestamp\": row[2], \"source\": \"mqtt\"})\n",
        "\n",
        "    cursor.execute(\"SELECT id, temperature, humidity, timestamp FROM http_readings\")\n",
        "    http_rows = cursor.fetchall()\n",
        "    http_data = []\n",
        "    for row in http_rows:\n",
        "        http_data.append({\"id\": row[0], \"temperature\": row[1], \"humidity\": row[2], \"timestamp\": row[3], \"source\": \"http\"})\n",
        "\n",
        "    return jsonify({\"mqtt_data\": mqtt_data, \"http_data\": http_data})\n",
        "\n",
        "# Initialize the database\n",
        "init_db()\n",
        "\n",
        "# Buka tunnel ngrok di port 5000\n",
        "public_url = ngrok.connect(5000).public_url\n",
        "print(\"Flask server URL:\", public_url)\n",
        "\n",
        "# Jalankan Flask\n",
        "if __name__ == '__main__':\n",
        "    app.run(port=5000)"
      ],
      "metadata": {
        "id": "Salc6ntSul3f"
      },
      "execution_count": null,
      "outputs": []
    },
    {
      "cell_type": "code",
      "source": [],
      "metadata": {
        "id": "CDErnSsuC-yv"
      },
      "execution_count": null,
      "outputs": []
    },
    {
      "cell_type": "markdown",
      "metadata": {
        "id": "d295d7b2"
      },
      "source": [
        "To use `pyngrok`, you need to get an authtoken from the ngrok dashboard ([https://dashboard.ngrok.com/get-started/your-authtoken](https://dashboard.ngrok.com/get-started/your-authtoken)). Once you have it, you can add it to the code using `ngrok.set_auth_token()`."
      ]
    },
    {
      "cell_type": "markdown",
      "source": [
        "Setelah dijalankan, akan muncul URL publik https://xxxxx.ngrok.io → endpoint ini akan dipakai oleh client (HTTP/MQTT)."
      ],
      "metadata": {
        "id": "2VEM0B9vueZD"
      }
    },
    {
      "cell_type": "markdown",
      "source": [
        "# Output yang Diharapkan\n",
        "\n",
        "1. Data sensor berhasil disimpan di SQLite melalui Flask.\n",
        "\n",
        "2. Endpoint /data menampilkan list JSON data sensor.\n",
        "\n",
        "3. Mahasiswa memahami bagaimana server IoT menyimpan data sensor untuk analisis lebih lanjut."
      ],
      "metadata": {
        "id": "GskzBflTvo_D"
      }
    }
  ]
}