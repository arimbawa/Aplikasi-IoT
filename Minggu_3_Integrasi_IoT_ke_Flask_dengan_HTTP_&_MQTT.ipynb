{
  "nbformat": 4,
  "nbformat_minor": 0,
  "metadata": {
    "colab": {
      "provenance": [],
      "authorship_tag": "ABX9TyMZT4N/oUlB4WaKg9PyZ4BP",
      "include_colab_link": true
    },
    "kernelspec": {
      "name": "python3",
      "display_name": "Python 3"
    },
    "language_info": {
      "name": "python"
    }
  },
  "cells": [
    {
      "cell_type": "markdown",
      "metadata": {
        "id": "view-in-github",
        "colab_type": "text"
      },
      "source": [
        "<a href=\"https://colab.research.google.com/github/arimbawa/Aplikasi-IoT/blob/main/Minggu_3_Integrasi_IoT_ke_Flask_dengan_HTTP_%26_MQTT.ipynb\" target=\"_parent\"><img src=\"https://colab.research.google.com/assets/colab-badge.svg\" alt=\"Open In Colab\"/></a>"
      ]
    },
    {
      "cell_type": "markdown",
      "source": [
        "# **Materi Minggu 3: Integrasi IoT ke Flask dengan HTTP & MQTT**\n",
        "\n",
        "**Tujuan Pembelajaran:**\n",
        "\n",
        "\n",
        "\n",
        "\n",
        "\n",
        "\n",
        "\n",
        "*   Mahasiswa memahami bagaimana perangkat IoT (sensor) mengirimkan data ke server.\n",
        "*   Mahasiswa mampu mengirimkan data sensor melalui HTTP POST dan MQTT.\n",
        "*   Mahasiswa dapat membuat Flask server untuk menerima data.\n",
        "\n"
      ],
      "metadata": {
        "id": "BeqU7JjLtpoh"
      }
    },
    {
      "cell_type": "markdown",
      "source": [
        "# Langkah Praktikum\n",
        "\n",
        "1.   Setup Flask Server (Google Colab)\n",
        "\n"
      ],
      "metadata": {
        "id": "b9ZMeS15uMfs"
      }
    },
    {
      "cell_type": "code",
      "execution_count": null,
      "metadata": {
        "id": "Jr16WO_4tcGA"
      },
      "outputs": [],
      "source": [
        "!pip install flask pyngrok\n",
        "!pip install paho-mqtt"
      ]
    },
    {
      "cell_type": "code",
      "source": [
        "from flask import Flask, request, jsonify\n",
        "from pyngrok import ngrok\n",
        "import paho.mqtt.client as mqtt\n",
        "import json\n",
        "import threading\n",
        "\n",
        "# Replace \"YOUR_NGROK_AUTH_TOKEN\" with your actual ngrok authtoken\n",
        "ngrok.set_auth_token(\"xxxxxxxxxxxxx\")\n",
        "\n",
        "# Buat app Flask\n",
        "app = Flask(__name__)\n",
        "sensor_data = []\n",
        "\n",
        "# MQTT Settings\n",
        "MQTT_BROKER = \"broker.hivemq.com\"\n",
        "MQTT_PORT = 1883\n",
        "MQTT_TOPIC = \"unram/iot/sensor\"\n",
        "\n",
        "# MQTT Callbacks\n",
        "def on_connect(client, userdata, flags, rc):\n",
        "    if rc == 0:\n",
        "        print(\"Connected to MQTT Broker!\")\n",
        "        client.subscribe(MQTT_TOPIC)\n",
        "        print(f\"Subscribed to topic: {MQTT_TOPIC}\")\n",
        "    else:\n",
        "        print(f\"Failed to connect, return code {rc}\\n\")\n",
        "\n",
        "def on_message(client, userdata, msg):\n",
        "    print(f\"Received `{msg.payload.decode()}` from `{msg.topic}` topic\")\n",
        "    try:\n",
        "        data = json.loads(msg.payload.decode())\n",
        "        # Assuming the MQTT message contains 'light' data\n",
        "        if 'light' in data:\n",
        "            sensor_data.append({\"light\": data['light']})\n",
        "            print(\"Light data added to sensor_data:\", data['light'])\n",
        "        else:\n",
        "            print(\"MQTT message does not contain 'light' data.\")\n",
        "    except json.JSONDecodeError:\n",
        "        print(\"Failed to decode JSON from MQTT message.\")\n",
        "\n",
        "# Create MQTT Client\n",
        "client = mqtt.Client()\n",
        "client.on_connect = on_connect\n",
        "client.on_message = on_message\n",
        "\n",
        "# Connect to MQTT Broker in a separate thread\n",
        "def connect_mqtt():\n",
        "    client.connect(MQTT_BROKER, MQTT_PORT, 60)\n",
        "    client.loop_forever()\n",
        "\n",
        "mqtt_thread = threading.Thread(target=connect_mqtt)\n",
        "mqtt_thread.start()\n",
        "\n",
        "\n",
        "@app.route('/sensor', methods=['POST'])\n",
        "def receive_sensor():\n",
        "    data = request.json\n",
        "    sensor_data.append(data)\n",
        "    print(\"Received data via HTTP:\", data)\n",
        "    return jsonify({\"status\": \"success\", \"received\": data})\n",
        "\n",
        "@app.route('/data', methods=['GET'])\n",
        "def get_data():\n",
        "    return jsonify(sensor_data)\n",
        "\n",
        "# Buka tunnel ngrok di port 5000\n",
        "public_url = ngrok.connect(5000).public_url\n",
        "print(\"Flask server URL:\", public_url)\n",
        "\n",
        "# Jalankan Flask\n",
        "if __name__ == '__main__':\n",
        "    app.run(port=5000)"
      ],
      "metadata": {
        "id": "Salc6ntSul3f"
      },
      "execution_count": null,
      "outputs": []
    },
    {
      "cell_type": "code",
      "source": [],
      "metadata": {
        "id": "HgIUTq-i2VzU"
      },
      "execution_count": null,
      "outputs": []
    },
    {
      "cell_type": "markdown",
      "metadata": {
        "id": "d295d7b2"
      },
      "source": [
        "To use `pyngrok`, you need to get an authtoken from the ngrok dashboard ([https://dashboard.ngrok.com/get-started/your-authtoken](https://dashboard.ngrok.com/get-started/your-authtoken)). Once you have it, you can add it to the code using `ngrok.set_auth_token()`."
      ]
    },
    {
      "cell_type": "markdown",
      "source": [
        "Setelah dijalankan, akan muncul URL publik https://xxxxx.ngrok.io → endpoint ini akan dipakai oleh client (HTTP/MQTT)."
      ],
      "metadata": {
        "id": "2VEM0B9vueZD"
      }
    },
    {
      "cell_type": "markdown",
      "source": [
        "2. Simulasi Sensor & Kirim Data via HTTP, jalankan di Note terpisah."
      ],
      "metadata": {
        "id": "hPp8uF0kuq63"
      }
    },
    {
      "cell_type": "code",
      "source": [
        "import requests, random, time\n",
        "\n",
        "FLASK_URL = \"https://87869cee103a.ngrok-free.app/sensor\"  # ganti dengan URL ngrok Flask\n",
        "\n",
        "for i in range(5):  # kirim 5 kali data\n",
        "    temp = round(random.uniform(20, 30), 2)\n",
        "    hum = round(random.uniform(40, 60), 2)\n",
        "    data = {\"temperature\": temp, \"humidity\": hum}\n",
        "\n",
        "    r = requests.post(FLASK_URL, json=data)\n",
        "    print(f\"Sent {data}, Response: {r.json()}\")\n",
        "    time.sleep(2)\n"
      ],
      "metadata": {
        "id": "zfNetj9Wu5jV"
      },
      "execution_count": null,
      "outputs": []
    },
    {
      "cell_type": "markdown",
      "source": [
        "3. Kirim Data via MQTT (HiveMQ Broker), jalankan di Note terpisah."
      ],
      "metadata": {
        "id": "ZlSdxbeLvDG_"
      }
    },
    {
      "cell_type": "code",
      "source": [
        "!pip install paho-mqtt"
      ],
      "metadata": {
        "id": "q-MHHcUtvE3_"
      },
      "execution_count": null,
      "outputs": []
    },
    {
      "cell_type": "code",
      "source": [
        "import paho.mqtt.client as mqtt\n",
        "import json, random, time\n",
        "\n",
        "MQTT_BROKER = \"broker.hivemq.com\"\n",
        "MQTT_PORT = 1883\n",
        "MQTT_TOPIC = \"unram/iot/sensor\"\n",
        "\n",
        "client = mqtt.Client()\n",
        "\n",
        "def on_connect(client, userdata, flags, rc):\n",
        "    print(\"Connected to MQTT Broker:\", rc)\n",
        "\n",
        "def on_publish(client, userdata, mid):\n",
        "    print(\"Message Published:\", mid)\n",
        "\n",
        "client.on_connect = on_connect\n",
        "client.on_publish = on_publish\n",
        "client.connect(MQTT_BROKER, MQTT_PORT, 60)\n",
        "client.loop_start()\n",
        "\n",
        "for i in range(50):\n",
        "    light = random.randint(0, 1023) # Simulate light sensor data (e.g., from 0 to 1023)\n",
        "    payload = {\"light\": light}\n",
        "    client.publish(MQTT_TOPIC, json.dumps(payload))\n",
        "    print(\"Sent:\", payload)\n",
        "    time.sleep(2)\n",
        "\n",
        "client.loop_stop()\n",
        "client.disconnect()"
      ],
      "metadata": {
        "id": "uYtqFjNnvIlp"
      },
      "execution_count": null,
      "outputs": []
    },
    {
      "cell_type": "markdown",
      "source": [
        "4. Flask Subscriber (Opsional, jika ingin menerima MQTT langsung di server Flask)\n",
        "\n",
        "Untuk integrasi penuh, Flask bisa bertindak sebagai subscriber MQTT dengan library paho-mqtt lalu menyimpan data ke endpoint /data."
      ],
      "metadata": {
        "id": "4CZLJQGRvi-k"
      }
    },
    {
      "cell_type": "markdown",
      "source": [
        "# Output yang Diharapkan\n",
        "\n",
        "Data sensor random terkirim via HTTP ke Flask → dapat dicek di GET /data.\n",
        "\n",
        "Data sensor terkirim via MQTT ke broker HiveMQ (bisa dicek di HiveMQ Web Client\n",
        ", subscribe ke topic unram/iot/sensor)."
      ],
      "metadata": {
        "id": "GskzBflTvo_D"
      }
    }
  ]
}