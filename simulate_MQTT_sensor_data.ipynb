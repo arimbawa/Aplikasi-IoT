{
  "nbformat": 4,
  "nbformat_minor": 0,
  "metadata": {
    "colab": {
      "provenance": [],
      "authorship_tag": "ABX9TyMPWQ7ZNX2h5KgoOY3VPYpy",
      "include_colab_link": true
    },
    "kernelspec": {
      "name": "python3",
      "display_name": "Python 3"
    },
    "language_info": {
      "name": "python"
    }
  },
  "cells": [
    {
      "cell_type": "markdown",
      "metadata": {
        "id": "view-in-github",
        "colab_type": "text"
      },
      "source": [
        "<a href=\"https://colab.research.google.com/github/arimbawa/Aplikasi-IoT/blob/main/simulate_MQTT_sensor_data.ipynb\" target=\"_parent\"><img src=\"https://colab.research.google.com/assets/colab-badge.svg\" alt=\"Open In Colab\"/></a>"
      ]
    },
    {
      "cell_type": "code",
      "source": [
        "%pip install paho-mqtt"
      ],
      "metadata": {
        "colab": {
          "base_uri": "https://localhost:8080/"
        },
        "id": "YJYCFL0JDUBj",
        "outputId": "01f94a95-fae8-4e65-93ef-ce56255601dd"
      },
      "execution_count": null,
      "outputs": [
        {
          "output_type": "stream",
          "name": "stdout",
          "text": [
            "Collecting paho-mqtt\n",
            "  Downloading paho_mqtt-2.1.0-py3-none-any.whl.metadata (23 kB)\n",
            "Downloading paho_mqtt-2.1.0-py3-none-any.whl (67 kB)\n",
            "\u001b[2K   \u001b[90m━━━━━━━━━━━━━━━━━━━━━━━━━━━━━━━━━━━━━━━━\u001b[0m \u001b[32m67.2/67.2 kB\u001b[0m \u001b[31m2.8 MB/s\u001b[0m eta \u001b[36m0:00:00\u001b[0m\n",
            "\u001b[?25hInstalling collected packages: paho-mqtt\n",
            "Successfully installed paho-mqtt-2.1.0\n"
          ]
        }
      ]
    },
    {
      "cell_type": "code",
      "execution_count": null,
      "metadata": {
        "colab": {
          "base_uri": "https://localhost:8080/"
        },
        "id": "PYLYEUPXCwMy",
        "outputId": "8feba0cc-56f4-4e64-c4ae-8bf6c113da6f"
      },
      "outputs": [
        {
          "output_type": "stream",
          "name": "stderr",
          "text": [
            "/tmp/ipython-input-3570291333.py:8: DeprecationWarning: Callback API version 1 is deprecated, update to latest version\n",
            "  client = mqtt.Client()\n"
          ]
        },
        {
          "output_type": "stream",
          "name": "stdout",
          "text": [
            "Sent: {'light': 175}\n",
            "Message Published: 1\n",
            "Connected to MQTT Broker: 0\n",
            "Sent: {'light': 379}\n",
            "Message Published: 2\n",
            "Sent:Message Published: 3\n",
            " {'light': 783}\n",
            "Sent:Message Published: 4\n",
            " {'light': 30}\n",
            "Sent: {'light': 370}\n",
            "Message Published: 5\n",
            "Sent: {'light': 616}\n",
            "Message Published: 6\n",
            "Sent: {'light': 522}\n",
            "Message Published: 7\n",
            "Sent: {'light': 930}\n",
            "Message Published: 8\n",
            "Sent: {'light': 901}\n",
            "Message Published: 9\n",
            "Sent: {'light': 840}\n",
            "Message Published: 10\n",
            "Sent: {'light': 844}\n",
            "Message Published: 11\n",
            "Sent: {'light': 959}\n",
            "Message Published: 12\n",
            "Sent: {'light': 737}\n",
            "Message Published: 13\n",
            "Sent: {'light': 529}\n",
            "Message Published: 14\n",
            "Sent: {'light': 267}\n",
            "Message Published: 15\n",
            "Sent: {'light': 26}\n",
            "Message Published: 16\n",
            "Sent: {'light': 90}\n",
            "Message Published: 17\n",
            "Sent: {'light': 888}\n",
            "Message Published: 18\n",
            "Sent: {'light': 812}\n",
            "Message Published: 19\n",
            "Sent: {'light': 373}\n",
            "Message Published: 20\n",
            "Sent: {'light': 422}\n",
            "Message Published: 21\n",
            "Sent: {'light': 858}\n",
            "Message Published: 22\n",
            "Sent: {'light': 163}\n",
            "Message Published: 23\n",
            "Sent:Message Published: 24\n",
            " {'light': 55}\n",
            "Sent:Message Published: 25\n",
            " {'light': 306}\n",
            "Sent: {'light': 186}\n",
            "Message Published: 26\n",
            "Sent: {'light': 829}\n",
            "Message Published: 27\n",
            "Sent: {'light': 875}\n",
            "Message Published: 28\n",
            "Sent: {'light': 876}\n",
            "Message Published: 29\n",
            "Sent: {'light': 693}\n",
            "Message Published: 30\n",
            "Sent: {'light': 322}\n",
            "Message Published: 31\n",
            "Sent: {'light': 700}\n",
            "Message Published: 32\n",
            "Sent: {'light': 81}\n",
            "Message Published: 33\n",
            "Sent: {'light': 76}\n",
            "Message Published: 34\n",
            "Sent:Message Published: 35\n",
            " {'light': 60}\n",
            "Sent: {'light': 94}\n",
            "Message Published: 36\n",
            "Sent: {'light': 958}\n",
            "Message Published: 37\n",
            "Sent:Message Published: 38\n",
            " {'light': 140}\n",
            "Sent: {'light': 694}\n",
            "Message Published: 39\n",
            "Sent: {'light': 726}\n",
            "Message Published: 40\n",
            "Sent: {'light': 968}\n",
            "Message Published: 41\n",
            "Sent: {'light': 502}\n",
            "Message Published: 42\n",
            "Sent: {'light': 801}\n",
            "Message Published: 43\n",
            "Sent: {'light': 407}\n",
            "Message Published: 44\n",
            "Sent: {'light': 57}\n",
            "Message Published: 45\n",
            "Sent: {'light': 338}\n",
            "Message Published: 46\n",
            "Sent: {'light': 670}\n",
            "Message Published: 47\n",
            "Sent: {'light': 1015}\n",
            "Message Published: 48\n",
            "Sent:Message Published: 49\n",
            " {'light': 475}\n",
            "Sent: {'light': 949}\n",
            "Message Published: 50\n"
          ]
        },
        {
          "output_type": "execute_result",
          "data": {
            "text/plain": [
              "<MQTTErrorCode.MQTT_ERR_SUCCESS: 0>"
            ]
          },
          "metadata": {},
          "execution_count": 6
        }
      ],
      "source": [
        "import paho.mqtt.client as mqtt\n",
        "import json, random, time\n",
        "\n",
        "MQTT_BROKER = \"broker.hivemq.com\"\n",
        "MQTT_PORT = 1883\n",
        "MQTT_TOPIC = \"unram/iot/sensor\"\n",
        "\n",
        "client = mqtt.Client()\n",
        "\n",
        "def on_connect(client, userdata, flags, rc):\n",
        "    print(\"Connected to MQTT Broker:\", rc)\n",
        "\n",
        "def on_publish(client, userdata, mid):\n",
        "    print(\"Message Published:\", mid)\n",
        "\n",
        "client.on_connect = on_connect\n",
        "client.on_publish = on_publish\n",
        "client.connect(MQTT_BROKER, MQTT_PORT, 60)\n",
        "client.loop_start()\n",
        "\n",
        "for i in range(50):\n",
        "    light = random.randint(0, 1023) # Simulate light sensor data (e.g., from 0 to 1023)\n",
        "    payload = {\"light\": light}\n",
        "    client.publish(MQTT_TOPIC, json.dumps(payload))\n",
        "    print(\"Sent:\", payload)\n",
        "    time.sleep(2)\n",
        "\n",
        "client.loop_stop()\n",
        "client.disconnect()"
      ]
    },
    {
      "cell_type": "code",
      "source": [],
      "metadata": {
        "id": "5QznIZ363ifZ"
      },
      "execution_count": null,
      "outputs": []
    }
  ]
}