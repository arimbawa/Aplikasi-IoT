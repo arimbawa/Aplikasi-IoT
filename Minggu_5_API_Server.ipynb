{
  "nbformat": 4,
  "nbformat_minor": 0,
  "metadata": {
    "colab": {
      "provenance": [],
      "authorship_tag": "ABX9TyPJfJ7Nsl+H/hfRoVxioD7O",
      "include_colab_link": true
    },
    "kernelspec": {
      "name": "python3",
      "display_name": "Python 3"
    },
    "language_info": {
      "name": "python"
    }
  },
  "cells": [
    {
      "cell_type": "markdown",
      "metadata": {
        "id": "view-in-github",
        "colab_type": "text"
      },
      "source": [
        "<a href=\"https://colab.research.google.com/github/arimbawa/Aplikasi-IoT/blob/main/Minggu_5_API_Server.ipynb\" target=\"_parent\"><img src=\"https://colab.research.google.com/assets/colab-badge.svg\" alt=\"Open In Colab\"/></a>"
      ]
    },
    {
      "cell_type": "code",
      "execution_count": null,
      "metadata": {
        "collapsed": true,
        "id": "sYKUlIaWOvdg"
      },
      "outputs": [],
      "source": [
        "!pip install flask flask-ngrok mongita\n",
        "!pip install pyngrok"
      ]
    },
    {
      "cell_type": "code",
      "source": [
        "# Konfigurasi Ngrok dengan token Agus\n",
        "from pyngrok import ngrok\n",
        "\n",
        "NGROK_TOKEN = \"xxxxxxxxxxxxx\"\n",
        "ngrok.set_auth_token(NGROK_TOKEN)\n"
      ],
      "metadata": {
        "id": "bG_rlERf2_LU"
      },
      "execution_count": 11,
      "outputs": []
    },
    {
      "cell_type": "code",
      "source": [
        "from flask import Flask, request, jsonify\n",
        "from mongita import MongitaClientDisk\n",
        "\n",
        "# Setup Flask\n",
        "app = Flask(__name__)\n",
        "\n",
        "# Setup Mongita (lokal, mirip MongoDB tapi embedded)\n",
        "client = MongitaClientDisk()\n",
        "db = client[\"iot_database\"]\n",
        "collection = db[\"sensor_data\"]\n",
        "\n",
        "@app.route('/sensor', methods=['POST'])\n",
        "def receive_sensor():\n",
        "    data = request.json\n",
        "    collection.insert_one(data)\n",
        "    return jsonify({\"status\": \"success\", \"inserted\": data})\n",
        "\n",
        "@app.route('/data', methods=['GET'])\n",
        "def get_data():\n",
        "    docs = []\n",
        "    for d in collection.find({}):\n",
        "        d.pop(\"_id\", None)  # hapus _id biar bisa di-JSON-kan\n",
        "        docs.append(d)\n",
        "    return jsonify(docs)\n",
        "\n",
        "# Jalankan Flask via Ngrok\n",
        "public_url = ngrok.connect(5000)\n",
        "print(\"Flask server running on:\", public_url)\n",
        "\n",
        "app.run(port=5000)"
      ],
      "metadata": {
        "id": "zFuaoqLK3DLq"
      },
      "execution_count": null,
      "outputs": []
    },
    {
      "cell_type": "code",
      "source": [
        "from flask import Flask, request, jsonify\n",
        "from mongita import MongitaClientDisk\n",
        "from pyngrok import ngrok\n",
        "from bson import ObjectId\n",
        "\n",
        "# Setup Flask\n",
        "app = Flask(__name__)\n",
        "\n",
        "# Setup Mongita\n",
        "client = MongitaClientDisk()\n",
        "db = client[\"iot_database\"]\n",
        "collection = db[\"sensor_data\"]\n",
        "\n",
        "# Helper untuk convert ObjectId ke string\n",
        "def clean_doc(doc):\n",
        "    doc[\"_id\"] = str(doc[\"_id\"])\n",
        "    return doc\n",
        "\n",
        "# ---------- CREATE ----------\n",
        "@app.route('/sensor', methods=['POST'])\n",
        "def create_sensor():\n",
        "    data = request.json\n",
        "    result = collection.insert_one(data)\n",
        "    return jsonify({\"status\": \"success\", \"id\": str(result.inserted_id)})\n",
        "\n",
        "# ---------- READ (All) ----------\n",
        "@app.route('/sensor', methods=['GET'])\n",
        "def read_all_sensors():\n",
        "    docs = [clean_doc(d) for d in collection.find({})]\n",
        "    return jsonify(docs)\n",
        "\n",
        "# ---------- READ (By ID) ----------\n",
        "@app.route('/sensor/<id>', methods=['GET'])\n",
        "def read_sensor(id):\n",
        "    doc = collection.find_one({\"_id\": ObjectId(id)})\n",
        "    if doc:\n",
        "        return jsonify(clean_doc(doc))\n",
        "    else:\n",
        "        return jsonify({\"error\": \"Data not found\"}), 404\n",
        "\n",
        "# ---------- UPDATE ----------\n",
        "@app.route('/sensor/<id>', methods=['PUT'])\n",
        "def update_sensor(id):\n",
        "    data = request.json\n",
        "    result = collection.update_one({\"_id\": ObjectId(id)}, {\"$set\": data})\n",
        "    if result.matched_count:\n",
        "        return jsonify({\"status\": \"updated\", \"id\": id})\n",
        "    else:\n",
        "        return jsonify({\"error\": \"Data not found\"}), 404\n",
        "\n",
        "# ---------- DELETE ----------\n",
        "@app.route('/sensor/<id>', methods=['DELETE'])\n",
        "def delete_sensor(id):\n",
        "    result = collection.delete_one({\"_id\": ObjectId(id)})\n",
        "    if result.deleted_count:\n",
        "        return jsonify({\"status\": \"deleted\", \"id\": id})\n",
        "    else:\n",
        "        return jsonify({\"error\": \"Data not found\"}), 404\n",
        "\n",
        "# ---------- RUN SERVER ----------\n",
        "public_url = ngrok.connect(5000)\n",
        "print(\"Flask server running on:\", public_url)\n",
        "app.run(port=5000)"
      ],
      "metadata": {
        "colab": {
          "base_uri": "https://localhost:8080/"
        },
        "id": "mPaJTiJo624a",
        "outputId": "5d578619-6bd6-4f83-c043-80adb986cc18"
      },
      "execution_count": 15,
      "outputs": [
        {
          "output_type": "stream",
          "name": "stdout",
          "text": [
            "Flask server running on: NgrokTunnel: \"https://47da96db7286.ngrok-free.app\" -> \"http://localhost:5000\"\n",
            " * Serving Flask app '__main__'\n",
            " * Debug mode: off\n"
          ]
        },
        {
          "output_type": "stream",
          "name": "stderr",
          "text": [
            "INFO:werkzeug:\u001b[31m\u001b[1mWARNING: This is a development server. Do not use it in a production deployment. Use a production WSGI server instead.\u001b[0m\n",
            " * Running on http://127.0.0.1:5000\n",
            "INFO:werkzeug:\u001b[33mPress CTRL+C to quit\u001b[0m\n",
            "INFO:werkzeug:127.0.0.1 - - [19/Sep/2025 12:24:05] \"POST /sensor HTTP/1.1\" 200 -\n",
            "INFO:werkzeug:127.0.0.1 - - [19/Sep/2025 12:26:09] \"GET /sensor HTTP/1.1\" 200 -\n",
            "INFO:werkzeug:127.0.0.1 - - [19/Sep/2025 12:27:13] \"GET /sensor/68cd46d4600cc1fbd64865f6 HTTP/1.1\" 200 -\n",
            "INFO:werkzeug:127.0.0.1 - - [19/Sep/2025 12:28:02] \"PUT /sensor/68cd46d4600cc1fbd64865f6 HTTP/1.1\" 200 -\n",
            "INFO:werkzeug:127.0.0.1 - - [19/Sep/2025 12:28:09] \"GET /sensor/68cd46d4600cc1fbd64865f6 HTTP/1.1\" 200 -\n",
            "INFO:werkzeug:127.0.0.1 - - [19/Sep/2025 12:28:19] \"PUT /sensor/68cd46d4600cc1fbd64865f6 HTTP/1.1\" 200 -\n",
            "INFO:werkzeug:127.0.0.1 - - [19/Sep/2025 12:28:22] \"GET /sensor/68cd46d4600cc1fbd64865f6 HTTP/1.1\" 200 -\n",
            "INFO:werkzeug:127.0.0.1 - - [19/Sep/2025 12:28:53] \"DELETE /sensor/68cd46d4600cc1fbd64865f6 HTTP/1.1\" 200 -\n",
            "INFO:werkzeug:127.0.0.1 - - [19/Sep/2025 12:28:57] \"\u001b[33mPUT /sensor/68cd46d4600cc1fbd64865f6 HTTP/1.1\u001b[0m\" 404 -\n",
            "INFO:werkzeug:127.0.0.1 - - [19/Sep/2025 12:29:02] \"\u001b[33mGET /sensor/68cd46d4600cc1fbd64865f6 HTTP/1.1\u001b[0m\" 404 -\n",
            "INFO:werkzeug:127.0.0.1 - - [19/Sep/2025 12:30:55] \"POST /sensor HTTP/1.1\" 200 -\n",
            "INFO:werkzeug:127.0.0.1 - - [19/Sep/2025 12:30:56] \"POST /sensor HTTP/1.1\" 200 -\n",
            "INFO:werkzeug:127.0.0.1 - - [19/Sep/2025 12:30:57] \"POST /sensor HTTP/1.1\" 200 -\n",
            "INFO:werkzeug:127.0.0.1 - - [19/Sep/2025 12:30:58] \"POST /sensor HTTP/1.1\" 200 -\n",
            "INFO:werkzeug:127.0.0.1 - - [19/Sep/2025 12:31:00] \"POST /sensor HTTP/1.1\" 200 -\n",
            "INFO:werkzeug:127.0.0.1 - - [19/Sep/2025 12:31:06] \"GET /sensor HTTP/1.1\" 200 -\n",
            "INFO:werkzeug:127.0.0.1 - - [19/Sep/2025 12:31:11] \"POST /sensor HTTP/1.1\" 200 -\n",
            "INFO:werkzeug:127.0.0.1 - - [19/Sep/2025 12:31:18] \"GET /sensor HTTP/1.1\" 200 -\n",
            "INFO:werkzeug:127.0.0.1 - - [19/Sep/2025 12:31:26] \"\u001b[33mGET /sensor/68cd46d4600cc1fbd64865f6 HTTP/1.1\u001b[0m\" 404 -\n",
            "INFO:werkzeug:127.0.0.1 - - [19/Sep/2025 12:31:34] \"GET /sensor/68cd46d5600cc1fbd64865f9 HTTP/1.1\" 200 -\n",
            "INFO:werkzeug:127.0.0.1 - - [19/Sep/2025 12:31:46] \"PUT /sensor/68cd46d5600cc1fbd64865f9 HTTP/1.1\" 200 -\n",
            "INFO:werkzeug:127.0.0.1 - - [19/Sep/2025 12:31:54] \"DELETE /sensor/68cd46d5600cc1fbd64865f9 HTTP/1.1\" 200 -\n"
          ]
        }
      ]
    }
  ]
}