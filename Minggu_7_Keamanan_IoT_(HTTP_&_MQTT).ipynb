{
  "nbformat": 4,
  "nbformat_minor": 0,
  "metadata": {
    "colab": {
      "provenance": [],
      "authorship_tag": "ABX9TyP41Fk2SIYMX3xG9WyuEFXT",
      "include_colab_link": true
    },
    "kernelspec": {
      "name": "python3",
      "display_name": "Python 3"
    },
    "language_info": {
      "name": "python"
    }
  },
  "cells": [
    {
      "cell_type": "markdown",
      "metadata": {
        "id": "view-in-github",
        "colab_type": "text"
      },
      "source": [
        "<a href=\"https://colab.research.google.com/github/arimbawa/Aplikasi-IoT/blob/main/Minggu_7_Keamanan_IoT_(HTTP_%26_MQTT).ipynb\" target=\"_parent\"><img src=\"https://colab.research.google.com/assets/colab-badge.svg\" alt=\"Open In Colab\"/></a>"
      ]
    },
    {
      "cell_type": "markdown",
      "source": [
        "# **Minggu ke-7: Keamanan IoT (HTTP & MQTT)**\n",
        "**Tujuan Pembelajaran:**\n",
        "\n",
        "1. Mahasiswa memahami risiko keamanan pada komunikasi IoT.\n",
        "2. Mahasiswa dapat menerapkan HTTPS (SSL/TLS) pada komunikasi HTTP.\n",
        "3. Mahasiswa dapat mengamankan MQTT dengan username-password authentication.\n",
        "4. Mahasiswa mengetahui praktik dasar secure coding dalam aplikasi IoT berbasis Flask & MQTT."
      ],
      "metadata": {
        "id": "TrFUViHRTOvM"
      }
    },
    {
      "cell_type": "markdown",
      "source": [
        "# Praktik di Google Colab"
      ],
      "metadata": {
        "id": "B39gpXcBTftc"
      }
    },
    {
      "cell_type": "markdown",
      "source": [
        "# 1. Install modul"
      ],
      "metadata": {
        "id": "OyePzmaOTnUU"
      }
    },
    {
      "cell_type": "code",
      "execution_count": 1,
      "metadata": {
        "colab": {
          "base_uri": "https://localhost:8080/"
        },
        "id": "kDPK7xUOTJxA",
        "outputId": "502005e5-12af-49f3-d9d0-35c2d94531a2"
      },
      "outputs": [
        {
          "output_type": "stream",
          "name": "stdout",
          "text": [
            "Requirement already satisfied: flask in /usr/local/lib/python3.12/dist-packages (3.1.2)\n",
            "Collecting pyngrok\n",
            "  Downloading pyngrok-7.4.0-py3-none-any.whl.metadata (8.1 kB)\n",
            "Collecting paho-mqtt\n",
            "  Downloading paho_mqtt-2.1.0-py3-none-any.whl.metadata (23 kB)\n",
            "Requirement already satisfied: blinker>=1.9.0 in /usr/local/lib/python3.12/dist-packages (from flask) (1.9.0)\n",
            "Requirement already satisfied: click>=8.1.3 in /usr/local/lib/python3.12/dist-packages (from flask) (8.3.0)\n",
            "Requirement already satisfied: itsdangerous>=2.2.0 in /usr/local/lib/python3.12/dist-packages (from flask) (2.2.0)\n",
            "Requirement already satisfied: jinja2>=3.1.2 in /usr/local/lib/python3.12/dist-packages (from flask) (3.1.6)\n",
            "Requirement already satisfied: markupsafe>=2.1.1 in /usr/local/lib/python3.12/dist-packages (from flask) (3.0.3)\n",
            "Requirement already satisfied: werkzeug>=3.1.0 in /usr/local/lib/python3.12/dist-packages (from flask) (3.1.3)\n",
            "Requirement already satisfied: PyYAML>=5.1 in /usr/local/lib/python3.12/dist-packages (from pyngrok) (6.0.3)\n",
            "Downloading pyngrok-7.4.0-py3-none-any.whl (25 kB)\n",
            "Downloading paho_mqtt-2.1.0-py3-none-any.whl (67 kB)\n",
            "\u001b[2K   \u001b[90m━━━━━━━━━━━━━━━━━━━━━━━━━━━━━━━━━━━━━━━━\u001b[0m \u001b[32m67.2/67.2 kB\u001b[0m \u001b[31m3.1 MB/s\u001b[0m eta \u001b[36m0:00:00\u001b[0m\n",
            "\u001b[?25hInstalling collected packages: pyngrok, paho-mqtt\n",
            "Successfully installed paho-mqtt-2.1.0 pyngrok-7.4.0\n"
          ]
        }
      ],
      "source": [
        "!pip install flask pyngrok paho-mqtt"
      ]
    },
    {
      "cell_type": "markdown",
      "source": [
        "# 2. Flask dengan Token Authentication"
      ],
      "metadata": {
        "id": "xzp1GPSyTwl4"
      }
    },
    {
      "cell_type": "code",
      "source": [
        "# Konfigurasi Ngrok dengan token Agus\n",
        "from pyngrok import ngrok\n",
        "\n",
        "NGROK_TOKEN = \"32tnIljunaDDrFMWVCD2784cERi_2tHAN1MwNfRM9Ug5omaq5\"\n",
        "ngrok.set_auth_token(NGROK_TOKEN)"
      ],
      "metadata": {
        "id": "T7R1ZtWlqM6Y",
        "colab": {
          "base_uri": "https://localhost:8080/"
        },
        "outputId": "0f9b62f1-ff2c-4ba4-c1d2-3de85a091b4c"
      },
      "execution_count": 2,
      "outputs": [
        {
          "output_type": "stream",
          "name": "stdout",
          "text": []
        }
      ]
    },
    {
      "cell_type": "code",
      "source": [
        "from flask import Flask, request, jsonify\n",
        "from pyngrok import ngrok\n",
        "\n",
        "app = Flask(__name__)\n",
        "\n",
        "# Token sederhana\n",
        "API_TOKEN = \"iotsecure123\"\n",
        "\n",
        "@app.route('/secure-data', methods=['POST'])\n",
        "def secure_data():\n",
        "    token = request.headers.get(\"Authorization\")\n",
        "    if token != f\"Bearer {API_TOKEN}\":\n",
        "        return jsonify({\"error\": \"Unauthorized\"}), 401\n",
        "\n",
        "    data = request.json\n",
        "    return jsonify({\"status\": \"success\", \"data_received\": data}), 200\n",
        "\n",
        "# Jalankan ngrok\n",
        "public_url = ngrok.connect(5000)\n",
        "print(\" * Ngrok URL (secure):\", public_url)\n",
        "\n",
        "app.run(port=5000)"
      ],
      "metadata": {
        "colab": {
          "base_uri": "https://localhost:8080/"
        },
        "id": "ZO5rdWjWT4KL",
        "outputId": "cb09044a-a638-472f-ff53-b37887ce1787"
      },
      "execution_count": 3,
      "outputs": [
        {
          "output_type": "stream",
          "name": "stdout",
          "text": [
            " * Ngrok URL (secure): NgrokTunnel: \"https://1588dca5484e.ngrok-free.app\" -> \"http://localhost:5000\"\n",
            " * Serving Flask app '__main__'\n",
            " * Debug mode: off\n"
          ]
        },
        {
          "output_type": "stream",
          "name": "stderr",
          "text": [
            "INFO:werkzeug:\u001b[31m\u001b[1mWARNING: This is a development server. Do not use it in a production deployment. Use a production WSGI server instead.\u001b[0m\n",
            " * Running on http://127.0.0.1:5000\n",
            "INFO:werkzeug:\u001b[33mPress CTRL+C to quit\u001b[0m\n",
            "WARNING:pyngrok.process.ngrok:t=2025-10-10T02:39:07+0000 lvl=warn msg=\"failed to check for update\" obj=updater err=\"Post \\\"https://update.equinox.io/check\\\": context deadline exceeded\"\n",
            "INFO:werkzeug:127.0.0.1 - - [10/Oct/2025 02:42:06] \"\u001b[31m\u001b[1mPOST /secure-data HTTP/1.1\u001b[0m\" 401 -\n",
            "INFO:werkzeug:127.0.0.1 - - [10/Oct/2025 02:42:37] \"POST /secure-data HTTP/1.1\" 200 -\n",
            "INFO:werkzeug:127.0.0.1 - - [10/Oct/2025 02:43:39] \"POST /secure-data HTTP/1.1\" 200 -\n"
          ]
        }
      ]
    },
    {
      "cell_type": "markdown",
      "source": [
        "**Cara uji:**"
      ],
      "metadata": {
        "id": "w8ic_c81T97g"
      }
    },
    {
      "cell_type": "code",
      "source": [
        "import requests\n",
        "\n",
        "url = \"<NGROK_URL>/secure-data\"\n",
        "headers = {\"Authorization\": \"Bearer iotsecure123\"}\n",
        "data = {\"temperature\": 25, \"humidity\": 60}\n",
        "\n",
        "r = requests.post(url, json=data, headers=headers)\n",
        "print(r.text)"
      ],
      "metadata": {
        "id": "ugv-ErbTUICy"
      },
      "execution_count": null,
      "outputs": []
    },
    {
      "cell_type": "markdown",
      "source": [
        "Jika tanpa header Authorization → 401 Unauthorized."
      ],
      "metadata": {
        "id": "6KdlphKoUOeE"
      }
    },
    {
      "cell_type": "markdown",
      "source": [
        "# 3. MQTT dengan Username & Password (HiveMQ broker publik)"
      ],
      "metadata": {
        "id": "-B1Ba8LcUS3T"
      }
    },
    {
      "cell_type": "markdown",
      "source": [
        "Buat Cluster, dan User Credential terlebih dahulu di Hive MQ Broker"
      ],
      "metadata": {
        "id": "ys9hVldQDt9i"
      }
    },
    {
      "cell_type": "code",
      "source": [
        "import paho.mqtt.client as mqtt\n",
        "import time\n",
        "import json\n",
        "import random\n",
        "\n",
        "# MQTT Broker details (using the same as the subscriber)\n",
        "BROKER = \"xxxxxxx.xx.xx.hivemq.cloud\" #Temukan ini di informasi cluster yang Anda buat di Hive MQ\n",
        "PORT = 8883\n",
        "USERNAME = \"xxxx\" # Gunakan username dan password user credential yang Anda sudah buat di HiveMQ.\n",
        "PASSWORD = \"xxxxx\"\n",
        "TOPIC = \"xxxx\"\n",
        "\n",
        "\n",
        "def on_connect(client, userdata, flags, rc, properties):\n",
        "    if rc == 0:\n",
        "        print(\"Publisher Connected successfully.\")\n",
        "    else:\n",
        "        print(\"Publisher Connection failed. Return code:\", rc)\n",
        "\n",
        "# Use callback API version 2\n",
        "publisher_client = mqtt.Client(mqtt.CallbackAPIVersion.VERSION2)\n",
        "publisher_client.username_pw_set(USERNAME, PASSWORD)\n",
        "publisher_client.on_connect = on_connect\n",
        "\n",
        "# Set TLS/SSL\n",
        "publisher_client.tls_set()\n",
        "\n",
        "publisher_client.connect(BROKER, PORT, 60)\n",
        "publisher_client.loop_start()\n",
        "\n",
        "try:\n",
        "    while True:\n",
        "        temp = round(random.uniform(20, 30), 2)\n",
        "        hum = round(random.uniform(40, 60), 2)\n",
        "        data = {\"temperature\": temp, \"humidity\": hum}\n",
        "        payload = json.dumps(data)\n",
        "\n",
        "        publisher_client.publish(TOPIC, payload)\n",
        "        print(f\"Published: {payload}\")\n",
        "        time.sleep(5) # Publish every 5 seconds\n",
        "\n",
        "except KeyboardInterrupt:\n",
        "    print(\"Stopping publisher.\")\n",
        "    publisher_client.loop_stop()\n",
        "    publisher_client.disconnect()"
      ],
      "metadata": {
        "id": "GFnjakRDE3qg",
        "outputId": "96f0f4a0-e123-45e4-9f63-a2c221dd0809",
        "colab": {
          "base_uri": "https://localhost:8080/"
        }
      },
      "execution_count": 6,
      "outputs": [
        {
          "output_type": "stream",
          "name": "stdout",
          "text": [
            "Published: {\"temperature\": 22.24, \"humidity\": 43.84}\n",
            "Publisher Connected successfully.\n",
            "Published: {\"temperature\": 27.49, \"humidity\": 42.06}\n",
            "Published: {\"temperature\": 24.51, \"humidity\": 46.13}\n",
            "Published: {\"temperature\": 28.66, \"humidity\": 47.79}\n",
            "Published: {\"temperature\": 22.43, \"humidity\": 52.07}\n",
            "Published: {\"temperature\": 27.1, \"humidity\": 53.34}\n",
            "Published: {\"temperature\": 27.56, \"humidity\": 47.26}\n",
            "Published: {\"temperature\": 23.3, \"humidity\": 46.12}\n",
            "Stopping publisher.\n"
          ]
        }
      ]
    },
    {
      "cell_type": "markdown",
      "source": [
        "# Tugas Minggu ke-7\n",
        "\n",
        "1. Ubah server Flask agar menggunakan HTTPS (bisa dengan sertifikat self-signed atau pyOpenSSL).\n",
        "2. Buat client IoT yang hanya bisa mengirim data dengan API key valid.\n",
        "3. Konfigurasi MQTT client agar gagal connect jika username/password salah.\n",
        "4. Buat laporan singkat: bandingkan komunikasi tanpa keamanan vs dengan keamanan (HTTP/MQTT).T"
      ],
      "metadata": {
        "id": "tUnuO6FdUd5u"
      }
    }
  ]
}