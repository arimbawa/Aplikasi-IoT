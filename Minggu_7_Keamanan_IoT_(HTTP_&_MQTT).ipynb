{
  "nbformat": 4,
  "nbformat_minor": 0,
  "metadata": {
    "colab": {
      "provenance": [],
      "authorship_tag": "ABX9TyOI+RW976I4Nmzfe3+G4PXG",
      "include_colab_link": true
    },
    "kernelspec": {
      "name": "python3",
      "display_name": "Python 3"
    },
    "language_info": {
      "name": "python"
    }
  },
  "cells": [
    {
      "cell_type": "markdown",
      "metadata": {
        "id": "view-in-github",
        "colab_type": "text"
      },
      "source": [
        "<a href=\"https://colab.research.google.com/github/arimbawa/Aplikasi-IoT/blob/main/Minggu_7_Keamanan_IoT_(HTTP_%26_MQTT).ipynb\" target=\"_parent\"><img src=\"https://colab.research.google.com/assets/colab-badge.svg\" alt=\"Open In Colab\"/></a>"
      ]
    },
    {
      "cell_type": "markdown",
      "source": [
        "# **Minggu ke-7: Keamanan IoT (HTTP & MQTT)**\n",
        "**Tujuan Pembelajaran:**\n",
        "\n",
        "1. Mahasiswa memahami risiko keamanan pada komunikasi IoT.\n",
        "2. Mahasiswa dapat menerapkan HTTPS (SSL/TLS) pada komunikasi HTTP.\n",
        "3. Mahasiswa dapat mengamankan MQTT dengan username-password authentication.\n",
        "4. Mahasiswa mengetahui praktik dasar secure coding dalam aplikasi IoT berbasis Flask & MQTT."
      ],
      "metadata": {
        "id": "TrFUViHRTOvM"
      }
    },
    {
      "cell_type": "markdown",
      "source": [
        "# Praktik di Google Colab"
      ],
      "metadata": {
        "id": "B39gpXcBTftc"
      }
    },
    {
      "cell_type": "markdown",
      "source": [
        "# 1. Install modul"
      ],
      "metadata": {
        "id": "OyePzmaOTnUU"
      }
    },
    {
      "cell_type": "code",
      "execution_count": 1,
      "metadata": {
        "colab": {
          "base_uri": "https://localhost:8080/"
        },
        "id": "kDPK7xUOTJxA",
        "outputId": "5caf387c-b700-4b96-8747-2fb0f7eacf6f"
      },
      "outputs": [
        {
          "output_type": "stream",
          "name": "stdout",
          "text": [
            "Requirement already satisfied: flask in /usr/local/lib/python3.12/dist-packages (3.1.2)\n",
            "Collecting pyngrok\n",
            "  Downloading pyngrok-7.4.0-py3-none-any.whl.metadata (8.1 kB)\n",
            "Collecting paho-mqtt\n",
            "  Downloading paho_mqtt-2.1.0-py3-none-any.whl.metadata (23 kB)\n",
            "Requirement already satisfied: blinker>=1.9.0 in /usr/local/lib/python3.12/dist-packages (from flask) (1.9.0)\n",
            "Requirement already satisfied: click>=8.1.3 in /usr/local/lib/python3.12/dist-packages (from flask) (8.2.1)\n",
            "Requirement already satisfied: itsdangerous>=2.2.0 in /usr/local/lib/python3.12/dist-packages (from flask) (2.2.0)\n",
            "Requirement already satisfied: jinja2>=3.1.2 in /usr/local/lib/python3.12/dist-packages (from flask) (3.1.6)\n",
            "Requirement already satisfied: markupsafe>=2.1.1 in /usr/local/lib/python3.12/dist-packages (from flask) (3.0.2)\n",
            "Requirement already satisfied: werkzeug>=3.1.0 in /usr/local/lib/python3.12/dist-packages (from flask) (3.1.3)\n",
            "Requirement already satisfied: PyYAML>=5.1 in /usr/local/lib/python3.12/dist-packages (from pyngrok) (6.0.2)\n",
            "Downloading pyngrok-7.4.0-py3-none-any.whl (25 kB)\n",
            "Downloading paho_mqtt-2.1.0-py3-none-any.whl (67 kB)\n",
            "\u001b[2K   \u001b[90m━━━━━━━━━━━━━━━━━━━━━━━━━━━━━━━━━━━━━━━━\u001b[0m \u001b[32m67.2/67.2 kB\u001b[0m \u001b[31m5.3 MB/s\u001b[0m eta \u001b[36m0:00:00\u001b[0m\n",
            "\u001b[?25hInstalling collected packages: pyngrok, paho-mqtt\n",
            "Successfully installed paho-mqtt-2.1.0 pyngrok-7.4.0\n"
          ]
        }
      ],
      "source": [
        "!pip install flask pyngrok paho-mqtt"
      ]
    },
    {
      "cell_type": "markdown",
      "source": [
        "# 2. Flask dengan Token Authentication"
      ],
      "metadata": {
        "id": "xzp1GPSyTwl4"
      }
    },
    {
      "cell_type": "code",
      "source": [
        "# Konfigurasi Ngrok dengan token Agus\n",
        "from pyngrok import ngrok\n",
        "\n",
        "NGROK_TOKEN = \"32tnIljunaDDrFMWVCD2784cERi_2tHAN1MwNfRM9Ug5omaq5\"\n",
        "ngrok.set_auth_token(NGROK_TOKEN)"
      ],
      "metadata": {
        "id": "T7R1ZtWlqM6Y",
        "colab": {
          "base_uri": "https://localhost:8080/"
        },
        "outputId": "3222f30b-b05a-4843-f480-7f4b49d5db4b"
      },
      "execution_count": 2,
      "outputs": [
        {
          "output_type": "stream",
          "name": "stdout",
          "text": []
        }
      ]
    },
    {
      "cell_type": "code",
      "source": [
        "from flask import Flask, request, jsonify\n",
        "from pyngrok import ngrok\n",
        "\n",
        "app = Flask(__name__)\n",
        "\n",
        "# Token sederhana\n",
        "API_TOKEN = \"iotsecure123\"\n",
        "\n",
        "@app.route('/secure-data', methods=['POST'])\n",
        "def secure_data():\n",
        "    token = request.headers.get(\"Authorization\")\n",
        "    if token != f\"Bearer {API_TOKEN}\":\n",
        "        return jsonify({\"error\": \"Unauthorized\"}), 401\n",
        "\n",
        "    data = request.json\n",
        "    return jsonify({\"status\": \"success\", \"data_received\": data}), 200\n",
        "\n",
        "# Jalankan ngrok\n",
        "public_url = ngrok.connect(5000)\n",
        "print(\" * Ngrok URL (secure):\", public_url)\n",
        "\n",
        "app.run(port=5000)"
      ],
      "metadata": {
        "colab": {
          "base_uri": "https://localhost:8080/"
        },
        "id": "ZO5rdWjWT4KL",
        "outputId": "38691d6d-5da0-4278-81f4-0a9ba3501b93"
      },
      "execution_count": 3,
      "outputs": [
        {
          "output_type": "stream",
          "name": "stdout",
          "text": [
            " * Ngrok URL (secure): NgrokTunnel: \"https://dae2a706d53b.ngrok-free.app\" -> \"http://localhost:5000\"\n",
            " * Serving Flask app '__main__'\n",
            " * Debug mode: off\n"
          ]
        },
        {
          "output_type": "stream",
          "name": "stderr",
          "text": [
            "INFO:werkzeug:\u001b[31m\u001b[1mWARNING: This is a development server. Do not use it in a production deployment. Use a production WSGI server instead.\u001b[0m\n",
            " * Running on http://127.0.0.1:5000\n",
            "INFO:werkzeug:\u001b[33mPress CTRL+C to quit\u001b[0m\n",
            "WARNING:pyngrok.process.ngrok:t=2025-10-02T12:47:09+0000 lvl=warn msg=\"failed to check for update\" obj=updater err=\"Post \\\"https://update.equinox.io/check\\\": context deadline exceeded\"\n",
            "INFO:werkzeug:127.0.0.1 - - [02/Oct/2025 12:51:34] \"POST /secure-data HTTP/1.1\" 200 -\n",
            "WARNING:pyngrok.process.ngrok:t=2025-10-02T12:52:40+0000 lvl=warn msg=\"Stopping forwarder\" name=http-5000-97cda914-9f7a-464e-ba14-4a97b91d4f57 acceptErr=\"failed to accept connection: Listener closed\"\n"
          ]
        }
      ]
    },
    {
      "cell_type": "markdown",
      "source": [
        "**Cara uji:**"
      ],
      "metadata": {
        "id": "w8ic_c81T97g"
      }
    },
    {
      "cell_type": "code",
      "source": [
        "import requests\n",
        "\n",
        "url = \"<NGROK_URL>/secure-data\"\n",
        "headers = {\"Authorization\": \"Bearer iotsecure123\"}\n",
        "data = {\"temperature\": 25, \"humidity\": 60}\n",
        "\n",
        "r = requests.post(url, json=data, headers=headers)\n",
        "print(r.text)"
      ],
      "metadata": {
        "id": "ugv-ErbTUICy"
      },
      "execution_count": null,
      "outputs": []
    },
    {
      "cell_type": "markdown",
      "source": [
        "Jika tanpa header Authorization → 401 Unauthorized."
      ],
      "metadata": {
        "id": "6KdlphKoUOeE"
      }
    },
    {
      "cell_type": "markdown",
      "source": [
        "# 3. MQTT dengan Username & Password (HiveMQ broker publik)"
      ],
      "metadata": {
        "id": "-B1Ba8LcUS3T"
      }
    },
    {
      "cell_type": "code",
      "source": [
        "import paho.mqtt.client as mqtt\n",
        "import random, time, json\n",
        "\n",
        "# HiveMQ public broker with auth (contoh)\n",
        "BROKER = \"broker.hivemq.com\"\n",
        "PORT = 1883\n",
        "TOPIC = \"unram/iot/secure\"\n",
        "USERNAME = \"iot_user\"\n",
        "PASSWORD = \"iot_pass\"\n",
        "\n",
        "def on_connect(client, userdata, flags, rc):\n",
        "    print(\"Connected with result code\", rc)\n",
        "\n",
        "def on_message(client, userdata, msg):\n",
        "    print(f\"Message received: {msg.payload.decode()}\")\n",
        "\n",
        "client = mqtt.Client()\n",
        "client.username_pw_set(USERNAME, PASSWORD)  # Auth\n",
        "client.on_connect = on_connect\n",
        "client.on_message = on_message\n",
        "\n",
        "client.connect(BROKER, PORT, 60)\n",
        "client.loop_start()\n",
        "\n",
        "# Publish data sensor dengan autentikasi\n",
        "for i in range(50):\n",
        "    payload = {\"temperature\": random.randint(20,30),\n",
        "               \"humidity\": random.randint(60,80)}\n",
        "    client.publish(TOPIC, json.dumps(payload))\n",
        "    print(\"Published:\", payload)\n",
        "    time.sleep(3)"
      ],
      "metadata": {
        "id": "7QwjpYhVUYFL"
      },
      "execution_count": null,
      "outputs": []
    },
    {
      "cell_type": "code",
      "source": [
        "import paho.mqtt.client as mqtt\n",
        "import time\n",
        "import json\n",
        "import random\n",
        "\n",
        "# MQTT Broker details\n",
        "BROKER = \"9efe7c37a1504f69b9b9267672364909.s1.eu.hivemq.cloud\" # Replace with your broker address if different\n",
        "PORT = 8883\n",
        "USERNAME = \"iot_user\" # Replace with your username if required\n",
        "PASSWORD = \"IoT_pass123\" # Replace with your password if required\n",
        "TOPIC = \"unram/iot/secure\"\n",
        "\n",
        "def on_connect(client, userdata, flags, rc):\n",
        "    if rc == 0:\n",
        "        print(\"Connected to MQTT Broker!\")\n",
        "    else:\n",
        "        print(\"Failed to connect, return code %d\\n\", rc)\n",
        "\n",
        "client = mqtt.Client()\n",
        "# Uncomment if authentication is required\n",
        "client.username_pw_set(USERNAME, PASSWORD)\n",
        "client.on_connect = on_connect\n",
        "\n",
        "client.connect(BROKER, PORT)\n",
        "client.loop_start()\n",
        "\n",
        "try:\n",
        "    while True:\n",
        "        # Your message format\n",
        "        payload = {\"temperature\": random.randint(20,30),\n",
        "                   \"humidity\": random.randint(60,80)}\n",
        "\n",
        "        # Serialize the dictionary to a JSON string and then encode to bytes\n",
        "        message = json.dumps(payload)\n",
        "        client.publish(TOPIC, message)\n",
        "\n",
        "        print(f\"Published message: {message}\")\n",
        "        time.sleep(5) # Publish every 5 seconds\n",
        "\n",
        "except KeyboardInterrupt:\n",
        "    print(\"Disconnecting from MQTT Broker.\")\n",
        "    client.loop_stop()\n",
        "    client.disconnect()"
      ],
      "metadata": {
        "id": "GFnjakRDE3qg",
        "outputId": "ef692913-46e4-4915-f8d2-070a162a44c9",
        "colab": {
          "base_uri": "https://localhost:8080/"
        }
      },
      "execution_count": 11,
      "outputs": [
        {
          "output_type": "stream",
          "name": "stderr",
          "text": [
            "/tmp/ipython-input-706157842.py:19: DeprecationWarning: Callback API version 1 is deprecated, update to latest version\n",
            "  client = mqtt.Client()\n"
          ]
        },
        {
          "output_type": "stream",
          "name": "stdout",
          "text": [
            "Published message: {\"temperature\": 27, \"humidity\": 72}\n",
            "Published message: {\"temperature\": 30, \"humidity\": 77}\n",
            "Published message: {\"temperature\": 23, \"humidity\": 64}\n",
            "Published message: {\"temperature\": 21, \"humidity\": 69}\n",
            "Published message: {\"temperature\": 27, \"humidity\": 61}\n",
            "Published message: {\"temperature\": 23, \"humidity\": 61}\n",
            "Published message: {\"temperature\": 20, \"humidity\": 79}\n",
            "Published message: {\"temperature\": 30, \"humidity\": 61}\n",
            "Published message: {\"temperature\": 21, \"humidity\": 65}\n",
            "Published message: {\"temperature\": 25, \"humidity\": 68}\n",
            "Published message: {\"temperature\": 27, \"humidity\": 73}\n",
            "Published message: {\"temperature\": 23, \"humidity\": 75}\n",
            "Published message: {\"temperature\": 22, \"humidity\": 76}\n",
            "Published message: {\"temperature\": 23, \"humidity\": 72}\n",
            "Published message: {\"temperature\": 25, \"humidity\": 65}\n",
            "Published message: {\"temperature\": 26, \"humidity\": 73}\n",
            "Published message: {\"temperature\": 28, \"humidity\": 62}\n",
            "Published message: {\"temperature\": 26, \"humidity\": 60}\n",
            "Published message: {\"temperature\": 22, \"humidity\": 75}\n",
            "Published message: {\"temperature\": 20, \"humidity\": 76}\n",
            "Published message: {\"temperature\": 23, \"humidity\": 76}\n",
            "Published message: {\"temperature\": 23, \"humidity\": 76}\n",
            "Published message: {\"temperature\": 23, \"humidity\": 64}\n",
            "Published message: {\"temperature\": 28, \"humidity\": 65}\n",
            "Published message: {\"temperature\": 24, \"humidity\": 63}\n",
            "Published message: {\"temperature\": 20, \"humidity\": 78}\n",
            "Published message: {\"temperature\": 23, \"humidity\": 80}\n",
            "Published message: {\"temperature\": 26, \"humidity\": 62}\n",
            "Published message: {\"temperature\": 29, \"humidity\": 63}\n",
            "Published message: {\"temperature\": 27, \"humidity\": 75}\n",
            "Published message: {\"temperature\": 29, \"humidity\": 72}\n",
            "Published message: {\"temperature\": 23, \"humidity\": 79}\n",
            "Published message: {\"temperature\": 21, \"humidity\": 75}\n",
            "Published message: {\"temperature\": 25, \"humidity\": 79}\n",
            "Published message: {\"temperature\": 23, \"humidity\": 69}\n",
            "Published message: {\"temperature\": 22, \"humidity\": 66}\n",
            "Published message: {\"temperature\": 23, \"humidity\": 66}\n",
            "Published message: {\"temperature\": 24, \"humidity\": 68}\n",
            "Published message: {\"temperature\": 29, \"humidity\": 68}\n",
            "Published message: {\"temperature\": 22, \"humidity\": 74}\n",
            "Published message: {\"temperature\": 25, \"humidity\": 62}\n",
            "Published message: {\"temperature\": 30, \"humidity\": 63}\n",
            "Published message: {\"temperature\": 21, \"humidity\": 66}\n",
            "Published message: {\"temperature\": 20, \"humidity\": 65}\n",
            "Published message: {\"temperature\": 28, \"humidity\": 74}\n",
            "Published message: {\"temperature\": 20, \"humidity\": 69}\n",
            "Published message: {\"temperature\": 30, \"humidity\": 67}\n",
            "Published message: {\"temperature\": 26, \"humidity\": 77}\n",
            "Published message: {\"temperature\": 23, \"humidity\": 80}\n",
            "Published message: {\"temperature\": 22, \"humidity\": 73}\n",
            "Disconnecting from MQTT Broker.\n"
          ]
        }
      ]
    },
    {
      "cell_type": "code",
      "source": [],
      "metadata": {
        "id": "tnQcNw1aOQBv"
      },
      "execution_count": null,
      "outputs": []
    },
    {
      "cell_type": "code",
      "source": [
        "# Subscribe to the topic\n",
        "client.subscribe(TOPIC)\n",
        "\n",
        "# Keep the client running to process incoming messages\n",
        "# You might want to run this in a separate thread or process in a real application\n",
        "try:\n",
        "    client.loop_forever()\n",
        "except KeyboardInterrupt:\n",
        "    print(\"Disconnecting from MQTT broker.\")\n",
        "    client.disconnect()"
      ],
      "metadata": {
        "id": "h2eHvSgUAorS"
      },
      "execution_count": null,
      "outputs": []
    },
    {
      "cell_type": "markdown",
      "source": [
        "# Tugas Minggu ke-7\n",
        "\n",
        "1. Ubah server Flask agar menggunakan HTTPS (bisa dengan sertifikat self-signed atau pyOpenSSL).\n",
        "2. Buat client IoT yang hanya bisa mengirim data dengan API key valid.\n",
        "3. Konfigurasi MQTT client agar gagal connect jika username/password salah.\n",
        "4. Buat laporan singkat: bandingkan komunikasi tanpa keamanan vs dengan keamanan (HTTP/MQTT).T"
      ],
      "metadata": {
        "id": "tUnuO6FdUd5u"
      }
    }
  ]
}