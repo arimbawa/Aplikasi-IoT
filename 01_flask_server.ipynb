{
 "cells": [
  {
   "cell_type": "code",
   "execution_count": 9,
   "id": "76d3012a-a0ea-4d63-8932-ab534434c7e8",
   "metadata": {},
   "outputs": [
    {
     "name": "stdout",
     "output_type": "stream",
     "text": [
      "Collecting Flask\n",
      "  Using cached flask-3.1.2-py3-none-any.whl.metadata (3.2 kB)\n",
      "Collecting blinker>=1.9.0 (from Flask)\n",
      "  Using cached blinker-1.9.0-py3-none-any.whl.metadata (1.6 kB)\n",
      "Collecting click>=8.1.3 (from Flask)\n",
      "  Using cached click-8.2.1-py3-none-any.whl.metadata (2.5 kB)\n",
      "Collecting itsdangerous>=2.2.0 (from Flask)\n",
      "  Using cached itsdangerous-2.2.0-py3-none-any.whl.metadata (1.9 kB)\n",
      "Requirement already satisfied: jinja2>=3.1.2 in /usr/local/Cellar/jupyterlab/4.4.2_1/libexec/lib/python3.13/site-packages (from Flask) (3.1.6)\n",
      "Requirement already satisfied: markupsafe>=2.1.1 in /usr/local/Cellar/jupyterlab/4.4.2_1/libexec/lib/python3.13/site-packages (from Flask) (3.0.2)\n",
      "Collecting werkzeug>=3.1.0 (from Flask)\n",
      "  Using cached werkzeug-3.1.3-py3-none-any.whl.metadata (3.7 kB)\n",
      "Using cached flask-3.1.2-py3-none-any.whl (103 kB)\n",
      "Using cached blinker-1.9.0-py3-none-any.whl (8.5 kB)\n",
      "Using cached click-8.2.1-py3-none-any.whl (102 kB)\n",
      "Using cached itsdangerous-2.2.0-py3-none-any.whl (16 kB)\n",
      "Using cached werkzeug-3.1.3-py3-none-any.whl (224 kB)\n",
      "Installing collected packages: werkzeug, itsdangerous, click, blinker, Flask\n",
      "Successfully installed Flask-3.1.2 blinker-1.9.0 click-8.2.1 itsdangerous-2.2.0 werkzeug-3.1.3\n",
      "Note: you may need to restart the kernel to use updated packages.\n"
     ]
    }
   ],
   "source": [
    "pip install Flask"
   ]
  },
  {
   "cell_type": "code",
   "execution_count": 10,
   "id": "73a1cc79-e29d-4120-959e-d21365ee6c23",
   "metadata": {},
   "outputs": [],
   "source": [
    "from flask import Flask, request, jsonify # Tes apakah server berjalan"
   ]
  },
  {
   "cell_type": "code",
   "execution_count": null,
   "id": "6cce4018-d394-4754-ae83-ae22292dc6fe",
   "metadata": {},
   "outputs": [
    {
     "name": "stdout",
     "output_type": "stream",
     "text": [
      " * Serving Flask app '__main__'\n",
      " * Debug mode: off\n"
     ]
    },
    {
     "name": "stderr",
     "output_type": "stream",
     "text": [
      "\u001b[31m\u001b[1mWARNING: This is a development server. Do not use it in a production deployment. Use a production WSGI server instead.\u001b[0m\n",
      " * Running on all addresses (0.0.0.0)\n",
      " * Running on http://127.0.0.1:5001\n",
      " * Running on http://192.168.1.15:5001\n",
      "\u001b[33mPress CTRL+C to quit\u001b[0m\n",
      "127.0.0.1 - - [12/Sep/2025 13:39:13] \"POST /sensor HTTP/1.1\" 200 -\n",
      "127.0.0.1 - - [12/Sep/2025 13:39:13] \"GET /status HTTP/1.1\" 200 -\n",
      "127.0.0.1 - - [12/Sep/2025 13:39:23] \"POST /sensor HTTP/1.1\" 200 -\n",
      "127.0.0.1 - - [12/Sep/2025 13:39:23] \"GET /status HTTP/1.1\" 200 -\n",
      "127.0.0.1 - - [12/Sep/2025 13:39:41] \"POST /sensor HTTP/1.1\" 200 -\n",
      "127.0.0.1 - - [12/Sep/2025 13:39:41] \"GET /status HTTP/1.1\" 200 -\n",
      "127.0.0.1 - - [12/Sep/2025 13:40:49] \"GET /status HTTP/1.1\" 200 -\n",
      "127.0.0.1 - - [12/Sep/2025 13:41:13] \"GET /status HTTP/1.1\" 200 -\n"
     ]
    }
   ],
   "source": [
    "# =============================\n",
    "# 1. HTTP COMMUNICATION (FLASK)\n",
    "# =============================\n",
    "\n",
    "# Jalankan sel ini di Jupyter untuk membuat server Flask sederhana\n",
    "from flask import Flask, request, jsonify\n",
    "\n",
    "app = Flask(__name__)\n",
    "\n",
    "# Simpan data sensor sementara\n",
    "sensor_data = {\"temperature\": None, \"humidity\": None}\n",
    "\n",
    "@app.route('/sensor', methods=['POST'])\n",
    "def receive_sensor():\n",
    "    data = request.json\n",
    "    sensor_data[\"temperature\"] = data.get(\"temperature\")\n",
    "    sensor_data[\"humidity\"] = data.get(\"humidity\")\n",
    "    return jsonify({\"status\": \"Data received\", \"data\": sensor_data})\n",
    "\n",
    "@app.route('/status', methods=['GET'])\n",
    "def get_status():\n",
    "    return jsonify({\"status\": \"Device active\", \"data\": sensor_data})\n",
    "\n",
    "# Jalankan server Flask (akses di http://127.0.0.1:5000)\n",
    "# Gunakan ctrl+c untuk berhenti\n",
    "app.run(host=\"0.0.0.0\", port=5001)\n"
   ]
  },
  {
   "cell_type": "code",
   "execution_count": null,
   "id": "4afb6433-125f-43e7-be31-4f837309645b",
   "metadata": {},
   "outputs": [],
   "source": []
  }
 ],
 "metadata": {
  "kernelspec": {
   "display_name": "Python 3 (ipykernel)",
   "language": "python",
   "name": "python3"
  },
  "language_info": {
   "codemirror_mode": {
    "name": "ipython",
    "version": 3
   },
   "file_extension": ".py",
   "mimetype": "text/x-python",
   "name": "python",
   "nbconvert_exporter": "python",
   "pygments_lexer": "ipython3",
   "version": "3.13.3"
  }
 },
 "nbformat": 4,
 "nbformat_minor": 5
}
