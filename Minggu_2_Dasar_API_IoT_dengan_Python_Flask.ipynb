{
  "nbformat": 4,
  "nbformat_minor": 0,
  "metadata": {
    "colab": {
      "provenance": [],
      "authorship_tag": "ABX9TyNdkZsDSvIYl8nQY+oUSCqY",
      "include_colab_link": true
    },
    "kernelspec": {
      "name": "python3",
      "display_name": "Python 3"
    },
    "language_info": {
      "name": "python"
    }
  },
  "cells": [
    {
      "cell_type": "markdown",
      "metadata": {
        "id": "view-in-github",
        "colab_type": "text"
      },
      "source": [
        "<a href=\"https://colab.research.google.com/github/arimbawa/Aplikasi-IoT/blob/main/Minggu_2_Dasar_API_IoT_dengan_Python_Flask.ipynb\" target=\"_parent\"><img src=\"https://colab.research.google.com/assets/colab-badge.svg\" alt=\"Open In Colab\"/></a>"
      ]
    },
    {
      "cell_type": "markdown",
      "source": [
        "# Minggu 2: Dasar API IoT dengan Python Flask\n",
        "\n",
        "**Tujuan Pembelajaran:**\n",
        "\n",
        "1. Mahasiswa memahami konsep API Gateway dalam sistem IoT.\n",
        "2. Mahasiswa dapat membuat server sederhana dengan Flask.\n",
        "3. Mahasiswa dapat mengirim dan menerima data JSON."
      ],
      "metadata": {
        "id": "PF-xmkCBBGtn"
      }
    },
    {
      "cell_type": "markdown",
      "source": [
        "# 1. Konsep Dasar\n",
        "\n",
        "* IoT = Perangkat Sensor → Jaringan → Server → Aplikasi.\n",
        "* API (Application Programming Interface) berfungsi sebagai jembatan agar sensor dan aplikasi bisa bertukar data.\n",
        "* Dalam IoT, biasanya API berbasis REST (HTTP) atau MQTT. Minggu ini kita fokus HTTP REST dengan Flask."
      ],
      "metadata": {
        "id": "1BdCtthYBoat"
      }
    },
    {
      "cell_type": "markdown",
      "source": [
        "# 2. Setup di Google Colab"
      ],
      "metadata": {
        "id": "QsZ8H2XOCClW"
      }
    },
    {
      "cell_type": "code",
      "execution_count": 1,
      "metadata": {
        "colab": {
          "base_uri": "https://localhost:8080/"
        },
        "id": "Bp2GLkHWBC02",
        "outputId": "3eb56f0d-563f-4a45-bf55-a26217a1837b"
      },
      "outputs": [
        {
          "output_type": "stream",
          "name": "stdout",
          "text": [
            "Requirement already satisfied: flask in /usr/local/lib/python3.12/dist-packages (3.1.2)\n",
            "Collecting pyngrok\n",
            "  Downloading pyngrok-7.3.0-py3-none-any.whl.metadata (8.1 kB)\n",
            "Requirement already satisfied: blinker>=1.9.0 in /usr/local/lib/python3.12/dist-packages (from flask) (1.9.0)\n",
            "Requirement already satisfied: click>=8.1.3 in /usr/local/lib/python3.12/dist-packages (from flask) (8.2.1)\n",
            "Requirement already satisfied: itsdangerous>=2.2.0 in /usr/local/lib/python3.12/dist-packages (from flask) (2.2.0)\n",
            "Requirement already satisfied: jinja2>=3.1.2 in /usr/local/lib/python3.12/dist-packages (from flask) (3.1.6)\n",
            "Requirement already satisfied: markupsafe>=2.1.1 in /usr/local/lib/python3.12/dist-packages (from flask) (3.0.2)\n",
            "Requirement already satisfied: werkzeug>=3.1.0 in /usr/local/lib/python3.12/dist-packages (from flask) (3.1.3)\n",
            "Requirement already satisfied: PyYAML>=5.1 in /usr/local/lib/python3.12/dist-packages (from pyngrok) (6.0.2)\n",
            "Downloading pyngrok-7.3.0-py3-none-any.whl (25 kB)\n",
            "Installing collected packages: pyngrok\n",
            "Successfully installed pyngrok-7.3.0\n"
          ]
        }
      ],
      "source": [
        "!pip install flask pyngrok"
      ]
    },
    {
      "cell_type": "markdown",
      "source": [
        "# 3. Setup pyngrok\n",
        "\n",
        "Masukkan token ngrok yang didapatkan dari https://ngrok.com/."
      ],
      "metadata": {
        "id": "eMPvA45gCo-O"
      }
    },
    {
      "cell_type": "code",
      "source": [
        "from pyngrok import ngrok\n",
        "\n",
        "NGROK_TOKEN = \"xxxxxxxxxxxxxxxxxxx\"  # Token\n",
        "ngrok.set_auth_token(NGROK_TOKEN)"
      ],
      "metadata": {
        "colab": {
          "base_uri": "https://localhost:8080/"
        },
        "id": "E4ZxHtwQC1iR",
        "outputId": "7561cb0c-595a-4d15-94cb-5442b06b1efe"
      },
      "execution_count": 3,
      "outputs": [
        {
          "output_type": "stream",
          "name": "stdout",
          "text": []
        }
      ]
    },
    {
      "cell_type": "markdown",
      "source": [
        "# 4. Membuat Flask Server Sederhana"
      ],
      "metadata": {
        "id": "056chThICL8W"
      }
    },
    {
      "cell_type": "code",
      "source": [
        "from flask import Flask, request, jsonify\n",
        "\n",
        "app = Flask(__name__)\n",
        "\n",
        "# Endpoint Home\n",
        "@app.route('/')\n",
        "def home():\n",
        "    return \"🚀 Flask IoT Server is Running!\"\n",
        "\n",
        "# Endpoint POST untuk menerima data sensor\n",
        "@app.route('/sensor', methods=['POST'])\n",
        "def receive_sensor():\n",
        "    data = request.json\n",
        "    return jsonify({\"status\": \"received\", \"data\": data})\n",
        "\n",
        "# Endpoint GET untuk cek status server\n",
        "@app.route('/status', methods=['GET'])\n",
        "def status():\n",
        "    return jsonify({\"server\": \"running\", \"message\": \"ready to receive IoT data\"})"
      ],
      "metadata": {
        "id": "HlIHcZL-CQib"
      },
      "execution_count": 4,
      "outputs": []
    },
    {
      "cell_type": "markdown",
      "source": [
        "# 5. Menjalankan Flask dengan pyngrok"
      ],
      "metadata": {
        "id": "6uhfgeMPDHEp"
      }
    },
    {
      "cell_type": "code",
      "source": [
        "# Jalankan Flask dengan Ngrok\n",
        "public_url = ngrok.connect(5000)\n",
        "print(\"🌍 Flask server running on:\", public_url)\n",
        "\n",
        "app.run(port=5000)"
      ],
      "metadata": {
        "id": "XCljeot_DLYY"
      },
      "execution_count": null,
      "outputs": []
    },
    {
      "cell_type": "markdown",
      "source": [
        "➡️ Akan muncul URL publik, misalnya:\n",
        "\n",
        "Flask server running on: http://xxxxx.ngrok.io"
      ],
      "metadata": {
        "id": "XsCS5WKYDnci"
      }
    },
    {
      "cell_type": "markdown",
      "source": [
        "# 6. Pengujian\n",
        "\n",
        "Gunakan Note: simulate_http_sensor_stream"
      ],
      "metadata": {
        "id": "lQVqv-1IDznz"
      }
    },
    {
      "cell_type": "markdown",
      "source": [
        "# Output yang Diharapkan\n",
        "\n",
        "* URL Flask publik muncul dari Ngrok.\n",
        "* Jika diakses / akan menampilkan 🚀 Flask IoT Server is Running!.\n",
        "* Endpoint /status menampilkan status server.\n",
        "* Endpoint /sensor menerima data sensor (JSON) dan mengembalikan respons sukses."
      ],
      "metadata": {
        "id": "6NxywM9ADTH6"
      }
    },
    {
      "cell_type": "markdown",
      "source": [
        "# Catatan untuk Mahasiswa\n",
        "\n",
        "* Flask = server ringan untuk IoT.\n",
        "* pyngrok = alat untuk membuka akses server lokal agar bisa diakses dari internet.\n",
        "* Minggu 2 ini pondasi untuk integrasi data sensor via HTTP (Minggu 3) dan penyimpanan ke database (Minggu 4)."
      ],
      "metadata": {
        "id": "HiEqD3DKGI6o"
      }
    }
  ]
}