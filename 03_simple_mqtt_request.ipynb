{
 "cells": [
  {
   "cell_type": "code",
   "execution_count": 3,
   "id": "3783eafd-ce56-4c8d-bf3f-509ab0c43218",
   "metadata": {},
   "outputs": [
    {
     "name": "stdout",
     "output_type": "stream",
     "text": [
      "Collecting paho-mqtt\n",
      "  Downloading paho_mqtt-2.1.0-py3-none-any.whl.metadata (23 kB)\n",
      "Downloading paho_mqtt-2.1.0-py3-none-any.whl (67 kB)\n",
      "Installing collected packages: paho-mqtt\n",
      "Successfully installed paho-mqtt-2.1.0\n",
      "Note: you may need to restart the kernel to use updated packages.\n"
     ]
    }
   ],
   "source": [
    "pip install paho-mqtt"
   ]
  },
  {
   "cell_type": "code",
   "execution_count": 4,
   "id": "4156b813-6274-4484-a694-1f874dfb3ad3",
   "metadata": {},
   "outputs": [
    {
     "name": "stderr",
     "output_type": "stream",
     "text": [
      "/var/folders/ml/6xp3l7jx47b16m8jzwgdzsp40000gp/T/ipykernel_2675/3190532780.py:17: DeprecationWarning: Callback API version 1 is deprecated, update to latest version\n",
      "  client = mqtt.Client()\n",
      "/var/folders/ml/6xp3l7jx47b16m8jzwgdzsp40000gp/T/ipykernel_2675/3190532780.py:28: DeprecationWarning: Callback API version 1 is deprecated, update to latest version\n",
      "  publisher = mqtt.Client()\n"
     ]
    },
    {
     "name": "stdout",
     "output_type": "stream",
     "text": [
      "Connected with result code 0\n",
      "Message received on iot/sensor: Temperature=28, Humidity=65\n"
     ]
    },
    {
     "data": {
      "text/plain": [
       "<MQTTErrorCode.MQTT_ERR_SUCCESS: 0>"
      ]
     },
     "execution_count": 4,
     "metadata": {},
     "output_type": "execute_result"
    }
   ],
   "source": [
    "# =============================\n",
    "# 2. MQTT COMMUNICATION\n",
    "# =============================\n",
    "\n",
    "import paho.mqtt.client as mqtt\n",
    "\n",
    "# Callback saat terkoneksi\n",
    "def on_connect(client, userdata, flags, rc):\n",
    "    print(\"Connected with result code \" + str(rc))\n",
    "    client.subscribe(\"iot/sensor\")\n",
    "\n",
    "# Callback saat pesan diterima\n",
    "def on_message(client, userdata, msg):\n",
    "    print(f\"Message received on {msg.topic}: {msg.payload.decode()}\")\n",
    "\n",
    "# Buat client MQTT\n",
    "client = mqtt.Client()\n",
    "client.on_connect = on_connect\n",
    "client.on_message = on_message\n",
    "\n",
    "# Koneksi ke broker (gunakan test.mosquitto.org jika tidak install lokal)\n",
    "client.connect(\"test.mosquitto.org\", 1883, 60)\n",
    "\n",
    "# Jalankan loop MQTT (akan menerima pesan dari subscriber)\n",
    "client.loop_start()\n",
    "\n",
    "# Publisher: kirim data ke topik iot/sensor\n",
    "publisher = mqtt.Client()\n",
    "publisher.connect(\"test.mosquitto.org\", 1883, 60)\n",
    "publisher.publish(\"iot/sensor\", \"Temperature=28, Humidity=65\")\n",
    "\n",
    "# Tunggu beberapa detik untuk lihat hasil\n",
    "import time\n",
    "time.sleep(5)\n",
    "\n",
    "client.loop_stop()\n",
    "client.disconnect()\n",
    "publisher.disconnect()\n"
   ]
  },
  {
   "cell_type": "code",
   "execution_count": null,
   "id": "dba405c6-aef8-4dc0-b2be-e5761baa5e94",
   "metadata": {},
   "outputs": [],
   "source": []
  }
 ],
 "metadata": {
  "kernelspec": {
   "display_name": "Python 3 (ipykernel)",
   "language": "python",
   "name": "python3"
  },
  "language_info": {
   "codemirror_mode": {
    "name": "ipython",
    "version": 3
   },
   "file_extension": ".py",
   "mimetype": "text/x-python",
   "name": "python",
   "nbconvert_exporter": "python",
   "pygments_lexer": "ipython3",
   "version": "3.13.3"
  }
 },
 "nbformat": 4,
 "nbformat_minor": 5
}
