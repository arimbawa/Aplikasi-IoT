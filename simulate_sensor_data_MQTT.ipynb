{
  "nbformat": 4,
  "nbformat_minor": 0,
  "metadata": {
    "colab": {
      "provenance": [],
      "authorship_tag": "ABX9TyPvWbejZkyoLwPDnNn7nM4i",
      "include_colab_link": true
    },
    "kernelspec": {
      "name": "python3",
      "display_name": "Python 3"
    },
    "language_info": {
      "name": "python"
    }
  },
  "cells": [
    {
      "cell_type": "markdown",
      "metadata": {
        "id": "view-in-github",
        "colab_type": "text"
      },
      "source": [
        "<a href=\"https://colab.research.google.com/github/arimbawa/Aplikasi-IoT/blob/main/simulate_sensor_data_MQTT.ipynb\" target=\"_parent\"><img src=\"https://colab.research.google.com/assets/colab-badge.svg\" alt=\"Open In Colab\"/></a>"
      ]
    },
    {
      "cell_type": "code",
      "source": [
        "%pip install paho-mqtt"
      ],
      "metadata": {
        "colab": {
          "base_uri": "https://localhost:8080/"
        },
        "id": "YJYCFL0JDUBj",
        "outputId": "3d5d07bf-9e77-4132-c495-70b072b706e4"
      },
      "execution_count": 2,
      "outputs": [
        {
          "output_type": "stream",
          "name": "stdout",
          "text": [
            "Collecting paho-mqtt\n",
            "  Downloading paho_mqtt-2.1.0-py3-none-any.whl.metadata (23 kB)\n",
            "Downloading paho_mqtt-2.1.0-py3-none-any.whl (67 kB)\n",
            "\u001b[?25l   \u001b[90m━━━━━━━━━━━━━━━━━━━━━━━━━━━━━━━━━━━━━━━━\u001b[0m \u001b[32m0.0/67.2 kB\u001b[0m \u001b[31m?\u001b[0m eta \u001b[36m-:--:--\u001b[0m\r\u001b[2K   \u001b[90m━━━━━━━━━━━━━━━━━━━━━━━━━━━━━━━━━━━━━━━━\u001b[0m \u001b[32m67.2/67.2 kB\u001b[0m \u001b[31m4.1 MB/s\u001b[0m eta \u001b[36m0:00:00\u001b[0m\n",
            "\u001b[?25hInstalling collected packages: paho-mqtt\n",
            "Successfully installed paho-mqtt-2.1.0\n"
          ]
        }
      ]
    },
    {
      "cell_type": "code",
      "execution_count": 3,
      "metadata": {
        "colab": {
          "base_uri": "https://localhost:8080/",
          "height": 609
        },
        "id": "PYLYEUPXCwMy",
        "outputId": "74a0dbd2-4021-4b05-e098-82b6239a1024"
      },
      "outputs": [
        {
          "output_type": "stream",
          "name": "stderr",
          "text": [
            "/tmp/ipython-input-2556433188.py:12: DeprecationWarning: Callback API version 1 is deprecated, update to latest version\n",
            "  client = mqtt.Client()\n"
          ]
        },
        {
          "output_type": "stream",
          "name": "stdout",
          "text": [
            "Connected to MQTT broker at broker.hivemq.com:1883\n",
            "Published Temperature: 25.64°C, Humidity: 40.65%\n",
            "Published Temperature: 21.07°C, Humidity: 41.78%\n",
            "Published Temperature: 28.85°C, Humidity: 59.52%\n",
            "Published Temperature: 26.73°C, Humidity: 55.16%\n",
            "Published Temperature: 28.02°C, Humidity: 41.44%\n",
            "Published Temperature: 24.26°C, Humidity: 50.96%\n",
            "Published Temperature: 21.48°C, Humidity: 57.2%\n",
            "Published Temperature: 24.36°C, Humidity: 51.09%\n",
            "Published Temperature: 25.51°C, Humidity: 40.18%\n",
            "Published Temperature: 29.49°C, Humidity: 51.32%\n",
            "Published Temperature: 27.67°C, Humidity: 51.84%\n",
            "Published Temperature: 29.43°C, Humidity: 51.82%\n",
            "Published Temperature: 22.97°C, Humidity: 59.8%\n",
            "Published Temperature: 21.75°C, Humidity: 47.67%\n",
            "Published Temperature: 22.83°C, Humidity: 45.59%\n",
            "Published Temperature: 24.14°C, Humidity: 56.65%\n",
            "Published Temperature: 28.74°C, Humidity: 44.29%\n",
            "Published Temperature: 25.34°C, Humidity: 53.56%\n",
            "Published Temperature: 25.96°C, Humidity: 43.59%\n"
          ]
        },
        {
          "output_type": "error",
          "ename": "KeyboardInterrupt",
          "evalue": "",
          "traceback": [
            "\u001b[0;31m---------------------------------------------------------------------------\u001b[0m",
            "\u001b[0;31mKeyboardInterrupt\u001b[0m                         Traceback (most recent call last)",
            "\u001b[0;32m/tmp/ipython-input-2556433188.py\u001b[0m in \u001b[0;36m<cell line: 0>\u001b[0;34m()\u001b[0m\n\u001b[1;32m     38\u001b[0m \u001b[0;34m\u001b[0m\u001b[0m\n\u001b[1;32m     39\u001b[0m     \u001b[0;31m# Wait for 10 seconds\u001b[0m\u001b[0;34m\u001b[0m\u001b[0;34m\u001b[0m\u001b[0m\n\u001b[0;32m---> 40\u001b[0;31m     \u001b[0mtime\u001b[0m\u001b[0;34m.\u001b[0m\u001b[0msleep\u001b[0m\u001b[0;34m(\u001b[0m\u001b[0;36m10\u001b[0m\u001b[0;34m)\u001b[0m\u001b[0;34m\u001b[0m\u001b[0;34m\u001b[0m\u001b[0m\n\u001b[0m\u001b[1;32m     41\u001b[0m \u001b[0;34m\u001b[0m\u001b[0m\n\u001b[1;32m     42\u001b[0m \u001b[0;31m# Stop the MQTT loop\u001b[0m\u001b[0;34m\u001b[0m\u001b[0;34m\u001b[0m\u001b[0m\n",
            "\u001b[0;31mKeyboardInterrupt\u001b[0m: "
          ]
        }
      ],
      "source": [
        "import paho.mqtt.client as mqtt\n",
        "import time\n",
        "import random\n",
        "\n",
        "# MQTT broker details\n",
        "broker_address = \"broker.hivemq.com\"\n",
        "port = 1883\n",
        "topic_temp = \"sensor/temperature\"\n",
        "topic_humidity = \"sensor/humidity\"\n",
        "\n",
        "# Create a new MQTT client instance\n",
        "client = mqtt.Client()\n",
        "\n",
        "# Connect to the broker\n",
        "try:\n",
        "    client.connect(broker_address, port)\n",
        "    print(f\"Connected to MQTT broker at {broker_address}:{port}\")\n",
        "except Exception as e:\n",
        "    print(f\"Could not connect to MQTT broker: {e}\")\n",
        "    exit()\n",
        "\n",
        "# Start the MQTT loop in a non-blocking way\n",
        "client.loop_start()\n",
        "\n",
        "# Publish data for 10 minutes (600 seconds)\n",
        "end_time = time.time() + 600\n",
        "\n",
        "while time.time() < end_time:\n",
        "    # Generate random temperature and humidity data\n",
        "    temperature = round(random.uniform(20.0, 30.0), 2)\n",
        "    humidity = round(random.uniform(40.0, 60.0), 2)\n",
        "\n",
        "    # Publish the data to the respective topics\n",
        "    client.publish(topic_temp, payload=str(temperature), qos=0, retain=False)\n",
        "    client.publish(topic_humidity, payload=str(humidity), qos=0, retain=False)\n",
        "\n",
        "    print(f\"Published Temperature: {temperature}°C, Humidity: {humidity}%\")\n",
        "\n",
        "    # Wait for 10 seconds\n",
        "    time.sleep(10)\n",
        "\n",
        "# Stop the MQTT loop\n",
        "client.loop_stop()\n",
        "\n",
        "# Disconnect from the broker\n",
        "client.disconnect()\n",
        "print(\"Disconnected from MQTT broker\")"
      ]
    }
  ]
}