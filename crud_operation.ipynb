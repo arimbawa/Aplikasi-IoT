{
  "nbformat": 4,
  "nbformat_minor": 0,
  "metadata": {
    "colab": {
      "provenance": [],
      "authorship_tag": "ABX9TyPxOa8uMjma0C+HWe8732AY",
      "include_colab_link": true
    },
    "kernelspec": {
      "name": "python3",
      "display_name": "Python 3"
    },
    "language_info": {
      "name": "python"
    }
  },
  "cells": [
    {
      "cell_type": "markdown",
      "metadata": {
        "id": "view-in-github",
        "colab_type": "text"
      },
      "source": [
        "<a href=\"https://colab.research.google.com/github/arimbawa/Aplikasi-IoT/blob/main/crud_operation.ipynb\" target=\"_parent\"><img src=\"https://colab.research.google.com/assets/colab-badge.svg\" alt=\"Open In Colab\"/></a>"
      ]
    },
    {
      "cell_type": "markdown",
      "source": [
        "**Untuk digunakan pada Praktikum Minggu ke-5**"
      ],
      "metadata": {
        "id": "9GtqNCQRAJRD"
      }
    },
    {
      "cell_type": "code",
      "source": [
        "FLASK_URL = \"https://47da96db7286.ngrok-free.app/sensor\"  # ganti dengan URL dari ngrok output"
      ],
      "metadata": {
        "id": "wRlHfIZHAbt0"
      },
      "execution_count": null,
      "outputs": []
    },
    {
      "cell_type": "code",
      "execution_count": 30,
      "metadata": {
        "colab": {
          "base_uri": "https://localhost:8080/"
        },
        "id": "ibB-UC58zBjy",
        "outputId": "6c1a0a98-ae59-4285-ec22-8d5a15d8c507"
      },
      "outputs": [
        {
          "output_type": "stream",
          "name": "stdout",
          "text": [
            "Sent: {'temperature': 27.46, 'humidity': 56.47} Response: {'id': '68cd4cff600cc1fbd6486612', 'status': 'success'}\n",
            "Sent: {'temperature': 25.56, 'humidity': 40.01} Response: {'id': '68cd4d00600cc1fbd6486613', 'status': 'success'}\n",
            "Sent: {'temperature': 24.72, 'humidity': 48.1} Response: {'id': '68cd4d01600cc1fbd6486614', 'status': 'success'}\n",
            "Sent: {'temperature': 24.91, 'humidity': 41.0} Response: {'id': '68cd4d02600cc1fbd6486615', 'status': 'success'}\n",
            "Sent: {'temperature': 20.89, 'humidity': 47.98} Response: {'id': '68cd4d04600cc1fbd6486616', 'status': 'success'}\n"
          ]
        }
      ],
      "source": [
        "import requests, random, time\n",
        "\n",
        "for i in range(5):\n",
        "    temp = round(random.uniform(20, 30), 2)\n",
        "    hum = round(random.uniform(40, 60), 2)\n",
        "    data = {\"temperature\": temp, \"humidity\": hum}\n",
        "    r = requests.post(FLASK_URL, json=data)\n",
        "    print(\"Sent:\", data, \"Response:\", r.json())\n",
        "    time.sleep(1)\n"
      ]
    },
    {
      "cell_type": "code",
      "source": [
        "r = requests.get(FLASK_URL)\n",
        "print(\"Data from DB:\", r.json())"
      ],
      "metadata": {
        "colab": {
          "base_uri": "https://localhost:8080/"
        },
        "id": "XOaAjASE3P1X",
        "outputId": "c1146ed5-30df-4c0c-895b-2339ff226d18"
      },
      "execution_count": 31,
      "outputs": [
        {
          "output_type": "stream",
          "name": "stdout",
          "text": [
            "Data from DB: [{'_id': '68cd46d5600cc1fbd64865f9', 'humidity': 55.0, 'temperature': 28.09}, {'_id': '68cd46d6600cc1fbd64865fa', 'humidity': 49.0, 'temperature': 23.12}, {'_id': '68cd46d7600cc1fbd64865fb', 'humidity': 46.55, 'temperature': 21.82}, {'_id': '68cd46d8600cc1fbd64865fc', 'humidity': 51.19, 'temperature': 24.55}, {'_id': '68cd4759600cc1fbd64865fd', 'humidity': 47.71, 'temperature': 27.73}, {'_id': '68cd475a600cc1fbd64865fe', 'humidity': 54.79, 'temperature': 25.41}, {'_id': '68cd475c600cc1fbd64865ff', 'humidity': 44.11, 'temperature': 20.76}, {'_id': '68cd475d600cc1fbd6486600', 'humidity': 58.34, 'temperature': 20.84}, {'_id': '68cd475e600cc1fbd6486601', 'humidity': 49.33, 'temperature': 26.25}, {'_id': '68cd47cf600cc1fbd6486602', 'humidity': 41.64, 'temperature': 29.96}, {'_id': '68cd47d0600cc1fbd6486603', 'humidity': 45.76, 'temperature': 23.84}, {'_id': '68cd47d1600cc1fbd6486604', 'humidity': 55.88, 'temperature': 24.02}, {'_id': '68cd47d2600cc1fbd6486605', 'humidity': 40.29, 'temperature': 25.25}, {'_id': '68cd47d3600cc1fbd6486606', 'humidity': 45.16, 'temperature': 27.17}, {'_id': '68cd491b600cc1fbd6486607', 'humidity': 57.46, 'temperature': 26.4}, {'_id': '68cd491c600cc1fbd6486608', 'humidity': 59.42, 'temperature': 21.29}, {'_id': '68cd491d600cc1fbd6486609', 'humidity': 59.5, 'temperature': 28.55}, {'_id': '68cd491e600cc1fbd648660a', 'humidity': 41.75, 'temperature': 27.08}, {'_id': '68cd491f600cc1fbd648660b', 'humidity': 54.04, 'temperature': 27.67}, {'_id': '68cd4a25600cc1fbd648660c', 'humidity': 51.09, 'temperature': 29.29}, {'_id': '68cd4a26600cc1fbd648660d', 'humidity': 58.03, 'temperature': 26.5}, {'_id': '68cd4a27600cc1fbd648660e', 'humidity': 40.26, 'temperature': 28.58}, {'_id': '68cd4a28600cc1fbd648660f', 'humidity': 55.75, 'temperature': 25.06}, {'_id': '68cd4a29600cc1fbd6486610', 'humidity': 55.96, 'temperature': 21.75}, {'_id': '68cd4b65600cc1fbd6486611', 'humidity': 44.19, 'temperature': 26.8}, {'_id': '68cd4cff600cc1fbd6486612', 'humidity': 56.47, 'temperature': 27.46}, {'_id': '68cd4d00600cc1fbd6486613', 'humidity': 40.01, 'temperature': 25.56}, {'_id': '68cd4d01600cc1fbd6486614', 'humidity': 48.1, 'temperature': 24.72}, {'_id': '68cd4d02600cc1fbd6486615', 'humidity': 41.0, 'temperature': 24.91}, {'_id': '68cd4d04600cc1fbd6486616', 'humidity': 47.98, 'temperature': 20.89}]\n"
          ]
        }
      ]
    },
    {
      "cell_type": "markdown",
      "source": [
        "# CREATE (POST)"
      ],
      "metadata": {
        "id": "-e4kv-cP7NSR"
      }
    },
    {
      "cell_type": "code",
      "source": [
        "import requests, random\n",
        "\n",
        "data = {\n",
        "    \"temperature\": round(random.uniform(20, 30), 2),\n",
        "    \"humidity\": round(random.uniform(40, 60), 2)\n",
        "}\n",
        "r = requests.post(FLASK_URL, json=data)\n",
        "print(r.json())"
      ],
      "metadata": {
        "colab": {
          "base_uri": "https://localhost:8080/"
        },
        "id": "xVvYJhhT7Jo-",
        "outputId": "d725c441-50a7-4cfb-bae3-09da20b5a1ee"
      },
      "execution_count": 32,
      "outputs": [
        {
          "output_type": "stream",
          "name": "stdout",
          "text": [
            "{'id': '68cd4d0f600cc1fbd6486617', 'status': 'success'}\n"
          ]
        }
      ]
    },
    {
      "cell_type": "markdown",
      "source": [
        "# READ ALL (GET)"
      ],
      "metadata": {
        "id": "KOkvWEeI7pnV"
      }
    },
    {
      "cell_type": "code",
      "source": [
        "r = requests.get(FLASK_URL)\n",
        "print(r.json())"
      ],
      "metadata": {
        "colab": {
          "base_uri": "https://localhost:8080/"
        },
        "id": "Ahen5o247_vP",
        "outputId": "599aac63-66d4-42b2-a52f-aaece703f796"
      },
      "execution_count": 33,
      "outputs": [
        {
          "output_type": "stream",
          "name": "stdout",
          "text": [
            "[{'_id': '68cd46d5600cc1fbd64865f9', 'humidity': 55.0, 'temperature': 28.09}, {'_id': '68cd46d6600cc1fbd64865fa', 'humidity': 49.0, 'temperature': 23.12}, {'_id': '68cd46d7600cc1fbd64865fb', 'humidity': 46.55, 'temperature': 21.82}, {'_id': '68cd46d8600cc1fbd64865fc', 'humidity': 51.19, 'temperature': 24.55}, {'_id': '68cd4759600cc1fbd64865fd', 'humidity': 47.71, 'temperature': 27.73}, {'_id': '68cd475a600cc1fbd64865fe', 'humidity': 54.79, 'temperature': 25.41}, {'_id': '68cd475c600cc1fbd64865ff', 'humidity': 44.11, 'temperature': 20.76}, {'_id': '68cd475d600cc1fbd6486600', 'humidity': 58.34, 'temperature': 20.84}, {'_id': '68cd475e600cc1fbd6486601', 'humidity': 49.33, 'temperature': 26.25}, {'_id': '68cd47cf600cc1fbd6486602', 'humidity': 41.64, 'temperature': 29.96}, {'_id': '68cd47d0600cc1fbd6486603', 'humidity': 45.76, 'temperature': 23.84}, {'_id': '68cd47d1600cc1fbd6486604', 'humidity': 55.88, 'temperature': 24.02}, {'_id': '68cd47d2600cc1fbd6486605', 'humidity': 40.29, 'temperature': 25.25}, {'_id': '68cd47d3600cc1fbd6486606', 'humidity': 45.16, 'temperature': 27.17}, {'_id': '68cd491b600cc1fbd6486607', 'humidity': 57.46, 'temperature': 26.4}, {'_id': '68cd491c600cc1fbd6486608', 'humidity': 59.42, 'temperature': 21.29}, {'_id': '68cd491d600cc1fbd6486609', 'humidity': 59.5, 'temperature': 28.55}, {'_id': '68cd491e600cc1fbd648660a', 'humidity': 41.75, 'temperature': 27.08}, {'_id': '68cd491f600cc1fbd648660b', 'humidity': 54.04, 'temperature': 27.67}, {'_id': '68cd4a25600cc1fbd648660c', 'humidity': 51.09, 'temperature': 29.29}, {'_id': '68cd4a26600cc1fbd648660d', 'humidity': 58.03, 'temperature': 26.5}, {'_id': '68cd4a27600cc1fbd648660e', 'humidity': 40.26, 'temperature': 28.58}, {'_id': '68cd4a28600cc1fbd648660f', 'humidity': 55.75, 'temperature': 25.06}, {'_id': '68cd4a29600cc1fbd6486610', 'humidity': 55.96, 'temperature': 21.75}, {'_id': '68cd4b65600cc1fbd6486611', 'humidity': 44.19, 'temperature': 26.8}, {'_id': '68cd4cff600cc1fbd6486612', 'humidity': 56.47, 'temperature': 27.46}, {'_id': '68cd4d00600cc1fbd6486613', 'humidity': 40.01, 'temperature': 25.56}, {'_id': '68cd4d01600cc1fbd6486614', 'humidity': 48.1, 'temperature': 24.72}, {'_id': '68cd4d02600cc1fbd6486615', 'humidity': 41.0, 'temperature': 24.91}, {'_id': '68cd4d04600cc1fbd6486616', 'humidity': 47.98, 'temperature': 20.89}, {'_id': '68cd4d0f600cc1fbd6486617', 'humidity': 51.8, 'temperature': 26.57}]\n"
          ]
        }
      ]
    },
    {
      "cell_type": "markdown",
      "source": [
        "# READ by ID (GET)"
      ],
      "metadata": {
        "id": "Tx_d3ma98KZh"
      }
    },
    {
      "cell_type": "code",
      "source": [
        "doc_id = \"68cd46d5600cc1fbd64865f9\"  # ganti id hasil create\n",
        "r = requests.get(f\"{FLASK_URL}/{doc_id}\")\n",
        "print(r.json())"
      ],
      "metadata": {
        "colab": {
          "base_uri": "https://localhost:8080/"
        },
        "id": "d9y7RZtM8OQ_",
        "outputId": "f70ceb57-9a6a-4d0d-8fed-5f5037b0b701"
      },
      "execution_count": 35,
      "outputs": [
        {
          "output_type": "stream",
          "name": "stdout",
          "text": [
            "{'_id': '68cd46d5600cc1fbd64865f9', 'humidity': 55.0, 'temperature': 28.09}\n"
          ]
        }
      ]
    },
    {
      "cell_type": "markdown",
      "source": [
        "# UPDATE (PUT)"
      ],
      "metadata": {
        "id": "4YI0L1wI8XYy"
      }
    },
    {
      "cell_type": "code",
      "source": [
        "doc_id = \"68cd46d5600cc1fbd64865f9\"\n",
        "new_data = {\"temperature\": 29.0}\n",
        "r = requests.put(f\"{FLASK_URL}/{doc_id}\", json=new_data)\n",
        "print(r.json())"
      ],
      "metadata": {
        "colab": {
          "base_uri": "https://localhost:8080/"
        },
        "id": "6Cz-6j_C8bZx",
        "outputId": "2ab43570-fa8b-4018-ee5c-1b1ac4e1c15b"
      },
      "execution_count": 36,
      "outputs": [
        {
          "output_type": "stream",
          "name": "stdout",
          "text": [
            "{'id': '68cd46d5600cc1fbd64865f9', 'status': 'updated'}\n"
          ]
        }
      ]
    },
    {
      "cell_type": "markdown",
      "source": [
        "# DELETE (DELETE)"
      ],
      "metadata": {
        "id": "7lI3LXTY8oCk"
      }
    },
    {
      "cell_type": "code",
      "source": [
        "doc_id = \"68cd46d5600cc1fbd64865f9\"\n",
        "r = requests.delete(f\"{FLASK_URL}/{doc_id}\")\n",
        "print(r.json())"
      ],
      "metadata": {
        "colab": {
          "base_uri": "https://localhost:8080/"
        },
        "id": "9hTk6SFU8rV8",
        "outputId": "ef4a0f79-da64-4db7-ccd7-72b58b2b5186"
      },
      "execution_count": 37,
      "outputs": [
        {
          "output_type": "stream",
          "name": "stdout",
          "text": [
            "{'id': '68cd46d5600cc1fbd64865f9', 'status': 'deleted'}\n"
          ]
        }
      ]
    }
  ]
}