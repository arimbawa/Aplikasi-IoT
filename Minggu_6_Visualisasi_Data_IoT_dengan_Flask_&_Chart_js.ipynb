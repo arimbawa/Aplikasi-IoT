{
  "nbformat": 4,
  "nbformat_minor": 0,
  "metadata": {
    "colab": {
      "provenance": [],
      "authorship_tag": "ABX9TyMnUVFR/rmx2UX5uBisqvR8",
      "include_colab_link": true
    },
    "kernelspec": {
      "name": "python3",
      "display_name": "Python 3"
    },
    "language_info": {
      "name": "python"
    }
  },
  "cells": [
    {
      "cell_type": "markdown",
      "metadata": {
        "id": "view-in-github",
        "colab_type": "text"
      },
      "source": [
        "<a href=\"https://colab.research.google.com/github/arimbawa/Aplikasi-IoT/blob/main/Minggu_6_Visualisasi_Data_IoT_dengan_Flask_%26_Chart_js.ipynb\" target=\"_parent\"><img src=\"https://colab.research.google.com/assets/colab-badge.svg\" alt=\"Open In Colab\"/></a>"
      ]
    },
    {
      "cell_type": "markdown",
      "source": [
        "# Minggu ke-6: Visualisasi Data IoT dengan Flask & Chart.js\n",
        "\n",
        "**Tujuan Pembelajaran**\n",
        "\n",
        "1. Mahasiswa dapat membuat dashboard berbasis web untuk menampilkan data IoT.\n",
        "2. Mahasiswa dapat menghubungkan database (Mongita) dengan visualisasi data secara real-time.\n",
        "3. Mahasiswa memahami penggunaan Flask + Jinja2 Template untuk render data.\n",
        "4. Mahasiswa dapat menggunakan Chart.js untuk menampilkan grafik IoT (temperature & humidity)."
      ],
      "metadata": {
        "id": "tU1_uZkQHLDS"
      }
    },
    {
      "cell_type": "markdown",
      "source": [
        "# Materi Teori\n",
        "\n",
        "* Dashboard IoT: Menampilkan data sensor agar mudah dipahami.\n",
        "* Flask Template Rendering (Jinja2): Menyajikan data dari backend ke frontend.\n",
        "* Chart.js: Library JavaScript populer untuk membuat grafik interaktif.\n",
        "* Update Data via API: Data baru bisa diambil lewat REST API (dari minggu sebelumnya)."
      ],
      "metadata": {
        "id": "1BTZI8UpHffC"
      }
    },
    {
      "cell_type": "markdown",
      "source": [
        "# Langkah Praktik di Google Colab"
      ],
      "metadata": {
        "id": "AxG5Tok-HzgW"
      }
    },
    {
      "cell_type": "markdown",
      "source": [
        "# 1. Install & Import Modul"
      ],
      "metadata": {
        "id": "RJOxXMSQH1L1"
      }
    },
    {
      "cell_type": "code",
      "execution_count": 1,
      "metadata": {
        "colab": {
          "base_uri": "https://localhost:8080/"
        },
        "id": "ilFAp9etHBnl",
        "outputId": "b0f204c9-4767-4ff3-fc27-b82abd89769d"
      },
      "outputs": [
        {
          "output_type": "stream",
          "name": "stdout",
          "text": [
            "Collecting flask-ngrok\n",
            "  Downloading flask_ngrok-0.0.25-py3-none-any.whl.metadata (1.8 kB)\n",
            "Collecting pyngrok\n",
            "  Downloading pyngrok-7.3.0-py3-none-any.whl.metadata (8.1 kB)\n",
            "Collecting mongita\n",
            "  Downloading mongita-1.2.0.tar.gz (54 kB)\n",
            "\u001b[2K     \u001b[90m━━━━━━━━━━━━━━━━━━━━━━━━━━━━━━━━━━━━━━━━\u001b[0m \u001b[32m54.6/54.6 kB\u001b[0m \u001b[31m3.4 MB/s\u001b[0m eta \u001b[36m0:00:00\u001b[0m\n",
            "\u001b[?25h  Preparing metadata (setup.py) ... \u001b[?25l\u001b[?25hdone\n",
            "Requirement already satisfied: flask in /usr/local/lib/python3.12/dist-packages (3.1.2)\n",
            "Requirement already satisfied: requests in /usr/local/lib/python3.12/dist-packages (from flask-ngrok) (2.32.4)\n",
            "Requirement already satisfied: PyYAML>=5.1 in /usr/local/lib/python3.12/dist-packages (from pyngrok) (6.0.2)\n",
            "Collecting pymongo<5.0,>=3.0 (from mongita)\n",
            "  Downloading pymongo-4.15.1-cp312-cp312-manylinux_2_17_x86_64.manylinux2014_x86_64.whl.metadata (22 kB)\n",
            "Requirement already satisfied: sortedcontainers<3.0,>=2.3 in /usr/local/lib/python3.12/dist-packages (from mongita) (2.4.0)\n",
            "Requirement already satisfied: blinker>=1.9.0 in /usr/local/lib/python3.12/dist-packages (from flask) (1.9.0)\n",
            "Requirement already satisfied: click>=8.1.3 in /usr/local/lib/python3.12/dist-packages (from flask) (8.2.1)\n",
            "Requirement already satisfied: itsdangerous>=2.2.0 in /usr/local/lib/python3.12/dist-packages (from flask) (2.2.0)\n",
            "Requirement already satisfied: jinja2>=3.1.2 in /usr/local/lib/python3.12/dist-packages (from flask) (3.1.6)\n",
            "Requirement already satisfied: markupsafe>=2.1.1 in /usr/local/lib/python3.12/dist-packages (from flask) (3.0.2)\n",
            "Requirement already satisfied: werkzeug>=3.1.0 in /usr/local/lib/python3.12/dist-packages (from flask) (3.1.3)\n",
            "Collecting dnspython<3.0.0,>=1.16.0 (from pymongo<5.0,>=3.0->mongita)\n",
            "  Downloading dnspython-2.8.0-py3-none-any.whl.metadata (5.7 kB)\n",
            "Requirement already satisfied: charset_normalizer<4,>=2 in /usr/local/lib/python3.12/dist-packages (from requests->flask-ngrok) (3.4.3)\n",
            "Requirement already satisfied: idna<4,>=2.5 in /usr/local/lib/python3.12/dist-packages (from requests->flask-ngrok) (3.10)\n",
            "Requirement already satisfied: urllib3<3,>=1.21.1 in /usr/local/lib/python3.12/dist-packages (from requests->flask-ngrok) (2.5.0)\n",
            "Requirement already satisfied: certifi>=2017.4.17 in /usr/local/lib/python3.12/dist-packages (from requests->flask-ngrok) (2025.8.3)\n",
            "Downloading flask_ngrok-0.0.25-py3-none-any.whl (3.1 kB)\n",
            "Downloading pyngrok-7.3.0-py3-none-any.whl (25 kB)\n",
            "Downloading pymongo-4.15.1-cp312-cp312-manylinux_2_17_x86_64.manylinux2014_x86_64.whl (1.7 MB)\n",
            "\u001b[2K   \u001b[90m━━━━━━━━━━━━━━━━━━━━━━━━━━━━━━━━━━━━━━━━\u001b[0m \u001b[32m1.7/1.7 MB\u001b[0m \u001b[31m37.9 MB/s\u001b[0m eta \u001b[36m0:00:00\u001b[0m\n",
            "\u001b[?25hDownloading dnspython-2.8.0-py3-none-any.whl (331 kB)\n",
            "\u001b[2K   \u001b[90m━━━━━━━━━━━━━━━━━━━━━━━━━━━━━━━━━━━━━━━━\u001b[0m \u001b[32m331.1/331.1 kB\u001b[0m \u001b[31m30.1 MB/s\u001b[0m eta \u001b[36m0:00:00\u001b[0m\n",
            "\u001b[?25hBuilding wheels for collected packages: mongita\n",
            "  Building wheel for mongita (setup.py) ... \u001b[?25l\u001b[?25hdone\n",
            "  Created wheel for mongita: filename=mongita-1.2.0-py3-none-any.whl size=61258 sha256=25481d6b150100edd9cc4b1f1d798cca83548748b7f0b96d6bf2adbb522850ab\n",
            "  Stored in directory: /root/.cache/pip/wheels/c0/bf/0d/6a2a625c704f15045f2e0286f8a819f2104eeaefb92cd42a4f\n",
            "Successfully built mongita\n",
            "Installing collected packages: pyngrok, dnspython, pymongo, mongita, flask-ngrok\n",
            "Successfully installed dnspython-2.8.0 flask-ngrok-0.0.25 mongita-1.2.0 pymongo-4.15.1 pyngrok-7.3.0\n"
          ]
        }
      ],
      "source": [
        "!pip install flask-ngrok pyngrok mongita flask"
      ]
    },
    {
      "cell_type": "markdown",
      "source": [
        "# 2. Setup pyngrok\n",
        "Masukkan token ngrok yang didapatkan dari https://ngrok.com/."
      ],
      "metadata": {
        "id": "ngN6mRddIAAE"
      }
    },
    {
      "cell_type": "code",
      "source": [
        "from pyngrok import ngrok\n",
        "\n",
        "NGROK_TOKEN = \"xxxxx\"  # Token\n",
        "ngrok.set_auth_token(NGROK_TOKEN)"
      ],
      "metadata": {
        "colab": {
          "base_uri": "https://localhost:8080/"
        },
        "id": "GMlSKJTEIDo6",
        "outputId": "267f2ed9-35d1-4cfa-8b34-f9daa080e6d1"
      },
      "execution_count": 2,
      "outputs": [
        {
          "output_type": "stream",
          "name": "stdout",
          "text": []
        }
      ]
    },
    {
      "cell_type": "markdown",
      "source": [
        "# 3. Setup Flask + Database Mongita"
      ],
      "metadata": {
        "id": "xtrdw5XtIIuq"
      }
    },
    {
      "cell_type": "code",
      "source": [
        "from flask import Flask, jsonify, request, render_template_string\n",
        "from mongita import MongitaClientDisk\n",
        "from pyngrok import ngrok\n",
        "\n",
        "# Setup Flask\n",
        "app = Flask(__name__)\n",
        "\n",
        "# Setup database\n",
        "client = MongitaClientDisk()\n",
        "db = client.iot\n",
        "collection = db.sensors\n",
        "\n",
        "# Clear the collection each time the server runs\n",
        "# Use delete_many as drop() is not implemented in mongita\n",
        "collection.delete_many({})\n",
        "\n",
        "\n",
        "# Template HTML dengan Chart.js\n",
        "template = \"\"\"\n",
        "<!DOCTYPE html>\n",
        "<html>\n",
        "<head>\n",
        "    <title>IoT Dashboard</title>\n",
        "    <script src=\"https://cdn.jsdelivr.net/npm/chart.js\"></script>\n",
        "</head>\n",
        "<body>\n",
        "    <h2>Dashboard IoT</h2>\n",
        "    <canvas id=\"myChart\" width=\"400\" height=\"200\"></canvas>\n",
        "    <script>\n",
        "        async function loadData() {\n",
        "            let response = await fetch('/data');\n",
        "            let data = await response.json();\n",
        "\n",
        "            let labels = data.map(item => item._id);\n",
        "            let temp = data.map(item => item.temperature);\n",
        "            let hum = data.map(item => item.humidity);\n",
        "\n",
        "            const ctx = document.getElementById('myChart').getContext('2d');\n",
        "            new Chart(ctx, {\n",
        "                type: 'line',\n",
        "                data: {\n",
        "                    labels: labels,\n",
        "                    datasets: [\n",
        "                        { label: 'Temperature', data: temp, borderColor: 'red', fill: false },\n",
        "                        { label: 'Humidity', data: hum, borderColor: 'blue', fill: false }\n",
        "                    ]\n",
        "                },\n",
        "                options: {\n",
        "                    responsive: true,\n",
        "                    scales: {\n",
        "                        y: { beginAtZero: true }\n",
        "                    }\n",
        "                }\n",
        "            });\n",
        "        }\n",
        "        loadData();\n",
        "    </script>\n",
        "</body>\n",
        "</html>\n",
        "\"\"\"\n",
        "\n",
        "@app.route('/')\n",
        "def index():\n",
        "    return render_template_string(template)\n",
        "\n",
        "@app.route('/data')\n",
        "def data():\n",
        "    docs = list(collection.find())\n",
        "    return jsonify(docs)\n",
        "\n",
        "# Endpoint tambah data sensor manual (simulasi)\n",
        "@app.route('/add', methods=['POST'])\n",
        "def add():\n",
        "    data = request.json\n",
        "    collection.insert_one(data)\n",
        "    return jsonify({\"status\": \"success\"}), 201\n",
        "\n",
        "# Jalankan ngrok\n",
        "public_url = ngrok.connect(5000)\n",
        "print(\" * Ngrok URL:\", public_url)\n",
        "\n",
        "app.run(port=5000)"
      ],
      "metadata": {
        "colab": {
          "base_uri": "https://localhost:8080/"
        },
        "id": "fRHsZBS9IO1p",
        "outputId": "cd7bcf0f-525b-45c0-f909-ea41eae23202"
      },
      "execution_count": 9,
      "outputs": [
        {
          "output_type": "stream",
          "name": "stdout",
          "text": [
            " * Ngrok URL: NgrokTunnel: \"https://bdd62916a4f0.ngrok-free.app\" -> \"http://localhost:5000\"\n",
            " * Serving Flask app '__main__'\n",
            " * Debug mode: off\n"
          ]
        },
        {
          "output_type": "stream",
          "name": "stderr",
          "text": [
            "INFO:werkzeug:\u001b[31m\u001b[1mWARNING: This is a development server. Do not use it in a production deployment. Use a production WSGI server instead.\u001b[0m\n",
            " * Running on http://127.0.0.1:5000\n",
            "INFO:werkzeug:\u001b[33mPress CTRL+C to quit\u001b[0m\n",
            "INFO:werkzeug:127.0.0.1 - - [19/Sep/2025 14:06:43] \"\u001b[35m\u001b[1mPOST /add HTTP/1.1\u001b[0m\" 201 -\n",
            "INFO:werkzeug:127.0.0.1 - - [19/Sep/2025 14:06:46] \"\u001b[35m\u001b[1mPOST /add HTTP/1.1\u001b[0m\" 201 -\n",
            "INFO:werkzeug:127.0.0.1 - - [19/Sep/2025 14:06:48] \"\u001b[35m\u001b[1mPOST /add HTTP/1.1\u001b[0m\" 201 -\n",
            "INFO:werkzeug:127.0.0.1 - - [19/Sep/2025 14:06:50] \"\u001b[35m\u001b[1mPOST /add HTTP/1.1\u001b[0m\" 201 -\n",
            "INFO:werkzeug:127.0.0.1 - - [19/Sep/2025 14:06:52] \"\u001b[35m\u001b[1mPOST /add HTTP/1.1\u001b[0m\" 201 -\n",
            "INFO:werkzeug:127.0.0.1 - - [19/Sep/2025 14:06:54] \"\u001b[35m\u001b[1mPOST /add HTTP/1.1\u001b[0m\" 201 -\n",
            "INFO:werkzeug:127.0.0.1 - - [19/Sep/2025 14:06:56] \"\u001b[35m\u001b[1mPOST /add HTTP/1.1\u001b[0m\" 201 -\n",
            "INFO:werkzeug:127.0.0.1 - - [19/Sep/2025 14:06:59] \"\u001b[35m\u001b[1mPOST /add HTTP/1.1\u001b[0m\" 201 -\n",
            "INFO:werkzeug:127.0.0.1 - - [19/Sep/2025 14:07:01] \"\u001b[35m\u001b[1mPOST /add HTTP/1.1\u001b[0m\" 201 -\n",
            "INFO:werkzeug:127.0.0.1 - - [19/Sep/2025 14:07:03] \"\u001b[35m\u001b[1mPOST /add HTTP/1.1\u001b[0m\" 201 -\n",
            "INFO:werkzeug:127.0.0.1 - - [19/Sep/2025 14:07:05] \"\u001b[35m\u001b[1mPOST /add HTTP/1.1\u001b[0m\" 201 -\n",
            "INFO:werkzeug:127.0.0.1 - - [19/Sep/2025 14:07:06] \"GET / HTTP/1.1\" 200 -\n",
            "INFO:werkzeug:127.0.0.1 - - [19/Sep/2025 14:07:07] \"GET /data HTTP/1.1\" 200 -\n",
            "INFO:werkzeug:127.0.0.1 - - [19/Sep/2025 14:07:07] \"\u001b[33mGET /favicon.ico HTTP/1.1\u001b[0m\" 404 -\n",
            "INFO:werkzeug:127.0.0.1 - - [19/Sep/2025 14:07:07] \"\u001b[35m\u001b[1mPOST /add HTTP/1.1\u001b[0m\" 201 -\n",
            "INFO:werkzeug:127.0.0.1 - - [19/Sep/2025 14:07:10] \"\u001b[35m\u001b[1mPOST /add HTTP/1.1\u001b[0m\" 201 -\n",
            "INFO:werkzeug:127.0.0.1 - - [19/Sep/2025 14:07:10] \"GET / HTTP/1.1\" 200 -\n",
            "INFO:werkzeug:127.0.0.1 - - [19/Sep/2025 14:07:10] \"GET /data HTTP/1.1\" 200 -\n",
            "INFO:werkzeug:127.0.0.1 - - [19/Sep/2025 14:07:12] \"\u001b[35m\u001b[1mPOST /add HTTP/1.1\u001b[0m\" 201 -\n",
            "INFO:werkzeug:127.0.0.1 - - [19/Sep/2025 14:07:14] \"\u001b[35m\u001b[1mPOST /add HTTP/1.1\u001b[0m\" 201 -\n",
            "INFO:werkzeug:127.0.0.1 - - [19/Sep/2025 14:07:16] \"\u001b[35m\u001b[1mPOST /add HTTP/1.1\u001b[0m\" 201 -\n",
            "INFO:werkzeug:127.0.0.1 - - [19/Sep/2025 14:07:18] \"\u001b[35m\u001b[1mPOST /add HTTP/1.1\u001b[0m\" 201 -\n",
            "INFO:werkzeug:127.0.0.1 - - [19/Sep/2025 14:07:21] \"\u001b[35m\u001b[1mPOST /add HTTP/1.1\u001b[0m\" 201 -\n",
            "INFO:werkzeug:127.0.0.1 - - [19/Sep/2025 14:07:23] \"\u001b[35m\u001b[1mPOST /add HTTP/1.1\u001b[0m\" 201 -\n",
            "INFO:werkzeug:127.0.0.1 - - [19/Sep/2025 14:07:25] \"\u001b[35m\u001b[1mPOST /add HTTP/1.1\u001b[0m\" 201 -\n",
            "INFO:werkzeug:127.0.0.1 - - [19/Sep/2025 14:07:27] \"\u001b[35m\u001b[1mPOST /add HTTP/1.1\u001b[0m\" 201 -\n",
            "INFO:werkzeug:127.0.0.1 - - [19/Sep/2025 14:07:29] \"\u001b[35m\u001b[1mPOST /add HTTP/1.1\u001b[0m\" 201 -\n",
            "INFO:werkzeug:127.0.0.1 - - [19/Sep/2025 14:07:31] \"\u001b[35m\u001b[1mPOST /add HTTP/1.1\u001b[0m\" 201 -\n",
            "INFO:werkzeug:127.0.0.1 - - [19/Sep/2025 14:07:34] \"\u001b[35m\u001b[1mPOST /add HTTP/1.1\u001b[0m\" 201 -\n",
            "INFO:werkzeug:127.0.0.1 - - [19/Sep/2025 14:07:36] \"\u001b[35m\u001b[1mPOST /add HTTP/1.1\u001b[0m\" 201 -\n",
            "INFO:werkzeug:127.0.0.1 - - [19/Sep/2025 14:07:38] \"\u001b[35m\u001b[1mPOST /add HTTP/1.1\u001b[0m\" 201 -\n",
            "INFO:werkzeug:127.0.0.1 - - [19/Sep/2025 14:07:40] \"\u001b[35m\u001b[1mPOST /add HTTP/1.1\u001b[0m\" 201 -\n",
            "INFO:werkzeug:127.0.0.1 - - [19/Sep/2025 14:07:42] \"\u001b[35m\u001b[1mPOST /add HTTP/1.1\u001b[0m\" 201 -\n",
            "INFO:werkzeug:127.0.0.1 - - [19/Sep/2025 14:07:45] \"\u001b[35m\u001b[1mPOST /add HTTP/1.1\u001b[0m\" 201 -\n",
            "INFO:werkzeug:127.0.0.1 - - [19/Sep/2025 14:07:47] \"\u001b[35m\u001b[1mPOST /add HTTP/1.1\u001b[0m\" 201 -\n",
            "INFO:werkzeug:127.0.0.1 - - [19/Sep/2025 14:07:49] \"\u001b[35m\u001b[1mPOST /add HTTP/1.1\u001b[0m\" 201 -\n",
            "INFO:werkzeug:127.0.0.1 - - [19/Sep/2025 14:07:51] \"\u001b[35m\u001b[1mPOST /add HTTP/1.1\u001b[0m\" 201 -\n",
            "INFO:werkzeug:127.0.0.1 - - [19/Sep/2025 14:07:53] \"\u001b[35m\u001b[1mPOST /add HTTP/1.1\u001b[0m\" 201 -\n",
            "INFO:werkzeug:127.0.0.1 - - [19/Sep/2025 14:07:55] \"\u001b[35m\u001b[1mPOST /add HTTP/1.1\u001b[0m\" 201 -\n",
            "INFO:werkzeug:127.0.0.1 - - [19/Sep/2025 14:07:58] \"\u001b[35m\u001b[1mPOST /add HTTP/1.1\u001b[0m\" 201 -\n",
            "INFO:werkzeug:127.0.0.1 - - [19/Sep/2025 14:08:00] \"\u001b[35m\u001b[1mPOST /add HTTP/1.1\u001b[0m\" 201 -\n",
            "INFO:werkzeug:127.0.0.1 - - [19/Sep/2025 14:08:02] \"\u001b[35m\u001b[1mPOST /add HTTP/1.1\u001b[0m\" 201 -\n",
            "INFO:werkzeug:127.0.0.1 - - [19/Sep/2025 14:08:04] \"\u001b[35m\u001b[1mPOST /add HTTP/1.1\u001b[0m\" 201 -\n",
            "INFO:werkzeug:127.0.0.1 - - [19/Sep/2025 14:08:06] \"\u001b[35m\u001b[1mPOST /add HTTP/1.1\u001b[0m\" 201 -\n",
            "INFO:werkzeug:127.0.0.1 - - [19/Sep/2025 14:08:08] \"\u001b[35m\u001b[1mPOST /add HTTP/1.1\u001b[0m\" 201 -\n",
            "INFO:werkzeug:127.0.0.1 - - [19/Sep/2025 14:08:11] \"\u001b[35m\u001b[1mPOST /add HTTP/1.1\u001b[0m\" 201 -\n",
            "INFO:werkzeug:127.0.0.1 - - [19/Sep/2025 14:08:13] \"\u001b[35m\u001b[1mPOST /add HTTP/1.1\u001b[0m\" 201 -\n",
            "INFO:werkzeug:127.0.0.1 - - [19/Sep/2025 14:08:15] \"\u001b[35m\u001b[1mPOST /add HTTP/1.1\u001b[0m\" 201 -\n",
            "INFO:werkzeug:127.0.0.1 - - [19/Sep/2025 14:08:17] \"\u001b[35m\u001b[1mPOST /add HTTP/1.1\u001b[0m\" 201 -\n",
            "INFO:werkzeug:127.0.0.1 - - [19/Sep/2025 14:08:19] \"\u001b[35m\u001b[1mPOST /add HTTP/1.1\u001b[0m\" 201 -\n",
            "INFO:werkzeug:127.0.0.1 - - [19/Sep/2025 14:08:22] \"\u001b[35m\u001b[1mPOST /add HTTP/1.1\u001b[0m\" 201 -\n",
            "INFO:werkzeug:127.0.0.1 - - [19/Sep/2025 14:08:24] \"\u001b[35m\u001b[1mPOST /add HTTP/1.1\u001b[0m\" 201 -\n",
            "INFO:werkzeug:127.0.0.1 - - [19/Sep/2025 14:08:26] \"\u001b[35m\u001b[1mPOST /add HTTP/1.1\u001b[0m\" 201 -\n",
            "INFO:werkzeug:127.0.0.1 - - [19/Sep/2025 14:08:28] \"\u001b[35m\u001b[1mPOST /add HTTP/1.1\u001b[0m\" 201 -\n",
            "INFO:werkzeug:127.0.0.1 - - [19/Sep/2025 14:08:30] \"\u001b[35m\u001b[1mPOST /add HTTP/1.1\u001b[0m\" 201 -\n",
            "INFO:werkzeug:127.0.0.1 - - [19/Sep/2025 14:08:32] \"\u001b[35m\u001b[1mPOST /add HTTP/1.1\u001b[0m\" 201 -\n",
            "INFO:werkzeug:127.0.0.1 - - [19/Sep/2025 14:08:35] \"\u001b[35m\u001b[1mPOST /add HTTP/1.1\u001b[0m\" 201 -\n",
            "INFO:werkzeug:127.0.0.1 - - [19/Sep/2025 14:08:37] \"\u001b[35m\u001b[1mPOST /add HTTP/1.1\u001b[0m\" 201 -\n",
            "INFO:werkzeug:127.0.0.1 - - [19/Sep/2025 14:08:39] \"\u001b[35m\u001b[1mPOST /add HTTP/1.1\u001b[0m\" 201 -\n",
            "INFO:werkzeug:127.0.0.1 - - [19/Sep/2025 14:08:41] \"\u001b[35m\u001b[1mPOST /add HTTP/1.1\u001b[0m\" 201 -\n",
            "INFO:werkzeug:127.0.0.1 - - [19/Sep/2025 14:08:43] \"\u001b[35m\u001b[1mPOST /add HTTP/1.1\u001b[0m\" 201 -\n",
            "INFO:werkzeug:127.0.0.1 - - [19/Sep/2025 14:08:46] \"\u001b[35m\u001b[1mPOST /add HTTP/1.1\u001b[0m\" 201 -\n",
            "INFO:werkzeug:127.0.0.1 - - [19/Sep/2025 14:08:48] \"\u001b[35m\u001b[1mPOST /add HTTP/1.1\u001b[0m\" 201 -\n",
            "INFO:werkzeug:127.0.0.1 - - [19/Sep/2025 14:08:50] \"\u001b[35m\u001b[1mPOST /add HTTP/1.1\u001b[0m\" 201 -\n",
            "INFO:werkzeug:127.0.0.1 - - [19/Sep/2025 14:08:52] \"\u001b[35m\u001b[1mPOST /add HTTP/1.1\u001b[0m\" 201 -\n",
            "INFO:werkzeug:127.0.0.1 - - [19/Sep/2025 14:08:54] \"\u001b[35m\u001b[1mPOST /add HTTP/1.1\u001b[0m\" 201 -\n",
            "INFO:werkzeug:127.0.0.1 - - [19/Sep/2025 14:08:56] \"\u001b[35m\u001b[1mPOST /add HTTP/1.1\u001b[0m\" 201 -\n",
            "INFO:werkzeug:127.0.0.1 - - [19/Sep/2025 14:08:59] \"\u001b[35m\u001b[1mPOST /add HTTP/1.1\u001b[0m\" 201 -\n",
            "INFO:werkzeug:127.0.0.1 - - [19/Sep/2025 14:09:01] \"\u001b[35m\u001b[1mPOST /add HTTP/1.1\u001b[0m\" 201 -\n",
            "INFO:werkzeug:127.0.0.1 - - [19/Sep/2025 14:09:03] \"\u001b[35m\u001b[1mPOST /add HTTP/1.1\u001b[0m\" 201 -\n",
            "INFO:werkzeug:127.0.0.1 - - [19/Sep/2025 14:09:05] \"\u001b[35m\u001b[1mPOST /add HTTP/1.1\u001b[0m\" 201 -\n",
            "INFO:werkzeug:127.0.0.1 - - [19/Sep/2025 14:09:07] \"\u001b[35m\u001b[1mPOST /add HTTP/1.1\u001b[0m\" 201 -\n",
            "INFO:werkzeug:127.0.0.1 - - [19/Sep/2025 14:09:10] \"\u001b[35m\u001b[1mPOST /add HTTP/1.1\u001b[0m\" 201 -\n",
            "INFO:werkzeug:127.0.0.1 - - [19/Sep/2025 14:09:12] \"\u001b[35m\u001b[1mPOST /add HTTP/1.1\u001b[0m\" 201 -\n",
            "INFO:werkzeug:127.0.0.1 - - [19/Sep/2025 14:09:14] \"\u001b[35m\u001b[1mPOST /add HTTP/1.1\u001b[0m\" 201 -\n",
            "INFO:werkzeug:127.0.0.1 - - [19/Sep/2025 14:09:16] \"\u001b[35m\u001b[1mPOST /add HTTP/1.1\u001b[0m\" 201 -\n",
            "INFO:werkzeug:127.0.0.1 - - [19/Sep/2025 14:09:18] \"\u001b[35m\u001b[1mPOST /add HTTP/1.1\u001b[0m\" 201 -\n",
            "INFO:werkzeug:127.0.0.1 - - [19/Sep/2025 14:09:19] \"GET / HTTP/1.1\" 200 -\n",
            "INFO:werkzeug:127.0.0.1 - - [19/Sep/2025 14:09:20] \"GET /data HTTP/1.1\" 200 -\n",
            "INFO:werkzeug:127.0.0.1 - - [19/Sep/2025 14:09:21] \"\u001b[35m\u001b[1mPOST /add HTTP/1.1\u001b[0m\" 201 -\n",
            "INFO:werkzeug:127.0.0.1 - - [19/Sep/2025 14:09:23] \"\u001b[35m\u001b[1mPOST /add HTTP/1.1\u001b[0m\" 201 -\n",
            "INFO:werkzeug:127.0.0.1 - - [19/Sep/2025 14:09:25] \"\u001b[35m\u001b[1mPOST /add HTTP/1.1\u001b[0m\" 201 -\n",
            "INFO:werkzeug:127.0.0.1 - - [19/Sep/2025 14:09:27] \"\u001b[35m\u001b[1mPOST /add HTTP/1.1\u001b[0m\" 201 -\n",
            "INFO:werkzeug:127.0.0.1 - - [19/Sep/2025 14:09:29] \"\u001b[35m\u001b[1mPOST /add HTTP/1.1\u001b[0m\" 201 -\n",
            "INFO:werkzeug:127.0.0.1 - - [19/Sep/2025 14:09:32] \"\u001b[35m\u001b[1mPOST /add HTTP/1.1\u001b[0m\" 201 -\n",
            "INFO:werkzeug:127.0.0.1 - - [19/Sep/2025 14:09:34] \"\u001b[35m\u001b[1mPOST /add HTTP/1.1\u001b[0m\" 201 -\n",
            "INFO:werkzeug:127.0.0.1 - - [19/Sep/2025 14:09:36] \"\u001b[35m\u001b[1mPOST /add HTTP/1.1\u001b[0m\" 201 -\n",
            "INFO:werkzeug:127.0.0.1 - - [19/Sep/2025 14:09:38] \"\u001b[35m\u001b[1mPOST /add HTTP/1.1\u001b[0m\" 201 -\n",
            "INFO:werkzeug:127.0.0.1 - - [19/Sep/2025 14:09:40] \"\u001b[35m\u001b[1mPOST /add HTTP/1.1\u001b[0m\" 201 -\n",
            "INFO:werkzeug:127.0.0.1 - - [19/Sep/2025 14:09:42] \"\u001b[35m\u001b[1mPOST /add HTTP/1.1\u001b[0m\" 201 -\n",
            "INFO:werkzeug:127.0.0.1 - - [19/Sep/2025 14:09:45] \"\u001b[35m\u001b[1mPOST /add HTTP/1.1\u001b[0m\" 201 -\n",
            "INFO:werkzeug:127.0.0.1 - - [19/Sep/2025 14:09:47] \"\u001b[35m\u001b[1mPOST /add HTTP/1.1\u001b[0m\" 201 -\n",
            "INFO:werkzeug:127.0.0.1 - - [19/Sep/2025 14:09:49] \"\u001b[35m\u001b[1mPOST /add HTTP/1.1\u001b[0m\" 201 -\n",
            "INFO:werkzeug:127.0.0.1 - - [19/Sep/2025 14:09:51] \"\u001b[35m\u001b[1mPOST /add HTTP/1.1\u001b[0m\" 201 -\n",
            "INFO:werkzeug:127.0.0.1 - - [19/Sep/2025 14:09:53] \"\u001b[35m\u001b[1mPOST /add HTTP/1.1\u001b[0m\" 201 -\n",
            "INFO:werkzeug:127.0.0.1 - - [19/Sep/2025 14:09:56] \"\u001b[35m\u001b[1mPOST /add HTTP/1.1\u001b[0m\" 201 -\n",
            "INFO:werkzeug:127.0.0.1 - - [19/Sep/2025 14:09:58] \"\u001b[35m\u001b[1mPOST /add HTTP/1.1\u001b[0m\" 201 -\n",
            "INFO:werkzeug:127.0.0.1 - - [19/Sep/2025 14:10:00] \"\u001b[35m\u001b[1mPOST /add HTTP/1.1\u001b[0m\" 201 -\n",
            "INFO:werkzeug:127.0.0.1 - - [19/Sep/2025 14:10:02] \"\u001b[35m\u001b[1mPOST /add HTTP/1.1\u001b[0m\" 201 -\n",
            "INFO:werkzeug:127.0.0.1 - - [19/Sep/2025 14:10:04] \"\u001b[35m\u001b[1mPOST /add HTTP/1.1\u001b[0m\" 201 -\n",
            "INFO:werkzeug:127.0.0.1 - - [19/Sep/2025 14:10:06] \"\u001b[35m\u001b[1mPOST /add HTTP/1.1\u001b[0m\" 201 -\n",
            "INFO:werkzeug:127.0.0.1 - - [19/Sep/2025 14:10:09] \"\u001b[35m\u001b[1mPOST /add HTTP/1.1\u001b[0m\" 201 -\n",
            "INFO:werkzeug:127.0.0.1 - - [19/Sep/2025 14:10:11] \"\u001b[35m\u001b[1mPOST /add HTTP/1.1\u001b[0m\" 201 -\n",
            "INFO:werkzeug:127.0.0.1 - - [19/Sep/2025 14:10:13] \"\u001b[35m\u001b[1mPOST /add HTTP/1.1\u001b[0m\" 201 -\n",
            "INFO:werkzeug:127.0.0.1 - - [19/Sep/2025 14:10:15] \"\u001b[35m\u001b[1mPOST /add HTTP/1.1\u001b[0m\" 201 -\n",
            "INFO:werkzeug:127.0.0.1 - - [19/Sep/2025 14:10:17] \"\u001b[35m\u001b[1mPOST /add HTTP/1.1\u001b[0m\" 201 -\n",
            "INFO:werkzeug:127.0.0.1 - - [19/Sep/2025 14:10:20] \"\u001b[35m\u001b[1mPOST /add HTTP/1.1\u001b[0m\" 201 -\n",
            "INFO:werkzeug:127.0.0.1 - - [19/Sep/2025 14:14:03] \"GET / HTTP/1.1\" 200 -\n",
            "INFO:werkzeug:127.0.0.1 - - [19/Sep/2025 14:14:04] \"GET /data HTTP/1.1\" 200 -\n",
            "INFO:werkzeug:127.0.0.1 - - [19/Sep/2025 14:14:10] \"GET / HTTP/1.1\" 200 -\n",
            "INFO:werkzeug:127.0.0.1 - - [19/Sep/2025 14:14:10] \"GET /data HTTP/1.1\" 200 -\n"
          ]
        }
      ]
    },
    {
      "cell_type": "markdown",
      "source": [
        "# Tugas Minggu ke-6\n",
        "\n",
        "1. Tambahkan fitur auto-refresh grafik (misalnya refresh setiap 10 detik dengan setInterval).\n",
        "2. Simulasikan pengiriman 10 data sensor random ke database, lalu tampilkan pada grafik.\n",
        "3. Buat 2 grafik terpisah: (1) temperature, (2) humidity."
      ],
      "metadata": {
        "id": "YnbozzQ_IWJz"
      }
    }
  ]
}